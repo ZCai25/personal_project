{
  "nbformat": 4,
  "nbformat_minor": 0,
  "metadata": {
    "colab": {
      "provenance": []
    },
    "kernelspec": {
      "name": "python3",
      "display_name": "Python 3"
    },
    "language_info": {
      "name": "python"
    }
  },
  "cells": [
    {
      "cell_type": "code",
      "execution_count": null,
      "metadata": {
        "id": "_bNULIDpUKmD",
        "colab": {
          "base_uri": "https://localhost:8080/"
        },
        "outputId": "229fbbfd-ea47-48ab-aa75-fa1cb42c8950"
      },
      "outputs": [
        {
          "output_type": "stream",
          "name": "stdout",
          "text": [
            "Looking in indexes: https://pypi.org/simple, https://us-python.pkg.dev/colab-wheels/public/simple/\n",
            "Collecting praw\n",
            "  Downloading praw-7.6.1-py3-none-any.whl (188 kB)\n",
            "\u001b[2K     \u001b[90m━━━━━━━━━━━━━━━━━━━━━━━━━━━━━━━━━━━━━━━\u001b[0m \u001b[32m188.8/188.8 KB\u001b[0m \u001b[31m4.9 MB/s\u001b[0m eta \u001b[36m0:00:00\u001b[0m\n",
            "\u001b[?25hCollecting prawcore<3,>=2.1\n",
            "  Downloading prawcore-2.3.0-py3-none-any.whl (16 kB)\n",
            "Collecting websocket-client>=0.54.0\n",
            "  Downloading websocket_client-1.5.1-py3-none-any.whl (55 kB)\n",
            "\u001b[2K     \u001b[90m━━━━━━━━━━━━━━━━━━━━━━━━━━━━━━━━━━━━━━━━\u001b[0m \u001b[32m55.9/55.9 KB\u001b[0m \u001b[31m6.2 MB/s\u001b[0m eta \u001b[36m0:00:00\u001b[0m\n",
            "\u001b[?25hCollecting update-checker>=0.18\n",
            "  Downloading update_checker-0.18.0-py3-none-any.whl (7.0 kB)\n",
            "Requirement already satisfied: requests<3.0,>=2.6.0 in /usr/local/lib/python3.8/dist-packages (from prawcore<3,>=2.1->praw) (2.25.1)\n",
            "Requirement already satisfied: certifi>=2017.4.17 in /usr/local/lib/python3.8/dist-packages (from requests<3.0,>=2.6.0->prawcore<3,>=2.1->praw) (2022.12.7)\n",
            "Requirement already satisfied: urllib3<1.27,>=1.21.1 in /usr/local/lib/python3.8/dist-packages (from requests<3.0,>=2.6.0->prawcore<3,>=2.1->praw) (1.24.3)\n",
            "Requirement already satisfied: idna<3,>=2.5 in /usr/local/lib/python3.8/dist-packages (from requests<3.0,>=2.6.0->prawcore<3,>=2.1->praw) (2.10)\n",
            "Requirement already satisfied: chardet<5,>=3.0.2 in /usr/local/lib/python3.8/dist-packages (from requests<3.0,>=2.6.0->prawcore<3,>=2.1->praw) (4.0.0)\n",
            "Installing collected packages: websocket-client, update-checker, prawcore, praw\n",
            "Successfully installed praw-7.6.1 prawcore-2.3.0 update-checker-0.18.0 websocket-client-1.5.1\n"
          ]
        }
      ],
      "source": [
        "! pip install praw"
      ]
    },
    {
      "cell_type": "code",
      "source": [
        "import praw\n",
        "import pandas as pd\n",
        "import numpy as np\n",
        "import datetime"
      ],
      "metadata": {
        "id": "haxnOluzW59v"
      },
      "execution_count": null,
      "outputs": []
    },
    {
      "cell_type": "code",
      "source": [
        "reddit = praw.Reddit(\n",
        "    client_id=\"h03ajExQUhMeHbuSvNvLnA\",\n",
        "    client_secret=\"jZhHv8M0D8JlH77KHy3aNwe5n1aizA\",\n",
        "    user_agent=\"Python:My Example App:v1 (by /u/thedatabois)\",\n",
        "    password=\"msds697distdata\",\n",
        "    username=\"thedatabois\",\n",
        "    check_for_async=False\n",
        ")"
      ],
      "metadata": {
        "id": "Zcok42SSU7ea"
      },
      "execution_count": null,
      "outputs": []
    },
    {
      "cell_type": "code",
      "source": [
        "str(submission.subreddit)"
      ],
      "metadata": {
        "colab": {
          "base_uri": "https://localhost:8080/",
          "height": 35
        },
        "id": "iR2Ntq8DYhIF",
        "outputId": "051ef94c-88c8-451e-c264-99596369909c"
      },
      "execution_count": null,
      "outputs": [
        {
          "output_type": "execute_result",
          "data": {
            "text/plain": [
              "'entertainment'"
            ],
            "application/vnd.google.colaboratory.intrinsic+json": {
              "type": "string"
            }
          },
          "metadata": {},
          "execution_count": 12
        }
      ]
    },
    {
      "cell_type": "code",
      "source": [
        "subreddit_name = 'news'\n",
        "subreddit = reddit.subreddit(subreddit_name)\n",
        "\n",
        "\n",
        "# get the daily posts from the subreddit\n",
        "daily_posts = subreddit.top(time_filter=\"day\", limit=50)\n",
        "lst=[]\n",
        "for post in daily_posts:\n",
        "    # retrieve the requested values for each post\n",
        "    post_id = post.id\n",
        "    title = post.title\n",
        "    subreddit = post.subreddit.display_name\n",
        "    datetime_utc = datetime.datetime.utcfromtimestamp(post.created_utc)\n",
        "    post_karma = post.score\n",
        "    num_comments = post.num_comments\n",
        "    awards = post.total_awards_received\n",
        "    lst.append([post_id,title,subreddit,datetime_utc,post_karma,num_comments,awards])"
      ],
      "metadata": {
        "id": "n-a5DSYYX06k"
      },
      "execution_count": null,
      "outputs": []
    },
    {
      "cell_type": "code",
      "source": [
        "# Define column names for the dataframe\n",
        "columns = ['post_id', 'title', 'subreddit', 'datetime', 'postkarma', 'num_comments', 'num_awards']\n",
        "\n",
        "# Create the pandas dataframe from the list of data and column names\n",
        "df_news = pd.DataFrame(lst, columns=columns)"
      ],
      "metadata": {
        "id": "B4Ja5zl9ZYbT"
      },
      "execution_count": null,
      "outputs": []
    },
    {
      "cell_type": "code",
      "source": [],
      "metadata": {
        "id": "SftSGZLiaOZn"
      },
      "execution_count": null,
      "outputs": []
    },
    {
      "cell_type": "code",
      "source": [
        "#Comment CSV file\n",
        "subreddit_name = 'news'\n",
        "subreddit = reddit.subreddit(subreddit_name)\n",
        "\n",
        "# get the daily posts from the subreddit\n",
        "daily_posts = subreddit.top(time_filter=\"day\", limit=50)\n",
        "comments_list=[]\n",
        "for post in daily_posts:  \n",
        "    post_id = post.id\n",
        "    subreddit = post.subreddit.display_name\n",
        "    for comment in post.comments[:-1]:\n",
        "        comment_id = comment.id\n",
        "        comment_text = comment.body\n",
        "        comment_karma = comment.score\n",
        "        comment_time = datetime.datetime.utcfromtimestamp(comment.created_utc)\n",
        "        comments_list.append([post_id, subreddit, comment_id, comment_text, comment_karma, comment_time])"
      ],
      "metadata": {
        "id": "qK_j7pcPaOoL"
      },
      "execution_count": null,
      "outputs": []
    },
    {
      "cell_type": "code",
      "source": [
        "# Define column names for the dataframe\n",
        "columns = ['post_id', 'subreddit', 'comment_id', 'comment_text', 'comment_karma', 'comment_time']\n",
        "\n",
        "# Create the pandas dataframe from the list of data and column names\n",
        "df_news_comments = pd.DataFrame(comments_list, columns=columns)"
      ],
      "metadata": {
        "id": "kt2-wOy0lBqg"
      },
      "execution_count": null,
      "outputs": []
    },
    {
      "cell_type": "code",
      "source": [
        "df_news_comments"
      ],
      "metadata": {
        "colab": {
          "base_uri": "https://localhost:8080/",
          "height": 424
        },
        "id": "0apSZfcjlO6q",
        "outputId": "d094be23-b008-4253-88ad-496280b4c482"
      },
      "execution_count": null,
      "outputs": [
        {
          "output_type": "execute_result",
          "data": {
            "text/plain": [
              "     post_id subreddit comment_id  \\\n",
              "0    117sly4      news    j9do9yt   \n",
              "1    117sly4      news    j9dmja6   \n",
              "2    117sly4      news    j9e4wlt   \n",
              "3    117sly4      news    j9dizqp   \n",
              "4    117sly4      news    j9dige5   \n",
              "..       ...       ...        ...   \n",
              "901  1186y97      news    j9gdq17   \n",
              "902  1186y97      news    j9g0yoi   \n",
              "903  1186y97      news    j9fooya   \n",
              "904  1186y97      news    j9gmoio   \n",
              "905  1186y97      news    j9h4c8x   \n",
              "\n",
              "                                          comment_text  comment_karma  \\\n",
              "0    Wasn't this all over the news 6-7 years ago (m...           6213   \n",
              "1    Quite a few countries have been banning it as ...           8442   \n",
              "2    Just to present some informed information abou...           5605   \n",
              "3    So, potassium bromate, and other additives tha...           6492   \n",
              "4                      Deregulation benefits the rich.          12425   \n",
              "..                                                 ...            ...   \n",
              "901  Yeah because they're getting people to downloa...              2   \n",
              "902                     So, cutting out the middleman?              3   \n",
              "903  We have to stop these evil communists from bea...             -3   \n",
              "904  No idea how successful they become but what a ...              1   \n",
              "905                Probably paying ppl to download it.              1   \n",
              "\n",
              "           comment_time  \n",
              "0   2023-02-21 03:53:46  \n",
              "1   2023-02-21 03:39:00  \n",
              "2   2023-02-21 06:43:15  \n",
              "3   2023-02-21 03:09:43  \n",
              "4   2023-02-21 03:05:23  \n",
              "..                  ...  \n",
              "901 2023-02-21 19:16:49  \n",
              "902 2023-02-21 17:36:39  \n",
              "903 2023-02-21 16:17:27  \n",
              "904 2023-02-21 20:38:18  \n",
              "905 2023-02-21 22:56:18  \n",
              "\n",
              "[906 rows x 6 columns]"
            ],
            "text/html": [
              "\n",
              "  <div id=\"df-2e6da1ac-ad1e-40fb-bab5-d147dea6eeef\">\n",
              "    <div class=\"colab-df-container\">\n",
              "      <div>\n",
              "<style scoped>\n",
              "    .dataframe tbody tr th:only-of-type {\n",
              "        vertical-align: middle;\n",
              "    }\n",
              "\n",
              "    .dataframe tbody tr th {\n",
              "        vertical-align: top;\n",
              "    }\n",
              "\n",
              "    .dataframe thead th {\n",
              "        text-align: right;\n",
              "    }\n",
              "</style>\n",
              "<table border=\"1\" class=\"dataframe\">\n",
              "  <thead>\n",
              "    <tr style=\"text-align: right;\">\n",
              "      <th></th>\n",
              "      <th>post_id</th>\n",
              "      <th>subreddit</th>\n",
              "      <th>comment_id</th>\n",
              "      <th>comment_text</th>\n",
              "      <th>comment_karma</th>\n",
              "      <th>comment_time</th>\n",
              "    </tr>\n",
              "  </thead>\n",
              "  <tbody>\n",
              "    <tr>\n",
              "      <th>0</th>\n",
              "      <td>117sly4</td>\n",
              "      <td>news</td>\n",
              "      <td>j9do9yt</td>\n",
              "      <td>Wasn't this all over the news 6-7 years ago (m...</td>\n",
              "      <td>6213</td>\n",
              "      <td>2023-02-21 03:53:46</td>\n",
              "    </tr>\n",
              "    <tr>\n",
              "      <th>1</th>\n",
              "      <td>117sly4</td>\n",
              "      <td>news</td>\n",
              "      <td>j9dmja6</td>\n",
              "      <td>Quite a few countries have been banning it as ...</td>\n",
              "      <td>8442</td>\n",
              "      <td>2023-02-21 03:39:00</td>\n",
              "    </tr>\n",
              "    <tr>\n",
              "      <th>2</th>\n",
              "      <td>117sly4</td>\n",
              "      <td>news</td>\n",
              "      <td>j9e4wlt</td>\n",
              "      <td>Just to present some informed information abou...</td>\n",
              "      <td>5605</td>\n",
              "      <td>2023-02-21 06:43:15</td>\n",
              "    </tr>\n",
              "    <tr>\n",
              "      <th>3</th>\n",
              "      <td>117sly4</td>\n",
              "      <td>news</td>\n",
              "      <td>j9dizqp</td>\n",
              "      <td>So, potassium bromate, and other additives tha...</td>\n",
              "      <td>6492</td>\n",
              "      <td>2023-02-21 03:09:43</td>\n",
              "    </tr>\n",
              "    <tr>\n",
              "      <th>4</th>\n",
              "      <td>117sly4</td>\n",
              "      <td>news</td>\n",
              "      <td>j9dige5</td>\n",
              "      <td>Deregulation benefits the rich.</td>\n",
              "      <td>12425</td>\n",
              "      <td>2023-02-21 03:05:23</td>\n",
              "    </tr>\n",
              "    <tr>\n",
              "      <th>...</th>\n",
              "      <td>...</td>\n",
              "      <td>...</td>\n",
              "      <td>...</td>\n",
              "      <td>...</td>\n",
              "      <td>...</td>\n",
              "      <td>...</td>\n",
              "    </tr>\n",
              "    <tr>\n",
              "      <th>901</th>\n",
              "      <td>1186y97</td>\n",
              "      <td>news</td>\n",
              "      <td>j9gdq17</td>\n",
              "      <td>Yeah because they're getting people to downloa...</td>\n",
              "      <td>2</td>\n",
              "      <td>2023-02-21 19:16:49</td>\n",
              "    </tr>\n",
              "    <tr>\n",
              "      <th>902</th>\n",
              "      <td>1186y97</td>\n",
              "      <td>news</td>\n",
              "      <td>j9g0yoi</td>\n",
              "      <td>So, cutting out the middleman?</td>\n",
              "      <td>3</td>\n",
              "      <td>2023-02-21 17:36:39</td>\n",
              "    </tr>\n",
              "    <tr>\n",
              "      <th>903</th>\n",
              "      <td>1186y97</td>\n",
              "      <td>news</td>\n",
              "      <td>j9fooya</td>\n",
              "      <td>We have to stop these evil communists from bea...</td>\n",
              "      <td>-3</td>\n",
              "      <td>2023-02-21 16:17:27</td>\n",
              "    </tr>\n",
              "    <tr>\n",
              "      <th>904</th>\n",
              "      <td>1186y97</td>\n",
              "      <td>news</td>\n",
              "      <td>j9gmoio</td>\n",
              "      <td>No idea how successful they become but what a ...</td>\n",
              "      <td>1</td>\n",
              "      <td>2023-02-21 20:38:18</td>\n",
              "    </tr>\n",
              "    <tr>\n",
              "      <th>905</th>\n",
              "      <td>1186y97</td>\n",
              "      <td>news</td>\n",
              "      <td>j9h4c8x</td>\n",
              "      <td>Probably paying ppl to download it.</td>\n",
              "      <td>1</td>\n",
              "      <td>2023-02-21 22:56:18</td>\n",
              "    </tr>\n",
              "  </tbody>\n",
              "</table>\n",
              "<p>906 rows × 6 columns</p>\n",
              "</div>\n",
              "      <button class=\"colab-df-convert\" onclick=\"convertToInteractive('df-2e6da1ac-ad1e-40fb-bab5-d147dea6eeef')\"\n",
              "              title=\"Convert this dataframe to an interactive table.\"\n",
              "              style=\"display:none;\">\n",
              "        \n",
              "  <svg xmlns=\"http://www.w3.org/2000/svg\" height=\"24px\"viewBox=\"0 0 24 24\"\n",
              "       width=\"24px\">\n",
              "    <path d=\"M0 0h24v24H0V0z\" fill=\"none\"/>\n",
              "    <path d=\"M18.56 5.44l.94 2.06.94-2.06 2.06-.94-2.06-.94-.94-2.06-.94 2.06-2.06.94zm-11 1L8.5 8.5l.94-2.06 2.06-.94-2.06-.94L8.5 2.5l-.94 2.06-2.06.94zm10 10l.94 2.06.94-2.06 2.06-.94-2.06-.94-.94-2.06-.94 2.06-2.06.94z\"/><path d=\"M17.41 7.96l-1.37-1.37c-.4-.4-.92-.59-1.43-.59-.52 0-1.04.2-1.43.59L10.3 9.45l-7.72 7.72c-.78.78-.78 2.05 0 2.83L4 21.41c.39.39.9.59 1.41.59.51 0 1.02-.2 1.41-.59l7.78-7.78 2.81-2.81c.8-.78.8-2.07 0-2.86zM5.41 20L4 18.59l7.72-7.72 1.47 1.35L5.41 20z\"/>\n",
              "  </svg>\n",
              "      </button>\n",
              "      \n",
              "  <style>\n",
              "    .colab-df-container {\n",
              "      display:flex;\n",
              "      flex-wrap:wrap;\n",
              "      gap: 12px;\n",
              "    }\n",
              "\n",
              "    .colab-df-convert {\n",
              "      background-color: #E8F0FE;\n",
              "      border: none;\n",
              "      border-radius: 50%;\n",
              "      cursor: pointer;\n",
              "      display: none;\n",
              "      fill: #1967D2;\n",
              "      height: 32px;\n",
              "      padding: 0 0 0 0;\n",
              "      width: 32px;\n",
              "    }\n",
              "\n",
              "    .colab-df-convert:hover {\n",
              "      background-color: #E2EBFA;\n",
              "      box-shadow: 0px 1px 2px rgba(60, 64, 67, 0.3), 0px 1px 3px 1px rgba(60, 64, 67, 0.15);\n",
              "      fill: #174EA6;\n",
              "    }\n",
              "\n",
              "    [theme=dark] .colab-df-convert {\n",
              "      background-color: #3B4455;\n",
              "      fill: #D2E3FC;\n",
              "    }\n",
              "\n",
              "    [theme=dark] .colab-df-convert:hover {\n",
              "      background-color: #434B5C;\n",
              "      box-shadow: 0px 1px 3px 1px rgba(0, 0, 0, 0.15);\n",
              "      filter: drop-shadow(0px 1px 2px rgba(0, 0, 0, 0.3));\n",
              "      fill: #FFFFFF;\n",
              "    }\n",
              "  </style>\n",
              "\n",
              "      <script>\n",
              "        const buttonEl =\n",
              "          document.querySelector('#df-2e6da1ac-ad1e-40fb-bab5-d147dea6eeef button.colab-df-convert');\n",
              "        buttonEl.style.display =\n",
              "          google.colab.kernel.accessAllowed ? 'block' : 'none';\n",
              "\n",
              "        async function convertToInteractive(key) {\n",
              "          const element = document.querySelector('#df-2e6da1ac-ad1e-40fb-bab5-d147dea6eeef');\n",
              "          const dataTable =\n",
              "            await google.colab.kernel.invokeFunction('convertToInteractive',\n",
              "                                                     [key], {});\n",
              "          if (!dataTable) return;\n",
              "\n",
              "          const docLinkHtml = 'Like what you see? Visit the ' +\n",
              "            '<a target=\"_blank\" href=https://colab.research.google.com/notebooks/data_table.ipynb>data table notebook</a>'\n",
              "            + ' to learn more about interactive tables.';\n",
              "          element.innerHTML = '';\n",
              "          dataTable['output_type'] = 'display_data';\n",
              "          await google.colab.output.renderOutput(dataTable, element);\n",
              "          const docLink = document.createElement('div');\n",
              "          docLink.innerHTML = docLinkHtml;\n",
              "          element.appendChild(docLink);\n",
              "        }\n",
              "      </script>\n",
              "    </div>\n",
              "  </div>\n",
              "  "
            ]
          },
          "metadata": {},
          "execution_count": 14
        }
      ]
    }
  ]
}