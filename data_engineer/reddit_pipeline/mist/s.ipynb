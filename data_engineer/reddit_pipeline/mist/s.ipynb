{
 "cells": [
  {
   "cell_type": "code",
   "execution_count": null,
   "metadata": {
    "collapsed": true
   },
   "outputs": [],
   "source": [
    "from user_definition import *\n",
    "\n",
    "with DAG(\n",
    "    dag_id=\"msds697_task_2\",\n",
    "    schedule_interval='@daily',\n",
    "    start_date=datetime.datetime(2023, 2, 21),\n",
    "    end_date=datetime.datetime(2023, 3, 10)\n",
    "    ) as dag:\n",
    "\n",
    "    create_insert_aggregate = SparkSubmitOperator(\n",
    "        task_id=\"aggregate_creation\",\n",
    "        packages=\"com.google.cloud.bigdataoss:gcs-connector:hadoop2-1.9.17,org.mongodb.spark:mongo-spark-connector_2.12:3.0.1\",\n",
    "        exclude_packages=\"javax.jms:jms,com.sun.jdmk:jmxtools,com.sun.jmx:jmxri\",\n",
    "        conf={\"spark.driver.userClassPathFirst\":True,\n",
    "             \"spark.executor.userClassPathFirst\":True\n",
    "            #  \"spark.hadoop.fs.gs.impl\":\"com.google.cloud.hadoop.fs.gcs.GoogleHadoopFileSystem\",\n",
    "            #  \"spark.hadoop.fs.AbstractFileSystem.gs.impl\":\"com.google.cloud.hadoop.fs.gcs.GoogleHadoopFS\",\n",
    "            #  \"spark.hadoop.fs.gs.auth.service.account.enable\":True,\n",
    "            #  \"google.cloud.auth.service.account.json.keyfile\":service_account_key_file,\n",
    "             },\n",
    "        verbose=True,\n",
    "        application='agg_to_mongo.py'\n",
    "    )\n",
    "\n",
    "    create_insert_aggregate"
   ]
  }
 ],
 "metadata": {
  "kernelspec": {
   "display_name": "Python 3",
   "language": "python",
   "name": "python3"
  },
  "language_info": {
   "codemirror_mode": {
    "name": "ipython",
    "version": 2
   },
   "file_extension": ".py",
   "mimetype": "text/x-python",
   "name": "python",
   "nbconvert_exporter": "python",
   "pygments_lexer": "ipython2",
   "version": "2.7.6"
  }
 },
 "nbformat": 4,
 "nbformat_minor": 0
}
