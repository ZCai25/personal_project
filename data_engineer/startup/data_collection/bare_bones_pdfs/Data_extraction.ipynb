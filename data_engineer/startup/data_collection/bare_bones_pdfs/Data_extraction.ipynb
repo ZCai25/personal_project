{
  "nbformat": 4,
  "nbformat_minor": 0,
  "metadata": {
    "colab": {
      "provenance": []
    },
    "kernelspec": {
      "name": "python3",
      "display_name": "Python 3"
    },
    "language_info": {
      "name": "python"
    }
  },
  "cells": [
    {
      "cell_type": "code",
      "source": [
        "from google.colab import drive\n",
        "\n",
        "drive.mount(\"/content/drive\")"
      ],
      "metadata": {
        "colab": {
          "base_uri": "https://localhost:8080/"
        },
        "id": "SVdx6so4vvIr",
        "outputId": "99fcaec2-235f-4f16-889e-62b7c610da7b"
      },
      "execution_count": 4,
      "outputs": [
        {
          "output_type": "stream",
          "name": "stdout",
          "text": [
            "Drive already mounted at /content/drive; to attempt to forcibly remount, call drive.mount(\"/content/drive\", force_remount=True).\n"
          ]
        }
      ]
    },
    {
      "cell_type": "code",
      "source": [
        "# !pip install black[jupyter]"
      ],
      "metadata": {
        "id": "GfDzstymwABn"
      },
      "execution_count": null,
      "outputs": []
    },
    {
      "cell_type": "code",
      "source": [
        "!black '/content/drive/MyDrive/Colab Notebooks/Data_extraction.ipynb'"
      ],
      "metadata": {
        "id": "NTVNau6RwVfR",
        "colab": {
          "base_uri": "https://localhost:8080/"
        },
        "outputId": "35aef6e9-8d39-446d-813d-adc2eaadf9a6"
      },
      "execution_count": 5,
      "outputs": [
        {
          "output_type": "stream",
          "name": "stdout",
          "text": [
            "\u001b[1mAll done! ✨ 🍰 ✨\u001b[0m\n",
            "\u001b[34m1 file \u001b[0mleft unchanged.\n"
          ]
        }
      ]
    },
    {
      "cell_type": "code",
      "execution_count": null,
      "metadata": {
        "id": "zpvGgqM6VBUR"
      },
      "outputs": [],
      "source": [
        "import json\n",
        "\n",
        "with open(\"/content/structuredData.json\") as f:\n",
        "    data = json.load(f)"
      ]
    },
    {
      "cell_type": "code",
      "source": [
        "data[\"elements\"]"
      ],
      "metadata": {
        "id": "1QM4CbuPVNZ2"
      },
      "execution_count": null,
      "outputs": []
    },
    {
      "cell_type": "code",
      "source": [
        "heading_counter = 0\n",
        "\n",
        "heading_list_1 = []\n",
        "heading_values_list_1 = []\n",
        "\n",
        "heading_values = \"\"\n",
        "heading_counter = 0\n",
        "\n",
        "for ele in data[\"elements\"]:\n",
        "    if \"Document/H1\" in ele[\"Path\"]:\n",
        "        heading_values_list_1.append(heading_values)\n",
        "        heading_values = \"\"\n",
        "        heading_counter = 0\n",
        "        if heading_counter == 0:\n",
        "            heading_counter = 1\n",
        "            heading_value_1 = ele[\"Text\"]\n",
        "            heading_list_1.append(heading_value_1)\n",
        "            continue\n",
        "    if \"Text\" in ele and heading_counter == 1:\n",
        "        heading_values += ele[\"Text\"]\n",
        "        # print(heading_values)\n",
        "\n",
        "heading_values_list_1.append(heading_values)\n",
        "\n",
        "print(heading_list_1)\n",
        "print(heading_values_list_1[1:])"
      ],
      "metadata": {
        "colab": {
          "base_uri": "https://localhost:8080/"
        },
        "id": "qbovA6r1b0fR",
        "outputId": "86c334a1-b02c-4df0-cbe3-6b9a680aad7a"
      },
      "execution_count": null,
      "outputs": [
        {
          "output_type": "stream",
          "name": "stdout",
          "text": [
            "['\\ue02110 \\ue026\\ue027\\ue027\\ue028\\ue029\\ue02a \\ue02a\\ue02b\\ue025\\ue023\\ue02c\\ue028\\ue02b\\ue025\\ue02c ', '\\ue02a\\ue02b\\ue023\\ue02e\\ue02c \\ue023\\ue022\\ue021 \\ue021\\ue025\\ue02f\\ue030\\ue029\\ue02b\\ue031 (\\ue02112) ', '\\ue032\\ue025\\ue023\\ue02a\\ue02d\\ue025\\ue02b (\\ue02112) ', '\\ue027\\ue026\\ue02b\\ue02e\\ue02c\\ue025 \\ue02e\\ue029\\ue028\\ue022\\ue021\\ue025\\ue02b\\ue030\\ue022\\ue033 (\\ue02166) ', '\\ue027\\ue026\\ue02b\\ue02e\\ue02c\\ue025 \\ue02e\\ue029\\ue028\\ue022\\ue021\\ue025\\ue02b\\ue030\\ue022\\ue033 (\\ue02166) \\ue027\\ue026\\ue022\\ue02a. ', 'What Was Written Must Be Known ', 'Galgenbeck ', 'Sarkash ', 'Palace of the Shadow King ', 'Grift ', 'Kergüs ', 'The Western Kingdom ', 'Valley of the Unfortunate Undead ', 'The Calendar of Nechrubel ']\n",
            "['1 \\ue023\\ue024\\ue025-\\ue026\\ue027\\ue028\\ue029 \\ue027\\ue02a\\ue02b\\ue026 a finger- width wide. All that passes through is obliterated. 2 \\ue022e keening music of this small, \\ue02c\\ue02a\\ue02d\\ue028 \\ue02e\\ue02d\\ue02f\\ue030\\ue028 animates a fetus-sized meat golem in a nearby corpse. \\ue02d\\ue02e 5 Morale - No armor Bite \\ue0314 immune to Powers. 3 A note explains: one taste from this \\ue02e\\ue023\\ue032\\ue02a\\ue02b\\ue028 \\ue024\\ue033\\ue034\\ue034\\ue02b means death from slow starvation. 4 \\ue022e image of a being in this malevolently-accurate \\ue032\\ue02a\\ue027\\ue027\\ue034\\ue027 shows only the shameful truth of their soul. 5 \\ue02c\\ue023\\ue032\\ue033\\ue02a\\ue027\\ue02a\\ue035 \\ue033\\ue025\\ue02f\\ue027\\ue036\\ue023. Heals you as it harms your target (\\ue0313), but beware: after stealing a total of 6 \\ue025\\ue033, test Presence \\ue031\\ue02714 or become addicted—you must then test Presence \\ue031\\ue02712 daily. Fail and you must stab someone with the knife before next sunrise. Or wither to ash and die as the sun rises. 6 A black \\ue033\\ue028\\ue023\\ue027\\ue02d. If dropped in darkness it rolls towards the nearest exit to day. 7 \\ue022is \\ue030\\ue034\\ue027\\ue035\\ue025 burns for an immortal hour. Hold it and live. You can lose limbs and enter negative \\ue025\\ue033 but won’t die unless you drop the torch or it burns out. 8 Silver \\ue036\\ue02a\\ue027\\ue031 \\ue035\\ue023\\ue026\\ue028 slays whatever is placed behind its bars, slowly, over one long night. \\ue022at which is killed reanimates twice as strong, as a raging  uncontrollable undead. 9 \\ue036\\ue02d\\ue023\\ue035\\ue037 \\ue035\\ue027\\ue034\\ue038\\ue02b \\ue034\\ue02e \\ue030\\ue025\\ue028 \\ue035\\ue027\\ue02a\\ue033\\ue033\\ue02d\\ue028\\ue031 \\ue037\\ue02a\\ue02b\\ue026. Wearing this crooks your body as you become aware that you and every creature within 100 yards gain +10 to a\\ue021ack rolls but \\ue03910 to defence rolls. Rolls that go above 20 count as crits, and below 1 as fumbles. \\ue022e worn crown can only be removed in the pale light of a full moon. 10 Anyone wearing this ancient \\ue036\\ue02d\\ue02a\\ue02b\\ue031\\ue02e\\ue034\\ue02d\\ue031 becomes invisible to those who breathe though the undead a\\ue021ack them obsessively and nearby corpses awaken in moaning, unholy wrath. ', '1 Well dressed corpse, booby trapped 2 Wall-holes shoot poisonous arrows 3 Bells and marbles on the floor 4 Scorpion-filled basket poised to fall 5 Fish hooks hanging at eye level 6 Chest marked with explosive runes 7 Lock trapped with vial of poison gas 8 Jewel removal leads to roof collapse 9 Slanted floor, translucent oil, pit 10 Snake-cages on collapsing ceiling tiles 11 Evil urns release cold ghosts 12 Coins coated in grime and poison ', '1 Lifeless grey 7 Cloudburst 2 Hammering rain 8 Soup-thick mist 3 Piercing wind 9 Crackling frost 4 Deafening storm 10 Irritating drizzle 5 Black as night 11 Roaring thunder 6 Dead quiet 12 Gravelike cold ', '11–16 \\ue022e remains of something worthless crumbles in your hands. 21 Pot filled with extremely potent itching ointment. 22 Necklace of human teeth. 23 Bag of angry, venomous moths. Test Toughness \\ue031\\ue0276 or die. 24 Pocket full of broken glass, \\ue033\\ue035 takes \\ue0312 damage. 25 Mad manifesto. If read, test Presence \\ue031\\ue02712 or lose 1 Presence permanently from confusion. 26 Key to nearby locked door. Stolen. ', '31 Map to a weak but wealthy family’s house. 32 A hopeless amount of spiders. 33 Metal cylinder with gunpowder and fuse. Roll a \\ue0316.  1–2 you lose a hand. 3–6 3\\ue03110 damage wherever it lands. 34 Known and liked/despised witch-hunter’s face. Flayed. 35 Note with \\ue033\\ue035’s names. One is crossed out. 36 Tortured pixie with torn-o\\ue03a wings and gouged out eyes. 41 Map to a place that cannot  possibly exist. 42 Unmarked bo\\ue021le with a liquid that shifts between red and green. 43 Bond. A local potentate owes the holder a  sizable amount. 44 Death mask of one of the \\ue033\\ue035s. 45 \\ue022e ‘Water of Life.’ Heals \\ue0318. Test Toughness \\ue031\\ue02710 or go blind. Highly alcoholic. 46 \\ue022ere was something very wrong with this one. Hands covered with something lukewarm, brown and acidic. Take \\ue0312+1 damage and smell terrible for \\ue0314 days. 51 Black Kergüs  dagger. 2\\ue0314 damage. 52 Labelled  poison bo\\ue021le. Test  Toughness \\ue031\\ue02712 or lower random ability by \\ue0314. \\ue022e ability can be increased when your character is improved. 53 Scalp with long black hair. 54 Golden ball with an  invisible seam, twists open. 55 Bloodstained knuckle-duster. 56 Two weighted dice. 61–66 \\ue022e result in silver. \\ue021e Wind from the west. From the sundered land. Rot rides it, and the stench of blood. Cursed walker, will you travel there? To the Valley of the Unfortunate Undead? Our young ones are taken by the child-thief Tergol, known for his vile crimes and alchemy of flesh. D\\ue02a\\ue024\\ue030\\ue023\\ue02b\\ue035\\ue028\\ue024 \\ue024\\ue025\\ue02a\\ue02e\\ue030. \\ue033\\ue023\\ue030\\ue025\\ue024 \\ue036\\ue028\\ue030\\ue038\\ue028\\ue028\\ue02b \\ue033\\ue02d\\ue023\\ue035\\ue028\\ue024 \\ue038\\ue023\\ue027\\ue033. As if this pale, lightless world possessed a will and bi\\ue021er life. Its mercy curdled to wrath over a too-long age. Who are you? \\ue022e grave robber with silver gli\\ue021ering between cracked fingernails? \\ue022e mystic who would bend the world’s miserable heart away from its inevitable end? Most likely, it makes li\\ue021le di\\ue03aerence. No one has seen the sun in years. \\ue022e old care more for sacrifice and god-o\\ue03aerings than their bawling spawn. Doomsayers are proved right time and again and embraced by hidden powers. Maybe it’s best to surrender—to trust your own instinct and skill rather than the whim of the dice? Before all is drowned in welcome silence. Life locked and failing in a \\ue021\\ue022\\ue023\\ue024 \\ue025\\ue026\\ue023\\ue027. ', 'I A\\ue02b\\ue02f\\ue037 \\ue024\\ue035\\ue025\\ue02d\\ue028\\ue026\\ue028\\ue027, monk of the Creton order, encountered the basilisk Verhu in the year 565 and set down that creature’s whispered prophecies. \\ue022ese lost texts came to be known as the Nameless Scriptures. 300 years later, while working on a new Cathedral, \\ue022e Two-Headed Basilisks, an orthodox branch of the Creton order uncovered Schlegers tomb and with it the Scriptures. Since then all events described within have come to pass. \\ue022e prophecies are absolutely, factually true and have, thus, supplanted all other Scripture. Around this cathedral has grown Galgenbeck, the greatest city that ever was. II T\\ue025\\ue028 \\ue036\\ue023\\ue024\\ue02a\\ue02d\\ue02a\\ue024\\ue037\\ue024 \\ue023\\ue027\\ue028 \\ue030\\ue038\\ue034 \\ue023\\ue02b\\ue031 \\ue030\\ue038\\ue034-\\ue025\\ue028\\ue023\\ue031\\ue028\\ue031. \\ue022e four heads have argued for hundreds of years. Verhu predicts inexorable annihilation and, since he’s always right, has become u\\ue021erly full of himself. His is also the head worshipped most. If you could learn the codes of the apocalypse perhaps the right o\\ue03aerings might avert it? Verhu loves his position and hungers for temples to be raised in his name. III W\\ue025\\ue028\\ue02b \\ue030\\ue025\\ue028 \\ue038\\ue034\\ue027\\ue02d\\ue031 was but water, dust and clouds thick with plague-fat flies came \\ue024\\ue025\\ue028, first of the basilisks. From the cracks of Bergen Chrypt \\ue024\\ue025\\ue028 crawled. \\ue024\\ue025\\ue028 bears the head of Denial, Lusi, who looks up and down. Yet all shall be well. Her twin Arkh, Head of Deception, claims to be the first prophet of truths now prostituted by Verhu. Few have ever seen her, the oldest, but many walk her twin paths. \\ue024\\ue025\\ue028 spawned many since the dawn of time, their conceptions not without agony. All were cast down the cli\\ue03as of Bergen Chrypt, only \\ue025\\ue028 survived. Down in the Valley of the Unfortunate Undead his eyes locked upon the mountain’s peak, \\ue025\\ue028 spits out curses upon his evil mother. \\ue022e head Gorgh is bi\\ue021er, rank with envy that only his twin Verhu knows the damned truth. Time and time again his prophecies are brought to be. \\ue022e piles of gold-gift riches from his faithful teeter and slide, so tall are they. IV T\\ue025\\ue028 \\ue038\\ue034\\ue027\\ue02d\\ue031 \\ue031\\ue02a\\ue028\\ue024 \\ue028\\ue02c\\ue028\\ue02b \\ue02b\\ue034\\ue038. Reality decays, truth becomes dream and dream, truth. Cracks grow in the once-stable structures of the past, allowing things misshapen and vile to worm through, emerging into day’s wan light. \\ue022e world closes in, bounded to the west by the massive Bergen Chrypt with its catacombs and ice-caked peaks east. Many have ploughed the wave’s furrow in search of and surrounded by the Endless Sea to the north, south and known new lands. \\ue022ey all return, against their will. Alive or dead. ', 'G\\ue023\\ue02d\\ue026\\ue028\\ue02b\\ue036\\ue028\\ue035\\ue037 \\ue02a\\ue02b \\ue030\\ue025\\ue028 \\ue02d\\ue023\\ue02b\\ue031 \\ue034\\ue02e \\ue030\\ue02c\\ue028\\ue02d\\ue023\\ue02b\\ue031 is the greatest city that ever was. No King or Queen rules in Galgenbeck but an arch-priestess: Josilfa Migol. Deep beneath the Cathedral of the Two-Headed Basilisks, in a cool black chamber crossed by shards of light, lies her throne. Josilfa, old but still young, commoners gossip that she colludes with the god Nechrubel, who gave her eternal life. Nechrubel: the shadow that covers all. Nechrubel is melancholy, crop failure, conflict and war. It is said he whispered the apocalyptic prophecies in Verhu’s ear. As time grows ever shorter the Two-Headed Basilisks become ever-more desperate in their recruitment. To take one’s own life is considered sinful cowardice. \\ue022e road to salvation lies through mortification of the flesh; the apocalypse is to be met with eyes wide open. Only then can the soul be allowed passage to the Shimmering Fields. Heretics and apostates are hunted down and corrected, in public and at length, by the Inquisition. In Tveland also lies ', 'T\\ue025\\ue028 \\ue02e\\ue034\\ue027\\ue028\\ue024\\ue030 \\ue024\\ue028\\ue028\\ue032\\ue024, lately, to spread unnaturally fast. Paths tangle and wind in the overgrown gloom, leading wanderers astray. Far in the depths of Sarkash, always where one least expects to find it, in a halo of dying trees, is Graven-Tosk. A truly ancient cemetery filled with mausoleums, blank-eyed cherubs, stagnant fountains, plague pits and ordinary graves. But hasn’t it grown warmer in this usually cold place? Do you hear the frantic scratching? \\ue022e air feels heavy, stale and hard to breathe. Rising over Graven-Tosk like rage rising over pain is the ', 'A \\ue026\\ue034\\ue030\\ue025\\ue02a\\ue035 \\ue036\\ue02d\\ue023\\ue035\\ue037 \\ue035\\ue023\\ue024\\ue030\\ue02d\\ue028, like a mirror to the Cathedral of the Two-Headed Basilisk in Galgenbeck. Most of the palace lies in crumbling ruins, home to unfortunate souls sheltering beneath its broken halls. None dare dream what might lie under the rubble covered catacombs and cellars. Tunnels sprawl beneath like writhing roots, digging deeper into the cold earth like cancerous veins. \\ue022e inner wing still stands, acting as the home of the Shadow King, a being obscured by ritual. \\ue022e slaves of the servants of the courtiers of the King come forth and do his will. \\ue022e title is hereditary: sons are always born to the Shadow King. It’s whispered Princes of that line disguise themselves as ordinary men wandering the ruins engaging in games and tricking travelers, multiplying the miseries of their people. ', 'F\\ue027\\ue034\\ue032 \\ue023\\ue026\\ue028\\ue024 \\ue033\\ue023\\ue024\\ue030, Grift grew upon an eastern peninsula of the Endless Sea. Cut from the world by the bo\\ue021omless Múr, the thriving city state can be reached only by three bridges of such might and cyclopean size it is said that only enslaved giants could have raised them. Grift was once a place of harmony and the light of reason, a shelter from the plaguewracked, war-torn world beyond. But the world turns and even the Múr cannot protect Grift from its inevitable fall. King Sigfúm the Kind is mocked in the street. Much of Grift has fallen into disrepair as vile creatures begin crawling from the dried, cracked earth. Each night the bridges scream and roar like great ships grinding upon rocks. Sigfúm is defeated. He knows the end is near, believes the prophecies of Verhu and so, kindly and calmly, prepares his people for death. Huge parchments dot the streets, calendars of despair marking each correct preparation and its time. Each day a leaf is turned and when the last page comes, Sigfúm will march his people to the cli\\ue03a Terion to fulfill what was wri\\ue021en. Terion, a thousand meters of vertical rock with the raging sea biting at its base. \\ue022e inquisition of the Two-Headed Basilisks is not too keen on the heretical suicide scheme of Sigfúm the Kind. ', 'D\\ue028\\ue024\\ue034\\ue02d\\ue023\\ue030\\ue02a\\ue034\\ue02b \\ue027\\ue034\\ue02d\\ue02d\\ue024 \\ue034\\ue02c\\ue028\\ue027 \\ue037\\ue028\\ue027\\ue026\\ue03b\\ue024 like a frostbarren wind. \\ue022e lawless and forlorn trek across its ice-wracked expanse, crawling over the plains or cowering in the cracked earth to flee  Blood-Countess Anthelia. North, where the wind is born, lies Alliáns, a storm-piercing spire-city of black glass. Within stands a castle like a waterfall of white stone: the throne of Anthelia. She as pale as her castle’s walls, as youthful as a drop of melting ice. Some say she is eternally young. \\ue022e gulls cry the names of Knights who sought her hand, a reminder that suitors and signs of Anthelia’s age disappear in conjunction. But who listens to a gull? And in Kergüs, even gulls freeze in the cold that rolls from the dreams of the Countess. Dreams of her unending youth. Anthelia’s Ambivalence Anthelia is well aware time is short. Neuroses burden her. “Why is everything so pale? So cold?” She cries out for colour or warmth. She drains the world of both with every glance, touch and breath. \\ue022ose who bring her vibrant life are promised great rewards. All fear to do so. Excuses are made, explanations found. \\ue022e feelings of the Countess are fragile, her powers absolute. Court life entails grey opulence, excitement and fear. ', 'T\\ue025\\ue028 \\ue038\\ue028\\ue024\\ue030\\ue028\\ue027\\ue02b \\ue037\\ue02a\\ue02b\\ue026\\ue031\\ue034\\ue032, called Wästland in the songs of the simple and rhymes of the poor, once home to peace and wealth when Lake Onda gifted fish and the river-trade thrived. Now, terror and despotism stalk. In the secret citadel of the sad-but-gaudy city of Schleswig King Fathmu IX schemes. Paranoid, fat and increasingly mad, he is consumed with psychosis and invisible fears. Obsessed with the prophecies of Verhu, the King raids and invades houses and villages, barns and temples. Nowhere and no one is safe, especially the poor. Taxed into starvation, the contents of their larders and storehouses are carted o\\ue03a by Fathmu’s men. A place few wish to speak of is the ', 'R\\ue02f\\ue032\\ue034\\ue027\\ue024 \\ue038\\ue025\\ue02a\\ue024\\ue033\\ue028\\ue027 \\ue030\\ue025\\ue028 \\ue036\\ue023\\ue024\\ue02a\\ue02d\\ue02a\\ue024\\ue037 \\ue021\\ue022 is coiled within its crypts, a sight infrequently survived. Lies and legends enshroud the valley, obscuring any truth. Peddler’s tales say the soil, the very air, is lethal—bringing a sleepless, stumbling deat h. \\ue022is is no clean fate but a slow-growing, fathomless despair, weighing down the traveler with poisoned memories and dark thoughts until the spark of life is mutated into a mournful, hopeless undeath. Others claim lost wanderers can fall and find themselves in the Realm of the Dead when the black soil hungrily drags them under the earth. \\ue022ose without hope travel here seeking an end to pain, a golden afterlife beyond this dark and ruined world. \\ue022ey gather in suicide cults and the valley’s few twisted trees begin to droop strange fruit from hempen rope. Others plumb the crypts seeking Verhu, believing they can persuade him of other fates. Some simply and stupidly leave gifts and sacrifices to a power they cannot comprehend. Gloom grows, obscuring the world like an oil-stained image. ', 'T\\ue025\\ue028 \\ue038\\ue034\\ue027\\ue02d\\ue031 \\ue030\\ue027\\ue028\\ue032\\ue036\\ue02d\\ue028\\ue024. One can feel it in ways sharp and subtle, mysterious and clear. One by one, inevitable events demand their place. Illustrating this, the Game Master (\\ue026\\ue032) rolls a die each dawn. A result of 1 activates one Misery. \\ue022e die used is determined by the \\ue026\\ue032 and the group. \\ue022e \\ue026\\ue032 then rolls \\ue03166 to determine which Misery occurs. \\ue022e same Misery will not befall the world twice. 7:7 \\ue022e seventh Misery will always be 7:7, and the world finally dies. \\ue022e seventh seal is broken for the seventh and final time. \\ue022e game and your lives end here. Burn the book. \\ue032\\ue02d\\ue025\\ue022 \\ue032\\ue030\\ue029\\ue029 \\ue023\\ue029\\ue029 \\ue02a\\ue02d\\ue030\\ue02c \\ue023\\ue033\\ue026\\ue022\\ue031 \\ue025\\ue022\\ue021? Years of pain \\ue031100 A bleak half-year \\ue03120 A fall in anguish \\ue03110 A cruel month \\ue0316 \\ue022e end is nigh!  \\ue0312 \\ue021e Calendar of Nechrubel  – \\ue021e Nameless Scriptures. Transcribed by Anuk Schleger the monk. PSALM I 1:1 \\ue022e City shall be made hollow. Of those who rest in hollowness, they shall not be seen. 1:2 And the earth shall shake and be riven. And from the cracks shall rise a poisonous mist, and in ten days it will shroud the world. 1:3 Of those who build mightily, stone by stone, so shall they fall, stone by stone. 1:4 And the depths of the underworld shall bring forth flying spectres and crawling beasts. In their passing the worm grows fat, the vulture weary. 1:5 Doubt is crowned. \\ue022e loyal shall turn their blades on those who silver gave. 1:6 And blood-cough shall spread like fire across the wastelands of the drought. PSALM II 2:1 As at the beginning, so at the end, all manner of fly and wasp shall fill the air. 2:2 And the ground pale with maggots. 2:3 And from the Spears: a frost. Born from Bergen Chrypt and covering all. 2:4 And in ten days and one the writings of sorcerers will be made pale as air. 2:5 And glass shall become quartz. 2:6 And SHE shall see HIM grow stronger. And SHE reveals herself and all shall be slain. PSALM III 3:1 At Graven-Tosk the soil shall grow warm and those who rest be made to walk. 3:2 In the heart of Sarkash fog and dusk shall breathe beneath the waking trees. \\ue022at which was hewed by man shall now hew in its turn. 3:3 And hunger shall come among you. You shall dig roots and pull children from the breast. \\ue022e gaunt shall prey upon the gaunt. 3:4 \\ue022e great shall be made poor and the poor poorer still. 3:5 \\ue022en shall come rain unending and the day shall be made night by its coming. 3:6 Brother shall slay Brother and Sister poison Sister. PSALM IV 4:1 For five days and five nights mothers flesh shall be the cloak of demons. 4:2 And for five days and five nights shall fathers weep. 4:3 Look to the West. Forth comes fire, and a horde, and the Kingdoms burn. 4:4 \\ue022e liar, Arkh shall make knots of the hearts of men, sundering the strongest of bonds. 4:5 Behold now the Endless Sea, where Leviathan causes waves to be as mountains. 4:6 And Leviathan shall come among you. Children winter-born and fated to fall before snow, both shall it take. ']\n"
          ]
        }
      ]
    },
    {
      "cell_type": "code",
      "source": [
        "print(len(heading_list_1))\n",
        "print(len(heading_values_list_1[1:]))"
      ],
      "metadata": {
        "colab": {
          "base_uri": "https://localhost:8080/"
        },
        "id": "3cqYI9_9sEvt",
        "outputId": "a30e31d8-579d-4817-b5af-1d68edff4f24"
      },
      "execution_count": null,
      "outputs": [
        {
          "output_type": "stream",
          "name": "stdout",
          "text": [
            "14\n",
            "14\n"
          ]
        }
      ]
    },
    {
      "cell_type": "code",
      "source": [
        "heading_counter = 0\n",
        "\n",
        "heading_list_2 = []\n",
        "heading_values_list_2 = []\n",
        "\n",
        "heading_values = \"\"\n",
        "heading_counter = 0\n",
        "\n",
        "for ele in data[\"elements\"]:\n",
        "    if \"Document/H2\" in ele[\"Path\"]:\n",
        "        heading_values_list_2.append(heading_values)\n",
        "        heading_values = \"\"\n",
        "        heading_counter = 0\n",
        "        if heading_counter == 0:\n",
        "            heading_counter = 1\n",
        "            heading_value_1 = ele[\"Text\"]\n",
        "            heading_list_2.append(heading_value_1)\n",
        "            continue\n",
        "    if \"Text\" in ele and heading_counter == 1:\n",
        "        heading_values += ele[\"Text\"]\n",
        "        # print(heading_values)\n",
        "\n",
        "heading_values_list_2.append(heading_values)\n",
        "\n",
        "print(heading_list_2)\n",
        "print(heading_values_list_2[1:])"
      ],
      "metadata": {
        "colab": {
          "base_uri": "https://localhost:8080/"
        },
        "id": "xeUT2cQy0ePV",
        "outputId": "8488ada5-4a15-4cb6-83ed-eb899c7cee25"
      },
      "execution_count": null,
      "outputs": [
        {
          "output_type": "stream",
          "name": "stdout",
          "text": [
            "['I ', 'II ', 'III ', 'IV ', 'Anthelia’s Ambivalence ', '7:7 ', 'PSALM I ', 'PSALM II ', 'PSALM III ', 'PSALM IV ']\n",
            "['A\\ue02b\\ue02f\\ue037 \\ue024\\ue035\\ue025\\ue02d\\ue028\\ue026\\ue028\\ue027, monk of the Creton order, encountered the basilisk Verhu in the year 565 and set down that creature’s whispered prophecies. \\ue022ese lost texts came to be known as the Nameless Scriptures. 300 years later, while working on a new Cathedral, \\ue022e Two-Headed Basilisks, an orthodox branch of the Creton order uncovered Schlegers tomb and with it the Scriptures. Since then all events described within have come to pass. \\ue022e prophecies are absolutely, factually true and have, thus, supplanted all other Scripture. Around this cathedral has grown Galgenbeck, the greatest city that ever was. ', 'T\\ue025\\ue028 \\ue036\\ue023\\ue024\\ue02a\\ue02d\\ue02a\\ue024\\ue037\\ue024 \\ue023\\ue027\\ue028 \\ue030\\ue038\\ue034 \\ue023\\ue02b\\ue031 \\ue030\\ue038\\ue034-\\ue025\\ue028\\ue023\\ue031\\ue028\\ue031. \\ue022e four heads have argued for hundreds of years. Verhu predicts inexorable annihilation and, since he’s always right, has become u\\ue021erly full of himself. His is also the head worshipped most. If you could learn the codes of the apocalypse perhaps the right o\\ue03aerings might avert it? Verhu loves his position and hungers for temples to be raised in his name. ', 'W\\ue025\\ue028\\ue02b \\ue030\\ue025\\ue028 \\ue038\\ue034\\ue027\\ue02d\\ue031 was but water, dust and clouds thick with plague-fat flies came \\ue024\\ue025\\ue028, first of the basilisks. From the cracks of Bergen Chrypt \\ue024\\ue025\\ue028 crawled. \\ue024\\ue025\\ue028 bears the head of Denial, Lusi, who looks up and down. Yet all shall be well. Her twin Arkh, Head of Deception, claims to be the first prophet of truths now prostituted by Verhu. Few have ever seen her, the oldest, but many walk her twin paths. \\ue024\\ue025\\ue028 spawned many since the dawn of time, their conceptions not without agony. All were cast down the cli\\ue03as of Bergen Chrypt, only \\ue025\\ue028 survived. Down in the Valley of the Unfortunate Undead his eyes locked upon the mountain’s peak, \\ue025\\ue028 spits out curses upon his evil mother. \\ue022e head Gorgh is bi\\ue021er, rank with envy that only his twin Verhu knows the damned truth. Time and time again his prophecies are brought to be. \\ue022e piles of gold-gift riches from his faithful teeter and slide, so tall are they. ', 'T\\ue025\\ue028 \\ue038\\ue034\\ue027\\ue02d\\ue031 \\ue031\\ue02a\\ue028\\ue024 \\ue028\\ue02c\\ue028\\ue02b \\ue02b\\ue034\\ue038. Reality decays, truth becomes dream and dream, truth. Cracks grow in the once-stable structures of the past, allowing things misshapen and vile to worm through, emerging into day’s wan light. \\ue022e world closes in, bounded to the west by the massive Bergen Chrypt with its catacombs and ice-caked peaks east. Many have ploughed the wave’s furrow in search of and surrounded by the Endless Sea to the north, south and known new lands. \\ue022ey all return, against their will. Alive or dead. Galgenbeck G\\ue023\\ue02d\\ue026\\ue028\\ue02b\\ue036\\ue028\\ue035\\ue037 \\ue02a\\ue02b \\ue030\\ue025\\ue028 \\ue02d\\ue023\\ue02b\\ue031 \\ue034\\ue02e \\ue030\\ue02c\\ue028\\ue02d\\ue023\\ue02b\\ue031 is the greatest city that ever was. No King or Queen rules in Galgenbeck but an arch-priestess: Josilfa Migol. Deep beneath the Cathedral of the Two-Headed Basilisks, in a cool black chamber crossed by shards of light, lies her throne. Josilfa, old but still young, commoners gossip that she colludes with the god Nechrubel, who gave her eternal life. Nechrubel: the shadow that covers all. Nechrubel is melancholy, crop failure, conflict and war. It is said he whispered the apocalyptic prophecies in Verhu’s ear. As time grows ever shorter the Two-Headed Basilisks become ever-more desperate in their recruitment. To take one’s own life is considered sinful cowardice. \\ue022e road to salvation lies through mortification of the flesh; the apocalypse is to be met with eyes wide open. Only then can the soul be allowed passage to the Shimmering Fields. Heretics and apostates are hunted down and corrected, in public and at length, by the Inquisition. In Tveland also lies Sarkash T\\ue025\\ue028 \\ue02e\\ue034\\ue027\\ue028\\ue024\\ue030 \\ue024\\ue028\\ue028\\ue032\\ue024, lately, to spread unnaturally fast. Paths tangle and wind in the overgrown gloom, leading wanderers astray. Far in the depths of Sarkash, always where one least expects to find it, in a halo of dying trees, is Graven-Tosk. A truly ancient cemetery filled with mausoleums, blank-eyed cherubs, stagnant fountains, plague pits and ordinary graves. But hasn’t it grown warmer in this usually cold place? Do you hear the frantic scratching? \\ue022e air feels heavy, stale and hard to breathe. Rising over Graven-Tosk like rage rising over pain is the Palace of the Shadow King A \\ue026\\ue034\\ue030\\ue025\\ue02a\\ue035 \\ue036\\ue02d\\ue023\\ue035\\ue037 \\ue035\\ue023\\ue024\\ue030\\ue02d\\ue028, like a mirror to the Cathedral of the Two-Headed Basilisk in Galgenbeck. Most of the palace lies in crumbling ruins, home to unfortunate souls sheltering beneath its broken halls. None dare dream what might lie under the rubble covered catacombs and cellars. Tunnels sprawl beneath like writhing roots, digging deeper into the cold earth like cancerous veins. \\ue022e inner wing still stands, acting as the home of the Shadow King, a being obscured by ritual. \\ue022e slaves of the servants of the courtiers of the King come forth and do his will. \\ue022e title is hereditary: sons are always born to the Shadow King. It’s whispered Princes of that line disguise themselves as ordinary men wandering the ruins engaging in games and tricking travelers, multiplying the miseries of their people. Grift F\\ue027\\ue034\\ue032 \\ue023\\ue026\\ue028\\ue024 \\ue033\\ue023\\ue024\\ue030, Grift grew upon an eastern peninsula of the Endless Sea. Cut from the world by the bo\\ue021omless Múr, the thriving city state can be reached only by three bridges of such might and cyclopean size it is said that only enslaved giants could have raised them. Grift was once a place of harmony and the light of reason, a shelter from the plaguewracked, war-torn world beyond. But the world turns and even the Múr cannot protect Grift from its inevitable fall. King Sigfúm the Kind is mocked in the street. Much of Grift has fallen into disrepair as vile creatures begin crawling from the dried, cracked earth. Each night the bridges scream and roar like great ships grinding upon rocks. Sigfúm is defeated. He knows the end is near, believes the prophecies of Verhu and so, kindly and calmly, prepares his people for death. Huge parchments dot the streets, calendars of despair marking each correct preparation and its time. Each day a leaf is turned and when the last page comes, Sigfúm will march his people to the cli\\ue03a Terion to fulfill what was wri\\ue021en. Terion, a thousand meters of vertical rock with the raging sea biting at its base. \\ue022e inquisition of the Two-Headed Basilisks is not too keen on the heretical suicide scheme of Sigfúm the Kind. Kergüs D\\ue028\\ue024\\ue034\\ue02d\\ue023\\ue030\\ue02a\\ue034\\ue02b \\ue027\\ue034\\ue02d\\ue02d\\ue024 \\ue034\\ue02c\\ue028\\ue027 \\ue037\\ue028\\ue027\\ue026\\ue03b\\ue024 like a frostbarren wind. \\ue022e lawless and forlorn trek across its ice-wracked expanse, crawling over the plains or cowering in the cracked earth to flee  Blood-Countess Anthelia. North, where the wind is born, lies Alliáns, a storm-piercing spire-city of black glass. Within stands a castle like a waterfall of white stone: the throne of Anthelia. She as pale as her castle’s walls, as youthful as a drop of melting ice. Some say she is eternally young. \\ue022e gulls cry the names of Knights who sought her hand, a reminder that suitors and signs of Anthelia’s age disappear in conjunction. But who listens to a gull? And in Kergüs, even gulls freeze in the cold that rolls from the dreams of the Countess. Dreams of her unending youth. ', 'Anthelia is well aware time is short. Neuroses burden her. “Why is everything so pale? So cold?” She cries out for colour or warmth. She drains the world of both with every glance, touch and breath. \\ue022ose who bring her vibrant life are promised great rewards. All fear to do so. Excuses are made, explanations found. \\ue022e feelings of the Countess are fragile, her powers absolute. Court life entails grey opulence, excitement and fear. The Western Kingdom T\\ue025\\ue028 \\ue038\\ue028\\ue024\\ue030\\ue028\\ue027\\ue02b \\ue037\\ue02a\\ue02b\\ue026\\ue031\\ue034\\ue032, called Wästland in the songs of the simple and rhymes of the poor, once home to peace and wealth when Lake Onda gifted fish and the river-trade thrived. Now, terror and despotism stalk. In the secret citadel of the sad-but-gaudy city of Schleswig King Fathmu IX schemes. Paranoid, fat and increasingly mad, he is consumed with psychosis and invisible fears. Obsessed with the prophecies of Verhu, the King raids and invades houses and villages, barns and temples. Nowhere and no one is safe, especially the poor. Taxed into starvation, the contents of their larders and storehouses are carted o\\ue03a by Fathmu’s men. A place few wish to speak of is the Valley of the Unfortunate Undead R\\ue02f\\ue032\\ue034\\ue027\\ue024 \\ue038\\ue025\\ue02a\\ue024\\ue033\\ue028\\ue027 \\ue030\\ue025\\ue028 \\ue036\\ue023\\ue024\\ue02a\\ue02d\\ue02a\\ue024\\ue037 \\ue021\\ue022 is coiled within its crypts, a sight infrequently survived. Lies and legends enshroud the valley, obscuring any truth. Peddler’s tales say the soil, the very air, is lethal—bringing a sleepless, stumbling deat h. \\ue022is is no clean fate but a slow-growing, fathomless despair, weighing down the traveler with poisoned memories and dark thoughts until the spark of life is mutated into a mournful, hopeless undeath. Others claim lost wanderers can fall and find themselves in the Realm of the Dead when the black soil hungrily drags them under the earth. \\ue022ose without hope travel here seeking an end to pain, a golden afterlife beyond this dark and ruined world. \\ue022ey gather in suicide cults and the valley’s few twisted trees begin to droop strange fruit from hempen rope. Others plumb the crypts seeking Verhu, believing they can persuade him of other fates. Some simply and stupidly leave gifts and sacrifices to a power they cannot comprehend. Gloom grows, obscuring the world like an oil-stained image. The Calendar of Nechrubel T\\ue025\\ue028 \\ue038\\ue034\\ue027\\ue02d\\ue031 \\ue030\\ue027\\ue028\\ue032\\ue036\\ue02d\\ue028\\ue024. One can feel it in ways sharp and subtle, mysterious and clear. One by one, inevitable events demand their place. Illustrating this, the Game Master (\\ue026\\ue032) rolls a die each dawn. A result of 1 activates one Misery. \\ue022e die used is determined by the \\ue026\\ue032 and the group. \\ue022e \\ue026\\ue032 then rolls \\ue03166 to determine which Misery occurs. \\ue022e same Misery will not befall the world twice. ', '\\ue022e seventh Misery will always be 7:7, and the world finally dies. \\ue022e seventh seal is broken for the seventh and final time. \\ue022e game and your lives end here. Burn the book. \\ue032\\ue02d\\ue025\\ue022 \\ue032\\ue030\\ue029\\ue029 \\ue023\\ue029\\ue029 \\ue02a\\ue02d\\ue030\\ue02c \\ue023\\ue033\\ue026\\ue022\\ue031 \\ue025\\ue022\\ue021? Years of pain \\ue031100 A bleak half-year \\ue03120 A fall in anguish \\ue03110 A cruel month \\ue0316 \\ue022e end is nigh!  \\ue0312 \\ue021e Calendar of Nechrubel  – \\ue021e Nameless Scriptures. Transcribed by Anuk Schleger the monk. ', '1:1 \\ue022e City shall be made hollow. Of those who rest in hollowness, they shall not be seen. 1:2 And the earth shall shake and be riven. And from the cracks shall rise a poisonous mist, and in ten days it will shroud the world. 1:3 Of those who build mightily, stone by stone, so shall they fall, stone by stone. 1:4 And the depths of the underworld shall bring forth flying spectres and crawling beasts. In their passing the worm grows fat, the vulture weary. 1:5 Doubt is crowned. \\ue022e loyal shall turn their blades on those who silver gave. 1:6 And blood-cough shall spread like fire across the wastelands of the drought. ', '2:1 As at the beginning, so at the end, all manner of fly and wasp shall fill the air. 2:2 And the ground pale with maggots. 2:3 And from the Spears: a frost. Born from Bergen Chrypt and covering all. 2:4 And in ten days and one the writings of sorcerers will be made pale as air. 2:5 And glass shall become quartz. 2:6 And SHE shall see HIM grow stronger. And SHE reveals herself and all shall be slain. ', '3:1 At Graven-Tosk the soil shall grow warm and those who rest be made to walk. 3:2 In the heart of Sarkash fog and dusk shall breathe beneath the waking trees. \\ue022at which was hewed by man shall now hew in its turn. 3:3 And hunger shall come among you. You shall dig roots and pull children from the breast. \\ue022e gaunt shall prey upon the gaunt. 3:4 \\ue022e great shall be made poor and the poor poorer still. 3:5 \\ue022en shall come rain unending and the day shall be made night by its coming. 3:6 Brother shall slay Brother and Sister poison Sister. ', '4:1 For five days and five nights mothers flesh shall be the cloak of demons. 4:2 And for five days and five nights shall fathers weep. 4:3 Look to the West. Forth comes fire, and a horde, and the Kingdoms burn. 4:4 \\ue022e liar, Arkh shall make knots of the hearts of men, sundering the strongest of bonds. 4:5 Behold now the Endless Sea, where Leviathan causes waves to be as mountains. 4:6 And Leviathan shall come among you. Children winter-born and fated to fall before snow, both shall it take. ']\n"
          ]
        }
      ]
    },
    {
      "cell_type": "code",
      "source": [
        "print(len(heading_list_2))\n",
        "print(len(heading_values_list_2[1:]))"
      ],
      "metadata": {
        "colab": {
          "base_uri": "https://localhost:8080/"
        },
        "id": "xNbFqO201Rzn",
        "outputId": "4288473d-ddad-43f6-8183-cda508312a1e"
      },
      "execution_count": null,
      "outputs": [
        {
          "output_type": "stream",
          "name": "stdout",
          "text": [
            "10\n",
            "10\n"
          ]
        }
      ]
    },
    {
      "cell_type": "code",
      "source": [
        "heading_counter = 0\n",
        "\n",
        "heading_list_3 = []\n",
        "heading_values_list_3 = []\n",
        "\n",
        "heading_values = \"\"\n",
        "heading_counter = 0\n",
        "\n",
        "for ele in data[\"elements\"]:\n",
        "    if \"Document/H3\" in ele[\"Path\"]:\n",
        "        heading_values_list_3.append(heading_values)\n",
        "        heading_values = \"\"\n",
        "        heading_counter = 0\n",
        "        if heading_counter == 0:\n",
        "            heading_counter = 1\n",
        "            heading_value_1 = ele[\"Text\"]\n",
        "            heading_list_3.append(heading_value_1)\n",
        "            continue\n",
        "    if \"Text\" in ele and heading_counter == 1:\n",
        "        heading_values += ele[\"Text\"]\n",
        "        # print(heading_values)\n",
        "\n",
        "heading_values_list_3.append(heading_values)\n",
        "\n",
        "print(heading_list_3)\n",
        "print(heading_values_list_3[1:])"
      ],
      "metadata": {
        "colab": {
          "base_uri": "https://localhost:8080/"
        },
        "id": "mMjhKtjV1WHW",
        "outputId": "76c57e34-a87a-424b-ac53-a74e53523b90"
      },
      "execution_count": null,
      "outputs": [
        {
          "output_type": "stream",
          "name": "stdout",
          "text": [
            "['\\ue032\\ue02d\\ue025\\ue022 \\ue032\\ue030\\ue029\\ue029 \\ue023\\ue029\\ue029 \\ue02a\\ue02d\\ue030\\ue02c \\ue023\\ue033\\ue026\\ue022\\ue031 \\ue025\\ue022\\ue021? ', '\\ue021e Calendar of Nechrubel  – \\ue021e Nameless Scriptures. ']\n",
            "['Years of pain \\ue031100 A bleak half-year \\ue03120 A fall in anguish \\ue03110 A cruel month \\ue0316 \\ue022e end is nigh!  \\ue0312 ', 'Transcribed by Anuk Schleger the monk. PSALM I 1:1 \\ue022e City shall be made hollow. Of those who rest in hollowness, they shall not be seen. 1:2 And the earth shall shake and be riven. And from the cracks shall rise a poisonous mist, and in ten days it will shroud the world. 1:3 Of those who build mightily, stone by stone, so shall they fall, stone by stone. 1:4 And the depths of the underworld shall bring forth flying spectres and crawling beasts. In their passing the worm grows fat, the vulture weary. 1:5 Doubt is crowned. \\ue022e loyal shall turn their blades on those who silver gave. 1:6 And blood-cough shall spread like fire across the wastelands of the drought. PSALM II 2:1 As at the beginning, so at the end, all manner of fly and wasp shall fill the air. 2:2 And the ground pale with maggots. 2:3 And from the Spears: a frost. Born from Bergen Chrypt and covering all. 2:4 And in ten days and one the writings of sorcerers will be made pale as air. 2:5 And glass shall become quartz. 2:6 And SHE shall see HIM grow stronger. And SHE reveals herself and all shall be slain. PSALM III 3:1 At Graven-Tosk the soil shall grow warm and those who rest be made to walk. 3:2 In the heart of Sarkash fog and dusk shall breathe beneath the waking trees. \\ue022at which was hewed by man shall now hew in its turn. 3:3 And hunger shall come among you. You shall dig roots and pull children from the breast. \\ue022e gaunt shall prey upon the gaunt. 3:4 \\ue022e great shall be made poor and the poor poorer still. 3:5 \\ue022en shall come rain unending and the day shall be made night by its coming. 3:6 Brother shall slay Brother and Sister poison Sister. PSALM IV 4:1 For five days and five nights mothers flesh shall be the cloak of demons. 4:2 And for five days and five nights shall fathers weep. 4:3 Look to the West. Forth comes fire, and a horde, and the Kingdoms burn. 4:4 \\ue022e liar, Arkh shall make knots of the hearts of men, sundering the strongest of bonds. 4:5 Behold now the Endless Sea, where Leviathan causes waves to be as mountains. 4:6 And Leviathan shall come among you. Children winter-born and fated to fall before snow, both shall it take. ']\n"
          ]
        }
      ]
    },
    {
      "cell_type": "code",
      "source": [
        "print(len(heading_list_3))\n",
        "print(len(heading_values_list_3[1:]))"
      ],
      "metadata": {
        "colab": {
          "base_uri": "https://localhost:8080/"
        },
        "id": "ONhSlPkr1mND",
        "outputId": "bf9de339-24b8-4ae1-8dd0-513bfd1276e4"
      },
      "execution_count": null,
      "outputs": [
        {
          "output_type": "stream",
          "name": "stdout",
          "text": [
            "2\n",
            "2\n"
          ]
        }
      ]
    },
    {
      "cell_type": "code",
      "source": [
        "heading_list_part1 = heading_list_1 + heading_list_2 + heading_list_3\n",
        "len(heading_list_part1)"
      ],
      "metadata": {
        "colab": {
          "base_uri": "https://localhost:8080/"
        },
        "id": "jgD6Uf-j2RUy",
        "outputId": "bc0f7640-1cec-422c-fdc5-db66a17dc822"
      },
      "execution_count": null,
      "outputs": [
        {
          "output_type": "execute_result",
          "data": {
            "text/plain": [
              "26"
            ]
          },
          "metadata": {},
          "execution_count": 70
        }
      ]
    },
    {
      "cell_type": "code",
      "source": [
        "heading_values_part_1 = (\n",
        "    heading_values_list_1[1:] + heading_values_list_2[1:] + heading_values_list_3[1:]\n",
        ")\n",
        "len(heading_values_part_1)"
      ],
      "metadata": {
        "colab": {
          "base_uri": "https://localhost:8080/"
        },
        "id": "0MBY27wn4rhR",
        "outputId": "4453f02a-a2a4-4617-85ec-5baa4fc74480"
      },
      "execution_count": null,
      "outputs": [
        {
          "output_type": "execute_result",
          "data": {
            "text/plain": [
              "26"
            ]
          },
          "metadata": {},
          "execution_count": 74
        }
      ]
    },
    {
      "cell_type": "code",
      "source": [
        "for ele in data[\"elements\"]:\n",
        "    if \"Document/H\" in ele[\"Path\"]:\n",
        "        print(ele[\"Path\"])"
      ],
      "metadata": {
        "colab": {
          "base_uri": "https://localhost:8080/"
        },
        "id": "A3zejjrldMjx",
        "outputId": "b7984f65-1dcd-4804-d525-6c43e070f7a6"
      },
      "execution_count": null,
      "outputs": [
        {
          "output_type": "stream",
          "name": "stdout",
          "text": [
            "//Document/H1\n",
            "//Document/H1[2]\n",
            "//Document/H1[3]\n",
            "//Document/H1[4]\n",
            "//Document/H1[5]\n",
            "//Document/H1[6]\n",
            "//Document/H2\n",
            "//Document/H2[2]\n",
            "//Document/H2[3]\n",
            "//Document/H2[4]\n",
            "//Document/H1[7]\n",
            "//Document/H1[8]\n",
            "//Document/H1[9]\n",
            "//Document/H1[10]\n",
            "//Document/H1[11]\n",
            "//Document/H2[5]\n",
            "//Document/H1[12]\n",
            "//Document/H1[13]\n",
            "//Document/H1[14]\n",
            "//Document/H2[6]\n",
            "//Document/H3\n",
            "//Document/H3[2]\n",
            "//Document/H2[7]\n",
            "//Document/H2[8]\n",
            "//Document/H2[9]\n",
            "//Document/H2[10]\n"
          ]
        }
      ]
    },
    {
      "cell_type": "code",
      "source": [],
      "metadata": {
        "id": "lWDaVJcAsAbk"
      },
      "execution_count": null,
      "outputs": []
    },
    {
      "cell_type": "code",
      "source": [
        "import json\n",
        "\n",
        "with open(\"/content/structuredData2.json\") as f:\n",
        "    data2 = json.load(f)"
      ],
      "metadata": {
        "id": "MDLvqL2WVNfD"
      },
      "execution_count": null,
      "outputs": []
    },
    {
      "cell_type": "code",
      "source": [
        "for ele in data2[\"elements\"]:\n",
        "    if \"Document/H\" in ele[\"Path\"]:\n",
        "        print(ele[\"Path\"])"
      ],
      "metadata": {
        "colab": {
          "base_uri": "https://localhost:8080/"
        },
        "id": "g8Rabs9r566R",
        "outputId": "b32756d4-25e3-419e-bae1-40ae9996c037"
      },
      "execution_count": null,
      "outputs": [
        {
          "output_type": "stream",
          "name": "stdout",
          "text": [
            "//Document/H1\n",
            "//Document/H1[2]\n",
            "//Document/H1[3]\n",
            "//Document/H1[4]\n",
            "//Document/H1[5]\n",
            "//Document/H1[6]\n",
            "//Document/H2\n",
            "//Document/H1[7]\n",
            "//Document/H2[2]\n",
            "//Document/H2[3]\n",
            "//Document/H1[8]\n",
            "//Document/H2[4]\n",
            "//Document/H1[9]\n",
            "//Document/H2[5]\n",
            "//Document/H1[10]\n",
            "//Document/H1[11]\n",
            "//Document/H2[6]\n",
            "//Document/H1[12]\n",
            "//Document/H2[7]\n",
            "//Document/H2[8]\n",
            "//Document/H2[9]\n",
            "//Document/H2[10]\n",
            "//Document/H1[13]\n",
            "//Document/H1[14]\n",
            "//Document/H1[15]\n",
            "//Document/H1[16]\n",
            "//Document/H1[17]\n",
            "//Document/H1[18]\n",
            "//Document/H2[11]\n",
            "//Document/H1[19]\n",
            "//Document/H2[12]\n",
            "//Document/H1[20]\n",
            "//Document/H1[21]\n",
            "//Document/H1[22]\n",
            "//Document/H1[23]\n",
            "//Document/H2[13]\n"
          ]
        }
      ]
    },
    {
      "cell_type": "code",
      "source": [
        "heading_counter = 0\n",
        "\n",
        "heading_list_4 = []\n",
        "heading_values_list_4 = []\n",
        "\n",
        "heading_values = \"\"\n",
        "heading_counter = 0\n",
        "\n",
        "for ele in data2[\"elements\"]:\n",
        "    if \"Document/H1\" in ele[\"Path\"]:\n",
        "        heading_values_list_4.append(heading_values)\n",
        "        heading_values = \"\"\n",
        "        heading_counter = 0\n",
        "        if heading_counter == 0:\n",
        "            heading_counter = 1\n",
        "            heading_value_1 = ele[\"Text\"]\n",
        "            heading_list_4.append(heading_value_1)\n",
        "            continue\n",
        "    if \"Text\" in ele and heading_counter == 1:\n",
        "        heading_values += ele[\"Text\"]\n",
        "        # print(heading_values)\n",
        "\n",
        "heading_values_list_4.append(heading_values)\n",
        "\n",
        "print(heading_list_4)\n",
        "print(heading_values_list_4[1:])"
      ],
      "metadata": {
        "colab": {
          "base_uri": "https://localhost:8080/"
        },
        "id": "-9unROCO6BdB",
        "outputId": "ec5e95c7-a673-4deb-cb12-0450af54ed58"
      },
      "execution_count": null,
      "outputs": [
        {
          "output_type": "stream",
          "name": "stdout",
          "text": [
            "['PSALM III ', 'PSALM IV ', 'PSALM V ', 'PSALM VI ', 'PSALM VII THE LAST ', 'Create a Player Character (PC) ', 'Equipment ', 'Abilities ', 'Tests ', 'Carrying Capacity ', 'Hit Points ', 'Violence ', '\\ue030\\ue028\\ue024\\ue023 (\\ue025\\ue026\\ue023\\ue029\\ue028\\ue026\\ue027 20) ', '\\ue032\\ue029\\ue02e\\ue031\\ue027\\ue02a (\\ue025\\ue026\\ue023\\ue029\\ue028\\ue026\\ue027 1) ', 'How long is a round? ', 'Rest ', 'Reaction (2D6) ', 'Morale ', 'Getting Better ', 'More \\ue021\\ue022 ', 'Left in the debris you find ', 'Ability changes ', 'Powers ']\n",
            "['3:1 At Graven-Tosk the soil shall grow warm and those who rest be made to walk. 3:2 In the heart of Sarkash fog and dusk shall breathe beneath the waking trees. \\ue021at which was hewed by man shall now hew in its turn. 3:3 And hunger shall come among you. You shall dig roots and pull children from the breast. \\ue021e gaunt shall prey upon the gaunt. 3:4 \\ue021e great shall be made poor and the poor poorer still. 3:5 \\ue021en shall come rain unending and the day shall be made night by its coming. 3:6 Brother shall slay Brother and Sister poison Sister. ', '4:1 For five days and five nights mothers flesh shall be the cloak of demons. 4:2 And for five days and five nights shall fathers weep. 4:3 Look to the West. Forth comes fire, and a horde, and the Kingdoms burn. 4:4 \\ue021e liar, Arkh shall make knots of the hearts of men, sundering the strongest of bonds. 4:5 Behold now the Endless Sea, where Leviathan causes waves to be as mountains. 4:6 And Leviathan shall come among you. Children winter-born and fated to fall before snow, both shall it take. ', '5:1 \\ue021e lake and brook shall blacken and the water become tar. 5:2 \\ue021e trees shall wither, shrivel and die. 5:3 And birds shall fall dead from the sky. 5:4 In one night all those not yet of seven years and seven days shall pass. Born and unborn. And dawn shall give them life as eaters of men. 5:5 \\ue021e sky shall weep fire and a great stone shall plummet as a city fallen from heaven. Its gift is Death and madness is its herald. 5:6 And the last King and the last Queen shall wither to dust. \\ue021eir wretched courts are devoured by wolves. ', '6:1 You shall know the last day is come. \\ue021e sun shall set and never rise. 6:2 And day shall be as night and night as day. You shall not sleep, neither shall you wake. 6:3 Anthelia shall have her will and drink all colour from the world. 6:4 \\ue021ose who walk on two legs shall be nameless as the beasts of the field. 6:5 \\ue021e earth shall vein, bringing black serpents forth from within the earth. 6:6 And the unnamed enter the earth, passing through the Veil as it is sundered by Daejmon, the left underling of Nechrubel. ', '7:7 All praise Yetsabu-Nech, the underworld’s nightmare, the black disk which stands before the sun! All praise Verhu, beaming with delight! All praise the fire which burns all! And the darkness shall swallow the darkness. ', '1. Randomize your starting equipment on this page and the next. 2. Randomize weapon and armor. 3. Roll your abilities. 4. Roll your Hit Points. 5. Name your character if you wish. It will not save you. \\ue021\\ue022\\ue023\\ue024\\ue021\\ue025\\ue026\\ue027 \\ue028\\ue029\\ue027\\ue02a\\ue02b: † Start by choosing or randomizing a class (page 46 and on) and follow the class’ instructions on rolling for equipment, weapons and armor. † Roll on the tables on pages 38–42. † Roll a number of Omens (page 37). I\\ue022 \\ue023\\ue024\\ue025\\ue026 \\ue027\\ue028\\ue029\\ue02a\\ue02b there are those who seek riches or redemption. Some say the apocalypse is escapable, that it might even be stopped. And there you walk in discord and despair. One hand holds 2\\ue02b6 \\ue02c 10 silver (s), the other holds a waterskin and \\ue02b4 days worth of food. Your soul and your silver are your own and equally easy to lose. To begin with, you are what you own: \\ue02c6 1–2 nothing 3 backpack for 7 normal-sized items 4 sack for 10 normal-sized items 5 small wagon or one item above of your choice 6 donkey, not bad. Or one of the above of your choice \\ue02c12 1 rope 30 feet 2 Presence + 4 torches 3 lantern with oil for Presence + 6 hours 4 magnesium strip 5 random unclean scroll 6 sharp needle 7 medicine chest Presence+4 uses  (stops bleeding/infection and heals \\ue02b6 \\ue024\\ue02d) 8 metal file and lockpicks 9 bear trap (Presence \\ue02b\\ue02914 to spot, \\ue02b8 damage) 10 bomb (sealed bo\\ue02ele, \\ue02b10 damage) 11 a bo\\ue02ele of red poison \\ue02b4 doses  (Toughness \\ue02b\\ue02912 or \\ue02b10 damage) 12 silver crucifix and \\ue02c12 1 1 life elixir \\ue02b4 doses (heals \\ue02b6 \\ue024\\ue02d and removes infection) 2 random sacred scroll 3 small but vicious dog (\\ue02b6+2 \\ue024\\ue02d, bite \\ue02b4, only obeys you) 4 \\ue02b4 monkeys that ignore but love you  (\\ue02b4+2 \\ue024\\ue02d, punch/bite \\ue02b4) 5 exquisite perfume worth 25s 6 toolbox 10 nails, tongs, hammer, small saw and drill 7 heavy chain 15 feet 8 grappling hook 9 shield (-1 \\ue024\\ue02d damage or have the shield break to ignore one a\\ue02eack) 10 crowbar (\\ue02b4 damage) 11 lard (may function as 5 meals in a pinch) 12 tent Scrolls are the twisted magic of MÖRK BORG. Read more on page 34. \\ue02d\\ue02a\\ue026\\ue022\\ue021\\ue025\\ue02b \\ue02c10 (\\ue0216 if you begin with a scroll) Unarmed \\ue02b2 damage 1  Femur \\ue02b4 2 Sta\\ue02f \\ue02b4 3 Shortsword \\ue02b4 4 Knife \\ue02b4 5 Warhammer \\ue02b6 6 Sword \\ue02b6 7 Bow \\ue02b6, with Presence +10 arrows 8 Flail \\ue02b8 9 Crossbow \\ue02b8, with Presence + 10 bolts 10 Zweihänder \\ue02b10 \\ue026\\ue028\\ue02e\\ue021\\ue028 \\ue02c4 (\\ue0212 if you begin with a scroll) 1 no armor (tier 0) 2 light (fur, padded cloth, leather etc, \\ue030\\ue02b2 damage, tier 1) 20s 3 medium armor (scale, mail etc, \\ue030\\ue02b4 damage, tier 2) 100s \\ue021\\ue022 +2 on Agility tests including defence. 4 Heavy armor (splint, plate etc, \\ue030\\ue02b6 damage, tier 3) 200s \\ue021\\ue022 +4 on Agility tets, defence is \\ue021\\ue022+2 shield \\ue0301 damage 20s You can choose to ignore all damage from one a\\ue023ack but shield breaks. Scrolls will never work when wielding zweihand weapons or medium/heavy armor. ', 'Backpack 6s Holds 7 normal-sized items Bear trap 20s Presence \\ue02b\\ue02914 to spot, \\ue02b8 damage Blanket 4s Caltrops 7s \\ue02b4 damage + infection on 1 in 6 Chalk 1s Chewing tobacco 1s Crowbar 8s Crucifix, silver 60s Crucifix, wood 8s Dried food 1s 1 day Exquisite perfume 25s Firesteel 4s Grappling hook 12s Hammer 8s Heavy chain 10s 15 feet Iron nails 10s 10 nails Ladder 7s Lantern oil 5s Presence + 6 hours Lard 5s May function as 5 meals Large iron hook 9s Lockpicks 5s Magnesium strip 4s Manacles 10s Ma\\ue02eress 3s Meat cleaver 15s Medicine box 15s Stops bleeding/infection and +\\ue02b6 \\ue024\\ue02d. Presence + 4 uses Metal file 10s Mirror 15s Muzzle 6s Noose 5s Oil lamp 10s Poison (black) 20s Toughness \\ue02b\\ue02914 or \\ue02b6 damage  + blind for one hour. 3 doses Poison (red) 20s Toughness \\ue02b\\ue02912 or \\ue02b10 damage. 3 doses Preserved corpse 66+\\ue02b6s Rope 4s 30 feet Small wagon 25s Tent 12s Toolbox 20s 10 nails, hammer, small saw, tongs Torch 2s Sack 3s Holds 10 normal sized items Salt 4s Scissors 9s Scroll worth roughly 50s to the right buyer Sharp needle 3s Waterskin 4s 4 days of water Improvised weapons do \\ue02b4 damage. Who wouldn’t forgo fisticu\\ue02fs for a grappling hook? \\ue02b\\ue02a\\ue028\\ue02f\\ue024\\ue030\\ue02a\\ue02b Night in hospice 3s Drink 1s Steady meal 2s Bribe, guard 20–40s Bribe, clerk 30–60s Bribe, rabble 5–15s Repair Armor* Tier 1 to 2 25s Tier 2 to 3 40s *Armor cannot be repaired to a tier higher than its original. \\ue02d\\ue02a\\ue026\\ue022\\ue021\\ue025\\ue02b \\ue031\\ue02a\\ue026\\ue02b\\ue023\\ue02b Dog (trained) 25s Dog (wild) 10s Horse 80s Mule 10s Rat (tame) 8s ', '\\ue031\\ue032\\ue025\\ue02a\\ue025\\ue023\\ue033 Defend, balance, swim, flee \\ue02d\\ue029\\ue034\\ue026\\ue034\\ue022\\ue035\\ue034 Perceive, aim, charm, wield Powers \\ue026\\ue023\\ue029\\ue034\\ue022\\ue032\\ue023\\ue024 Crush, lift, strike, grapple \\ue023\\ue028\\ue036\\ue032\\ue024\\ue022\\ue034\\ue026\\ue026 Resist poison/cold/heat, survive falling R\\ue028\\ue02a\\ue02a 3\\ue02b6 \\ue031\\ue022\\ue02b \\ue036\\ue026\\ue025\\ue022\\ue032 \\ue023\\ue024\\ue034 \\ue023\\ue031\\ue037\\ue02a\\ue034 \\ue028\\ue022 \\ue023\\ue024\\ue034 \\ue029\\ue025\\ue032\\ue024\\ue023 to generate each ability score from \\ue0303 to +3. \\ue021e sum is not used in the game once the character is created, only the table value. Player Characters not created with the optional classes can roll 4\\ue02b6 and drop the lowest die for two of their abilities. When the character is later improved an ability can never exceed +6 or \\ue0303. \\ue026\\ue031\\ue024\\ue027\\ue024\\ue023\\ue024\\ue02a\\ue02b 1–4 –3 5–6 –2 7–8 –1 9–12 ±0 13–14 +1 15–16 +2 17–20 +3 ', 'T\\ue034\\ue026\\ue023\\ue026 \\ue031\\ue029\\ue034 \\ue038\\ue031\\ue02b\\ue034 \\ue031\\ue032\\ue031\\ue025\\ue022\\ue026\\ue023 \\ue031 \\ue02b\\ue025\\ue039\\ue039\\ue025\\ue035\\ue036\\ue02a\\ue023\\ue033 \\ue029\\ue031\\ue023\\ue025\\ue022\\ue032. To succeed roll \\ue02b20 ±your ability with a result equal to or greater than the \\ue02b\\ue029. Creatures don’t use abilities, they just roll a \\ue02b20 against \\ue02b\\ue029. For example, find bear trap \\ue02b\\ue02914 or resist red poison \\ue02b\\ue02912. \\ue02c\\ue024\\ue032\\ue032\\ue024\\ue030\\ue029\\ue027\\ue023\\ue033 \\ue028\\ue026\\ue023\\ue024\\ue025\\ue034\\ue02b (\\ue02c\\ue028) 6 so simple people laugh at you for failing 8 routine but some chance of failure 10 pre\\ue02ey simple but not simple enough to not roll 12 normal 14 di\\ue03acult 16 really hard 18 should not be possible ', 'Y\\ue028\\ue036 \\ue035\\ue031\\ue022 \\ue035\\ue031\\ue029\\ue029\\ue033 \\ue026\\ue023\\ue029\\ue034\\ue022\\ue032\\ue023\\ue024+8 normal-sized items (for example crowbars, lard, scrolls, torches but not anvils, chests, ladders, corpses) without a problem. After that when testing Strength and Agility \\ue02b\\ue029 increases by 2 (from 12 to 14 etc.). It is impossible to carry more than twice Strength+8. ', 'B\\ue034\\ue032\\ue025\\ue022 \\ue027\\ue025\\ue023\\ue024 \\ue023\\ue028\\ue036\\ue032\\ue024\\ue022\\ue034\\ue026\\ue026 + \\ue02b8. In worst case 1\\ue024\\ue02d, but never less. Zero \\ue035\\ue022: broken Negative \\ue035\\ue022: dead \\ue031\\ue028\\ue021\\ue036\\ue02a\\ue025 (\\ue02c4) 1 Fall unconscious for \\ue02b4 rounds, awaken with \\ue02b4 \\ue024\\ue02d. 2 Roll a \\ue02b6: 1-5 = Broken or severed limb. 6 = Lost eye.  Can’t act for \\ue02b4 rounds then become active with \\ue02b4 \\ue024\\ue02d. 3 Hemorrhage: death in \\ue02b2 hours unless treated. All tests are \\ue02b\\ue02916 the first hour. \\ue02b\\ue02918 the last hour. 4 Dead. ', '\\ue024\\ue025\\ue024\\ue023\\ue024\\ue026\\ue023\\ue024\\ue02f\\ue02a (\\ue02c6) 1–3 enemies go first 4–6 \\ue02d\\ue035s go first Agility + \\ue0216 for individual initiative or to determine who goes first within the group. Players roll for both their a\\ue02eacks and defences.  Creatures and enemies don’t roll dice in combat. \\ue021e \\ue02b\\ue029 for a\\ue02eacks and defence are modified as with any test. \\ue02e\\ue02a\\ue027\\ue02a\\ue02a Test Strength \\ue02b\\ue02912 \\ue028\\ue026\\ue025\\ue034\\ue02a\\ue02c Test Presence \\ue02b\\ue02912 \\ue02c\\ue02a\\ue032\\ue02a\\ue025\\ue030\\ue02a Test Agility \\ue02b\\ue02912 If you fail the enemy hits you. Enemies a\\ue02eack once per round unless noted otherwise. ', 'A\\ue02eack: Double damage, armor/protection is also reduced one tier. Defence: \\ue02d\\ue035 gains a free a\\ue02eack. ', 'A\\ue02eack: \\ue021e weapon breaks or is lost. Defence: \\ue02d\\ue035 takes double damage and armor is reduced one tier. When armor is damaged penalties to Strength and Agility tests are not modified. Armor reduced below 1st tier is ruined and cannot be repaired. For armor repair costs, see Equipment on page 24. ', 'A round is enough time to make an a\\ue02eack (or use a Power) and traverse a normal-sized room. \\ue021ere are usually 10 rounds in one minute. ', '† Catch your breath, have a drink. Restore \\ue02b4 \\ue024\\ue02d. † A full night’s sleep restores \\ue02b6 \\ue024\\ue02d. † Without food or drink no \\ue024\\ue02d is restored when resting and after two days a starving \\ue02d\\ue035 loses \\ue02b4 \\ue024\\ue02d per day. † An infected character does not benefit from resting. Instead, \\ue02b6 \\ue024\\ue02d is lost daily. ', 'W\\ue024\\ue034\\ue022 \\ue038\\ue034\\ue034\\ue023\\ue025\\ue022\\ue032 \\ue035\\ue029\\ue034\\ue031\\ue023\\ue036\\ue029\\ue034\\ue026 whose reaction is uncertain. 2–3 Kill! 4–6 Angered 7–8 Indi\\ue02ferent 9–10 Almost friendly 11–12 Helpful ', 'M\\ue028\\ue026\\ue023 \\ue034\\ue022\\ue034\\ue038\\ue025\\ue034\\ue026 \\ue027\\ue025\\ue02a\\ue02a \\ue022\\ue028\\ue023 \\ue039\\ue025\\ue032\\ue024\\ue023 to the last drop of blood. \\ue028\\ue021\\ue027\\ue027 \\ue032\\ue021\\ue028 \\ue02e\\ue021\\ue028\\ue026\\ue027\\ue02a \\ue024\\ue032 the leader is killed half the group is eliminated a single enemy has only 1/3 of its \\ue024\\ue02d left If you roll greater than the creature’s Morale value with 2\\ue02b6, it is demoralized. Roll \\ue02b6 to see if the enemy (1–3) flees or  (4–6) surrenders. ', 'or worse T\\ue024\\ue034 \\ue032\\ue031\\ue038\\ue034 \\ue038\\ue031\\ue026\\ue023\\ue034\\ue029 \\ue02b\\ue034\\ue035\\ue025\\ue02b\\ue034\\ue026 when a character should be improved. It can be after completing a scenario, killing mighty foes or bringing home treasure. When this happens the following things occur: ', 'Roll 6\\ue02b10. If the result is equal to or greater than your current maximum \\ue024\\ue02d, increase it by \\ue02b6. ', '\\ue02c6 1–3 nothing 4 3\\ue02b10 silver 5 an unclean scroll 6 a sacred scroll ', 'Roll a \\ue02b6 against every ability. Results equal to or greater than the ability increase it by 1, to a maximum of +6. Results below the ability decrease it by 1. Abilities from \\ue0303 to +1 are always increased by 1 unless the \\ue02b6 result is 1. \\ue021e ability is then reduced by 1, but never below -3. ', 'A \\ue039\\ue034\\ue027 \\ue026\\ue028-\\ue035\\ue031\\ue02a\\ue02a\\ue034\\ue02b \\ue02d\\ue028\\ue027\\ue034\\ue029\\ue026 are known and they are usually found wri\\ue02een in scrolls. Roll Presence + \\ue02b4 every morning to determine how many times you can use Powers that day; choose from your available scrolls. When reading a scroll, test Presence \\ue02b\\ue02912. If you succeed, the Power is activated and you subtract one use from your daily total. If you fail, the Power doesn’t work, you lose \\ue02b2 \\ue024\\ue02d and you become dizzy for the next hour. During this time, Powers will always fail in the worst possible way. \\ue021e \\ue032\\ue038 decides the e\\ue02fect on a Crit or Fumble, but on page 43 is an optional table of arcane catastrophes. \\ue029\\ue025\\ue030\\ue027\\ue02a\\ue026\\ue025 \\ue02b\\ue030\\ue028\\ue021\\ue027\\ue027\\ue02b \\ue02c10 1 \\ue02d\\ue031\\ue02a\\ue038\\ue026 \\ue028\\ue02d\\ue034\\ue022 \\ue023\\ue024\\ue034 \\ue026\\ue028\\ue036\\ue023\\ue024\\ue034\\ue029\\ue022 \\ue032\\ue031\\ue023\\ue034: A ball of fire hits \\ue02b2 creatures dealing \\ue02b8 damage per creature. 2 \\ue023\\ue028\\ue022\\ue032\\ue036\\ue034 \\ue028\\ue039 \\ue034\\ue029\\ue025\\ue026: A creature of your choice is confused for 10 minutes. 3 \\ue023\\ue034-\\ue02a\\ue034-\\ue03b\\ue025\\ue022-\\ue034\\ue026\\ue025\\ue026: Move an object up to \\ue02b10\\ue02c10 feet for \\ue02b6 minutes. 4 \\ue02a\\ue036\\ue035\\ue033-\\ue039\\ue025\\ue029\\ue034\\ue026 \\ue02a\\ue034\\ue03c\\ue025\\ue023\\ue031\\ue023\\ue025\\ue028\\ue022: Hover for Presence + \\ue02b10 rounds. 5 \\ue02b\\ue031\\ue034\\ue038\\ue028\\ue022 \\ue028\\ue039 \\ue035\\ue031\\ue02d\\ue025\\ue02a\\ue02a\\ue031\\ue029\\ue025\\ue034\\ue026: One creature su\\ue02focates for \\ue02b6 rounds, losing \\ue02b4 \\ue024\\ue02d per round. 6 \\ue022\\ue025\\ue022\\ue034 \\ue03c\\ue025\\ue028\\ue02a\\ue034\\ue023 \\ue026\\ue025\\ue032\\ue022\\ue026 \\ue036\\ue022\\ue03b\\ue022\\ue028\\ue023 \\ue023\\ue024\\ue034 \\ue026\\ue023\\ue028\\ue029\\ue038: Produce \\ue02b2 lightning bolts dealing \\ue02b6 damage each. 7 \\ue038\\ue034\\ue023\\ue03d\\ue024\\ue036\\ue028\\ue023\\ue02a \\ue037\\ue02a\\ue025\\ue022\\ue02b \\ue033\\ue028\\ue036\\ue029 \\ue034\\ue033\\ue034: A creature becomes invisible for \\ue02b6 rounds or until it is damaged, a\\ue02eacking/defending with \\ue02b\\ue0296. ']\n"
          ]
        }
      ]
    },
    {
      "cell_type": "code",
      "source": [
        "print(len(heading_list_4))\n",
        "print(len(heading_values_list_4[1:]))"
      ],
      "metadata": {
        "colab": {
          "base_uri": "https://localhost:8080/"
        },
        "id": "nRKSQDXI7PM0",
        "outputId": "70742b5e-6c3a-4aee-8326-38b937331ae8"
      },
      "execution_count": null,
      "outputs": [
        {
          "output_type": "stream",
          "name": "stdout",
          "text": [
            "23\n",
            "23\n"
          ]
        }
      ]
    },
    {
      "cell_type": "code",
      "source": [
        "heading_counter = 0\n",
        "\n",
        "heading_list_5 = []\n",
        "heading_values_list_5 = []\n",
        "\n",
        "heading_values = \"\"\n",
        "heading_counter = 0\n",
        "\n",
        "for ele in data2[\"elements\"]:\n",
        "    if \"Document/H2\" in ele[\"Path\"]:\n",
        "        heading_values_list_5.append(heading_values)\n",
        "        heading_values = \"\"\n",
        "        heading_counter = 0\n",
        "        if heading_counter == 0:\n",
        "            heading_counter = 1\n",
        "            heading_value_1 = ele[\"Text\"]\n",
        "            heading_list_5.append(heading_value_1)\n",
        "            continue\n",
        "    if \"Text\" in ele and heading_counter == 1:\n",
        "        heading_values += ele[\"Text\"]\n",
        "        # print(heading_values)\n",
        "\n",
        "heading_values_list_5.append(heading_values)\n",
        "\n",
        "print(heading_list_5)\n",
        "print(heading_values_list_5[1:])"
      ],
      "metadata": {
        "colab": {
          "base_uri": "https://localhost:8080/"
        },
        "outputId": "39b907ee-c494-4e33-a5cc-4d8fb6b6405f",
        "id": "uAOjrmU_7aah"
      },
      "execution_count": null,
      "outputs": [
        {
          "output_type": "stream",
          "name": "stdout",
          "text": [
            "['\\ue021\\ue022\\ue023\\ue024\\ue021\\ue025\\ue026\\ue027 \\ue028\\ue029\\ue027\\ue02a\\ue02b: ', '\\ue02b\\ue02a\\ue028\\ue02f\\ue024\\ue030\\ue02a\\ue02b ', '\\ue02d\\ue02a\\ue026\\ue022\\ue021\\ue025\\ue02b ', '\\ue026\\ue031\\ue024\\ue027\\ue024\\ue023\\ue024\\ue02a\\ue02b ', '\\ue02c\\ue024\\ue032\\ue032\\ue024\\ue030\\ue029\\ue027\\ue023\\ue033 \\ue028\\ue026\\ue023\\ue024\\ue025\\ue034\\ue02b (\\ue02c\\ue028) ', '\\ue031\\ue028\\ue021\\ue036\\ue02a\\ue025 (\\ue02c4) ', '\\ue024\\ue025\\ue024\\ue023\\ue024\\ue026\\ue023\\ue024\\ue02f\\ue02a (\\ue02c6) ', '\\ue02e\\ue02a\\ue027\\ue02a\\ue02a ', '\\ue028\\ue026\\ue025\\ue034\\ue02a\\ue02c ', '\\ue02c\\ue02a\\ue032\\ue02a\\ue025\\ue030\\ue02a ', '\\ue028\\ue021\\ue027\\ue027 \\ue032\\ue021\\ue028 \\ue02e\\ue021\\ue028\\ue026\\ue027\\ue02a \\ue024\\ue032 ', 'or worse ', '\\ue029\\ue025\\ue030\\ue027\\ue02a\\ue026\\ue025 \\ue02b\\ue030\\ue028\\ue021\\ue027\\ue027\\ue02b \\ue02c10 ']\n",
            "['† Start by choosing or randomizing a class (page 46 and on) and follow the class’ instructions on rolling for equipment, weapons and armor. † Roll on the tables on pages 38–42. † Roll a number of Omens (page 37). I\\ue022 \\ue023\\ue024\\ue025\\ue026 \\ue027\\ue028\\ue029\\ue02a\\ue02b there are those who seek riches or redemption. Some say the apocalypse is escapable, that it might even be stopped. And there you walk in discord and despair. One hand holds 2\\ue02b6 \\ue02c 10 silver (s), the other holds a waterskin and \\ue02b4 days worth of food. Your soul and your silver are your own and equally easy to lose. To begin with, you are what you own: \\ue02c6 1–2 nothing 3 backpack for 7 normal-sized items 4 sack for 10 normal-sized items 5 small wagon or one item above of your choice 6 donkey, not bad. Or one of the above of your choice \\ue02c12 1 rope 30 feet 2 Presence + 4 torches 3 lantern with oil for Presence + 6 hours 4 magnesium strip 5 random unclean scroll 6 sharp needle 7 medicine chest Presence+4 uses  (stops bleeding/infection and heals \\ue02b6 \\ue024\\ue02d) 8 metal file and lockpicks 9 bear trap (Presence \\ue02b\\ue02914 to spot, \\ue02b8 damage) 10 bomb (sealed bo\\ue02ele, \\ue02b10 damage) 11 a bo\\ue02ele of red poison \\ue02b4 doses  (Toughness \\ue02b\\ue02912 or \\ue02b10 damage) 12 silver crucifix and \\ue02c12 1 1 life elixir \\ue02b4 doses (heals \\ue02b6 \\ue024\\ue02d and removes infection) 2 random sacred scroll 3 small but vicious dog (\\ue02b6+2 \\ue024\\ue02d, bite \\ue02b4, only obeys you) 4 \\ue02b4 monkeys that ignore but love you  (\\ue02b4+2 \\ue024\\ue02d, punch/bite \\ue02b4) 5 exquisite perfume worth 25s 6 toolbox 10 nails, tongs, hammer, small saw and drill 7 heavy chain 15 feet 8 grappling hook 9 shield (-1 \\ue024\\ue02d damage or have the shield break to ignore one a\\ue02eack) 10 crowbar (\\ue02b4 damage) 11 lard (may function as 5 meals in a pinch) 12 tent Scrolls are the twisted magic of MÖRK BORG. Read more on page 34. \\ue02d\\ue02a\\ue026\\ue022\\ue021\\ue025\\ue02b \\ue02c10 (\\ue0216 if you begin with a scroll) Unarmed \\ue02b2 damage 1  Femur \\ue02b4 2 Sta\\ue02f \\ue02b4 3 Shortsword \\ue02b4 4 Knife \\ue02b4 5 Warhammer \\ue02b6 6 Sword \\ue02b6 7 Bow \\ue02b6, with Presence +10 arrows 8 Flail \\ue02b8 9 Crossbow \\ue02b8, with Presence + 10 bolts 10 Zweihänder \\ue02b10 \\ue026\\ue028\\ue02e\\ue021\\ue028 \\ue02c4 (\\ue0212 if you begin with a scroll) 1 no armor (tier 0) 2 light (fur, padded cloth, leather etc, \\ue030\\ue02b2 damage, tier 1) 20s 3 medium armor (scale, mail etc, \\ue030\\ue02b4 damage, tier 2) 100s \\ue021\\ue022 +2 on Agility tests including defence. 4 Heavy armor (splint, plate etc, \\ue030\\ue02b6 damage, tier 3) 200s \\ue021\\ue022 +4 on Agility tets, defence is \\ue021\\ue022+2 shield \\ue0301 damage 20s You can choose to ignore all damage from one a\\ue023ack but shield breaks. Scrolls will never work when wielding zweihand weapons or medium/heavy armor. Equipment Backpack 6s Holds 7 normal-sized items Bear trap 20s Presence \\ue02b\\ue02914 to spot, \\ue02b8 damage Blanket 4s Caltrops 7s \\ue02b4 damage + infection on 1 in 6 Chalk 1s Chewing tobacco 1s Crowbar 8s Crucifix, silver 60s Crucifix, wood 8s Dried food 1s 1 day Exquisite perfume 25s Firesteel 4s Grappling hook 12s Hammer 8s Heavy chain 10s 15 feet Iron nails 10s 10 nails Ladder 7s Lantern oil 5s Presence + 6 hours Lard 5s May function as 5 meals Large iron hook 9s Lockpicks 5s Magnesium strip 4s Manacles 10s Ma\\ue02eress 3s Meat cleaver 15s Medicine box 15s Stops bleeding/infection and +\\ue02b6 \\ue024\\ue02d. Presence + 4 uses Metal file 10s Mirror 15s Muzzle 6s Noose 5s Oil lamp 10s Poison (black) 20s Toughness \\ue02b\\ue02914 or \\ue02b6 damage  + blind for one hour. 3 doses Poison (red) 20s Toughness \\ue02b\\ue02912 or \\ue02b10 damage. 3 doses Preserved corpse 66+\\ue02b6s Rope 4s 30 feet Small wagon 25s Tent 12s Toolbox 20s 10 nails, hammer, small saw, tongs Torch 2s Sack 3s Holds 10 normal sized items Salt 4s Scissors 9s Scroll worth roughly 50s to the right buyer Sharp needle 3s Waterskin 4s 4 days of water Improvised weapons do \\ue02b4 damage. Who wouldn’t forgo fisticu\\ue02fs for a grappling hook? ', 'Night in hospice 3s Drink 1s Steady meal 2s Bribe, guard 20–40s Bribe, clerk 30–60s Bribe, rabble 5–15s Repair Armor* Tier 1 to 2 25s Tier 2 to 3 40s *Armor cannot be repaired to a tier higher than its original. ', '\\ue031\\ue02a\\ue026\\ue02b\\ue023\\ue02b Dog (trained) 25s Dog (wild) 10s Horse 80s Mule 10s Rat (tame) 8s Abilities \\ue031\\ue032\\ue025\\ue02a\\ue025\\ue023\\ue033 Defend, balance, swim, flee \\ue02d\\ue029\\ue034\\ue026\\ue034\\ue022\\ue035\\ue034 Perceive, aim, charm, wield Powers \\ue026\\ue023\\ue029\\ue034\\ue022\\ue032\\ue023\\ue024 Crush, lift, strike, grapple \\ue023\\ue028\\ue036\\ue032\\ue024\\ue022\\ue034\\ue026\\ue026 Resist poison/cold/heat, survive falling R\\ue028\\ue02a\\ue02a 3\\ue02b6 \\ue031\\ue022\\ue02b \\ue036\\ue026\\ue025\\ue022\\ue032 \\ue023\\ue024\\ue034 \\ue023\\ue031\\ue037\\ue02a\\ue034 \\ue028\\ue022 \\ue023\\ue024\\ue034 \\ue029\\ue025\\ue032\\ue024\\ue023 to generate each ability score from \\ue0303 to +3. \\ue021e sum is not used in the game once the character is created, only the table value. Player Characters not created with the optional classes can roll 4\\ue02b6 and drop the lowest die for two of their abilities. When the character is later improved an ability can never exceed +6 or \\ue0303. ', '1–4 –3 5–6 –2 7–8 –1 9–12 ±0 13–14 +1 15–16 +2 17–20 +3 Tests T\\ue034\\ue026\\ue023\\ue026 \\ue031\\ue029\\ue034 \\ue038\\ue031\\ue02b\\ue034 \\ue031\\ue032\\ue031\\ue025\\ue022\\ue026\\ue023 \\ue031 \\ue02b\\ue025\\ue039\\ue039\\ue025\\ue035\\ue036\\ue02a\\ue023\\ue033 \\ue029\\ue031\\ue023\\ue025\\ue022\\ue032. To succeed roll \\ue02b20 ±your ability with a result equal to or greater than the \\ue02b\\ue029. Creatures don’t use abilities, they just roll a \\ue02b20 against \\ue02b\\ue029. For example, find bear trap \\ue02b\\ue02914 or resist red poison \\ue02b\\ue02912. ', '6 so simple people laugh at you for failing 8 routine but some chance of failure 10 pre\\ue02ey simple but not simple enough to not roll 12 normal 14 di\\ue03acult 16 really hard 18 should not be possible Carrying Capacity Y\\ue028\\ue036 \\ue035\\ue031\\ue022 \\ue035\\ue031\\ue029\\ue029\\ue033 \\ue026\\ue023\\ue029\\ue034\\ue022\\ue032\\ue023\\ue024+8 normal-sized items (for example crowbars, lard, scrolls, torches but not anvils, chests, ladders, corpses) without a problem. After that when testing Strength and Agility \\ue02b\\ue029 increases by 2 (from 12 to 14 etc.). It is impossible to carry more than twice Strength+8. Hit Points B\\ue034\\ue032\\ue025\\ue022 \\ue027\\ue025\\ue023\\ue024 \\ue023\\ue028\\ue036\\ue032\\ue024\\ue022\\ue034\\ue026\\ue026 + \\ue02b8. In worst case 1\\ue024\\ue02d, but never less. Zero \\ue035\\ue022: broken Negative \\ue035\\ue022: dead ', '1 Fall unconscious for \\ue02b4 rounds, awaken with \\ue02b4 \\ue024\\ue02d. 2 Roll a \\ue02b6: 1-5 = Broken or severed limb. 6 = Lost eye.  Can’t act for \\ue02b4 rounds then become active with \\ue02b4 \\ue024\\ue02d. 3 Hemorrhage: death in \\ue02b2 hours unless treated. All tests are \\ue02b\\ue02916 the first hour. \\ue02b\\ue02918 the last hour. 4 Dead. Violence ', '1–3 enemies go first 4–6 \\ue02d\\ue035s go first Agility + \\ue0216 for individual initiative or to determine who goes first within the group. Players roll for both their a\\ue02eacks and defences.  Creatures and enemies don’t roll dice in combat. \\ue021e \\ue02b\\ue029 for a\\ue02eacks and defence are modified as with any test. ', 'Test Strength \\ue02b\\ue02912 ', 'Test Presence \\ue02b\\ue02912 ', 'Test Agility \\ue02b\\ue02912 If you fail the enemy hits you. Enemies a\\ue02eack once per round unless noted otherwise. \\ue030\\ue028\\ue024\\ue023 (\\ue025\\ue026\\ue023\\ue029\\ue028\\ue026\\ue027 20) A\\ue02eack: Double damage, armor/protection is also reduced one tier. Defence: \\ue02d\\ue035 gains a free a\\ue02eack. \\ue032\\ue029\\ue02e\\ue031\\ue027\\ue02a (\\ue025\\ue026\\ue023\\ue029\\ue028\\ue026\\ue027 1) A\\ue02eack: \\ue021e weapon breaks or is lost. Defence: \\ue02d\\ue035 takes double damage and armor is reduced one tier. When armor is damaged penalties to Strength and Agility tests are not modified. Armor reduced below 1st tier is ruined and cannot be repaired. For armor repair costs, see Equipment on page 24. How long is a round? A round is enough time to make an a\\ue02eack (or use a Power) and traverse a normal-sized room. \\ue021ere are usually 10 rounds in one minute. Rest † Catch your breath, have a drink. Restore \\ue02b4 \\ue024\\ue02d. † A full night’s sleep restores \\ue02b6 \\ue024\\ue02d. † Without food or drink no \\ue024\\ue02d is restored when resting and after two days a starving \\ue02d\\ue035 loses \\ue02b4 \\ue024\\ue02d per day. † An infected character does not benefit from resting. Instead, \\ue02b6 \\ue024\\ue02d is lost daily. Reaction (2D6) W\\ue024\\ue034\\ue022 \\ue038\\ue034\\ue034\\ue023\\ue025\\ue022\\ue032 \\ue035\\ue029\\ue034\\ue031\\ue023\\ue036\\ue029\\ue034\\ue026 whose reaction is uncertain. 2–3 Kill! 4–6 Angered 7–8 Indi\\ue02ferent 9–10 Almost friendly 11–12 Helpful Morale M\\ue028\\ue026\\ue023 \\ue034\\ue022\\ue034\\ue038\\ue025\\ue034\\ue026 \\ue027\\ue025\\ue02a\\ue02a \\ue022\\ue028\\ue023 \\ue039\\ue025\\ue032\\ue024\\ue023 to the last drop of blood. ', 'the leader is killed half the group is eliminated a single enemy has only 1/3 of its \\ue024\\ue02d left If you roll greater than the creature’s Morale value with 2\\ue02b6, it is demoralized. Roll \\ue02b6 to see if the enemy (1–3) flees or  (4–6) surrenders. Getting Better ', 'T\\ue024\\ue034 \\ue032\\ue031\\ue038\\ue034 \\ue038\\ue031\\ue026\\ue023\\ue034\\ue029 \\ue02b\\ue034\\ue035\\ue025\\ue02b\\ue034\\ue026 when a character should be improved. It can be after completing a scenario, killing mighty foes or bringing home treasure. When this happens the following things occur: More \\ue021\\ue022 Roll 6\\ue02b10. If the result is equal to or greater than your current maximum \\ue024\\ue02d, increase it by \\ue02b6. Left in the debris you find \\ue02c6 1–3 nothing 4 3\\ue02b10 silver 5 an unclean scroll 6 a sacred scroll Ability changes Roll a \\ue02b6 against every ability. Results equal to or greater than the ability increase it by 1, to a maximum of +6. Results below the ability decrease it by 1. Abilities from \\ue0303 to +1 are always increased by 1 unless the \\ue02b6 result is 1. \\ue021e ability is then reduced by 1, but never below -3. Powers A \\ue039\\ue034\\ue027 \\ue026\\ue028-\\ue035\\ue031\\ue02a\\ue02a\\ue034\\ue02b \\ue02d\\ue028\\ue027\\ue034\\ue029\\ue026 are known and they are usually found wri\\ue02een in scrolls. Roll Presence + \\ue02b4 every morning to determine how many times you can use Powers that day; choose from your available scrolls. When reading a scroll, test Presence \\ue02b\\ue02912. If you succeed, the Power is activated and you subtract one use from your daily total. If you fail, the Power doesn’t work, you lose \\ue02b2 \\ue024\\ue02d and you become dizzy for the next hour. During this time, Powers will always fail in the worst possible way. \\ue021e \\ue032\\ue038 decides the e\\ue02fect on a Crit or Fumble, but on page 43 is an optional table of arcane catastrophes. ', '1 \\ue02d\\ue031\\ue02a\\ue038\\ue026 \\ue028\\ue02d\\ue034\\ue022 \\ue023\\ue024\\ue034 \\ue026\\ue028\\ue036\\ue023\\ue024\\ue034\\ue029\\ue022 \\ue032\\ue031\\ue023\\ue034: A ball of fire hits \\ue02b2 creatures dealing \\ue02b8 damage per creature. 2 \\ue023\\ue028\\ue022\\ue032\\ue036\\ue034 \\ue028\\ue039 \\ue034\\ue029\\ue025\\ue026: A creature of your choice is confused for 10 minutes. 3 \\ue023\\ue034-\\ue02a\\ue034-\\ue03b\\ue025\\ue022-\\ue034\\ue026\\ue025\\ue026: Move an object up to \\ue02b10\\ue02c10 feet for \\ue02b6 minutes. 4 \\ue02a\\ue036\\ue035\\ue033-\\ue039\\ue025\\ue029\\ue034\\ue026 \\ue02a\\ue034\\ue03c\\ue025\\ue023\\ue031\\ue023\\ue025\\ue028\\ue022: Hover for Presence + \\ue02b10 rounds. 5 \\ue02b\\ue031\\ue034\\ue038\\ue028\\ue022 \\ue028\\ue039 \\ue035\\ue031\\ue02d\\ue025\\ue02a\\ue02a\\ue031\\ue029\\ue025\\ue034\\ue026: One creature su\\ue02focates for \\ue02b6 rounds, losing \\ue02b4 \\ue024\\ue02d per round. 6 \\ue022\\ue025\\ue022\\ue034 \\ue03c\\ue025\\ue028\\ue02a\\ue034\\ue023 \\ue026\\ue025\\ue032\\ue022\\ue026 \\ue036\\ue022\\ue03b\\ue022\\ue028\\ue023 \\ue023\\ue024\\ue034 \\ue026\\ue023\\ue028\\ue029\\ue038: Produce \\ue02b2 lightning bolts dealing \\ue02b6 damage each. 7 \\ue038\\ue034\\ue023\\ue03d\\ue024\\ue036\\ue028\\ue023\\ue02a \\ue037\\ue02a\\ue025\\ue022\\ue02b \\ue033\\ue028\\ue036\\ue029 \\ue034\\ue033\\ue034: A creature becomes invisible for \\ue02b6 rounds or until it is damaged, a\\ue02eacking/defending with \\ue02b\\ue0296. ']\n"
          ]
        }
      ]
    },
    {
      "cell_type": "code",
      "source": [
        "print(len(heading_list_5))\n",
        "print(len(heading_values_list_5[1:]))"
      ],
      "metadata": {
        "colab": {
          "base_uri": "https://localhost:8080/"
        },
        "id": "s49hDf_V7j5c",
        "outputId": "74ed7502-d49e-4370-c504-72a939ab872b"
      },
      "execution_count": null,
      "outputs": [
        {
          "output_type": "stream",
          "name": "stdout",
          "text": [
            "13\n",
            "13\n"
          ]
        }
      ]
    },
    {
      "cell_type": "code",
      "source": [
        "heading_list_part2 = heading_list_4 + heading_list_5\n",
        "len(heading_list_part2)"
      ],
      "metadata": {
        "colab": {
          "base_uri": "https://localhost:8080/"
        },
        "id": "mqfQvnlx7szX",
        "outputId": "5307cf0a-f5fc-47cf-9546-00d0a8411d01"
      },
      "execution_count": null,
      "outputs": [
        {
          "output_type": "execute_result",
          "data": {
            "text/plain": [
              "36"
            ]
          },
          "metadata": {},
          "execution_count": 84
        }
      ]
    },
    {
      "cell_type": "code",
      "source": [
        "heading_values_part_2 = heading_values_list_4[1:] + heading_values_list_5[1:]\n",
        "len(heading_values_part_2)"
      ],
      "metadata": {
        "colab": {
          "base_uri": "https://localhost:8080/"
        },
        "id": "jStZlVYl8SBn",
        "outputId": "9b2fb1b8-554f-4b97-8d1e-31086162b47a"
      },
      "execution_count": null,
      "outputs": [
        {
          "output_type": "execute_result",
          "data": {
            "text/plain": [
              "36"
            ]
          },
          "metadata": {},
          "execution_count": 85
        }
      ]
    },
    {
      "cell_type": "code",
      "source": [],
      "metadata": {
        "id": "1YDNAprI8ksJ"
      },
      "execution_count": null,
      "outputs": []
    },
    {
      "cell_type": "code",
      "source": [
        "import json\n",
        "\n",
        "with open(\"/content/structuredData3.json\") as f:\n",
        "    data3 = json.load(f)"
      ],
      "metadata": {
        "id": "olh-WIxz8nL7"
      },
      "execution_count": null,
      "outputs": []
    },
    {
      "cell_type": "code",
      "source": [
        "for ele in data3[\"elements\"]:\n",
        "    if \"Document/H\" in ele[\"Path\"]:\n",
        "        print(ele[\"Path\"])"
      ],
      "metadata": {
        "colab": {
          "base_uri": "https://localhost:8080/"
        },
        "id": "HzFXD9J39Gsu",
        "outputId": "f2a43565-6a41-484e-a71c-da759d753ca8"
      },
      "execution_count": null,
      "outputs": [
        {
          "output_type": "stream",
          "name": "stdout",
          "text": [
            "//Document/H1\n",
            "//Document/H1[2]\n",
            "//Document/H1[3]\n",
            "//Document/H2\n",
            "//Document/H3\n",
            "//Document/H1[4]\n",
            "//Document/H1[5]\n",
            "//Document/H2[2]\n",
            "//Document/H2[3]\n",
            "//Document/H1[6]\n",
            "//Document/H1[7]\n",
            "//Document/H1[8]\n",
            "//Document/H2[4]\n",
            "//Document/H1[9]\n",
            "//Document/H1[10]\n",
            "//Document/H1[11]\n",
            "//Document/H2[5]\n",
            "//Document/H3[2]\n",
            "//Document/H3[3]\n",
            "//Document/H3[4]\n",
            "//Document/H2[6]\n",
            "//Document/H3[5]\n",
            "//Document/H3[6]\n",
            "//Document/H2[7]\n",
            "//Document/H1[12]\n",
            "//Document/H2[8]\n",
            "//Document/H2[9]\n"
          ]
        }
      ]
    },
    {
      "cell_type": "code",
      "source": [
        "heading_counter = 0\n",
        "\n",
        "heading_list_6 = []\n",
        "heading_values_list_6 = []\n",
        "\n",
        "heading_values = \"\"\n",
        "heading_counter = 0\n",
        "\n",
        "for ele in data3[\"elements\"]:\n",
        "    if \"Document/H1\" in ele[\"Path\"]:\n",
        "        heading_values_list_6.append(heading_values)\n",
        "        heading_values = \"\"\n",
        "        heading_counter = 0\n",
        "        if heading_counter == 0:\n",
        "            heading_counter = 1\n",
        "            heading_value_1 = ele[\"Text\"]\n",
        "            heading_list_6.append(heading_value_1)\n",
        "            continue\n",
        "    if \"Text\" in ele and heading_counter == 1:\n",
        "        heading_values += ele[\"Text\"]\n",
        "        # print(heading_values)\n",
        "\n",
        "heading_values_list_6.append(heading_values)\n",
        "\n",
        "print(heading_list_6)\n",
        "print(heading_values_list_6[1:])"
      ],
      "metadata": {
        "colab": {
          "base_uri": "https://localhost:8080/"
        },
        "id": "utBpQHNX9Lci",
        "outputId": "3f4d1872-2ebc-4122-f6c9-56facc18473c"
      },
      "execution_count": null,
      "outputs": [
        {
          "output_type": "stream",
          "name": "stdout",
          "text": [
            "['\\ue021\\ue022\\ue023\\ue024\\ue025\\ue026\\ue022 \\ue027\\ue023\\ue028\\ue029\\ue024\\ue024\\ue027 \\ue02a10, \\ue023\\ue029\\ue022\\ue02b. ', 'The Basilisks Demand (d20) ', 'Optional Rules ', '\\ue021\\ue027\\ue025 \\ue029\\ue02c\\ue025\\ue022\\ue027 \\ue02b\\ue029: ', 'Optional Tables ', '\\ue02e\\ue026\\ue02a \\ue031\\ue026\\ue02e\\ue02d\\ue02b\\ue027, \\ue02a20 ', '\\ue02b\\ue028\\ue029\\ue021\\ue02e\\ue024\\ue02d\\ue022\\ue032 \\ue02b\\ue026\\ue024\\ue025\\ue027, \\ue02a20 ', 'Arcane Catastrophes ', '\\ue026\\ue028\\ue023\\ue026\\ue022\\ue025 \\ue023\\ue026\\ue02b\\ue026\\ue027\\ue02b\\ue028\\ue029\\ue033\\ue031\\ue025\\ue027 (\\ue02a20) ', '\\ue026\\ue028\\ue023\\ue026\\ue022\\ue025 \\ue023\\ue026\\ue02b\\ue026\\ue027\\ue02b\\ue028\\ue029\\ue033\\ue031\\ue025\\ue027 (\\ue02a20) \\ue023\\ue029\\ue022\\ue02b. ', 'Optional Classes (D6) ', '3. Esoteric hermit ']\n",
            "['8 \\ue021\\ue022\\ue023\\ue024 \\ue025\\ue026\\ue027\\ue028\\ue029\\ue022\\ue02a\\ue025\\ue022\\ue02a\\ue025: Summon (\\ue02b6): 1–3 \\ue02b4 skeletons 4–6 \\ue02b4 zombies 9 \\ue02c\\ue027\\ue02c\\ue024\\ue02d\\ue02b \\ue02e\\ue024\\ue02d\\ue02f\\ue02b\\ue026 \\ue030\\ue029\\ue02c \\ue02a\\ue02d\\ue02f\\ue02b: \\ue02b4 creatures fall asleep for one hour unless they succeed a \\ue02b\\ue03114 test. 10 \\ue02b\\ue02c\\ue032\\ue030\\ue029: All creatures within 30 feet lose a total of 4\\ue02b10 \\ue029\\ue025. \\ue027\\ue026\\ue023\\ue028\\ue025\\ue02a \\ue027\\ue023\\ue028\\ue029\\ue024\\ue024\\ue027 \\ue02a10 1 \\ue033\\ue031\\ue032\\ue028\\ue02c \\ue022\\ue021 \\ue032 \\ue02b\\ue02c\\ue032\\ue02b \\ue026\\ue032\\ue02d\\ue02f\\ue030: \\ue02b2 creatures regain \\ue02b10 \\ue029\\ue025 each. 2 \\ue033\\ue031\\ue032\\ue028\\ue02c \\ue021\\ue022\\ue031 \\ue032 \\ue026\\ue02d\\ue02f\\ue02f\\ue02c\\ue031: A creature of your choice gets +\\ue02b6 on one roll (damage, tests etc.) 3 \\ue034\\ue029\\ue02d\\ue026\\ue025\\ue02c\\ue031\\ue026 \\ue025\\ue032\\ue026\\ue026 \\ue030\\ue029\\ue02c \\ue033\\ue032\\ue030\\ue02c: Ask three questions to a deceased creature. 4 \\ue032\\ue02c\\ue033\\ue02d\\ue026 \\ue022\\ue021 \\ue026\\ue022\\ue031\\ue031\\ue022\\ue034: A creature of your choice gains 2\\ue02b6 extra \\ue029\\ue025 for 10 rounds. 5 \\ue023\\ue02f\\ue02a\\ue02c\\ue030 \\ue021\\ue032\\ue030\\ue02c: One creature, dead for no more than a week, is awakened with terrible memories. 6 \\ue02e\\ue02c\\ue026\\ue030\\ue02d\\ue032\\ue024 \\ue026\\ue025\\ue02c\\ue02c\\ue028\\ue029: You may speak with animals for \\ue02b20 minutes. 7 \\ue021\\ue032\\ue024\\ue026\\ue02c \\ue02b\\ue032\\ue034\\ue02f/\\ue02f\\ue02d\\ue033\\ue029\\ue030’\\ue026 \\ue028\\ue029\\ue032\\ue031\\ue02d\\ue022\\ue030: Light or pitch black for 3\\ue02b10 minutes. 8 \\ue029\\ue02c\\ue031\\ue02a\\ue02c\\ue030\\ue02d\\ue028 \\ue026\\ue030\\ue02c\\ue025: You find all traps in your path for 2\\ue02b10 minutes. 9 \\ue031\\ue022\\ue026\\ue035\\ue022\\ue02c’\\ue026 \\ue028\\ue022\\ue02f\\ue026\\ue023\\ue02a\\ue02d\\ue02f\\ue033 \\ue033\\ue024\\ue032\\ue031\\ue02c: \\ue02b4 creatures lose \\ue02b8 \\ue029\\ue025 each. 10 \\ue02c\\ue02f\\ue022\\ue028\\ue029\\ue02d\\ue032\\ue02f \\ue026\\ue027\\ue02f\\ue030\\ue032\\ue036: One creature blindly obeys a single command. ', '1 A sword that has killed exactly one dozen times 2 A widower’s wedding ring 3 Silver from a sinner’s grave 4 Eyes that have seen the Shimmering Fields 5 \\ue037e year’s first-born goat 6 Blutday bread 7 \\ue037e cuticle of an executed innocent 8 A troll’s heart valves 9 A dagger onto which the condemned carved their victims’ name 10 Rare anti-obsidian from the Urilian crypts 11 \\ue037e forbidden brew of the hermit of Terion 12 An orgh-maggot from the ice of Kergüs 13 A body mutilated by those who loved it in life 14 Joy’s lampoon wri\\ue038en in blood 15 \\ue037e gall of a Chrypt-vulture 16 Moss upon which a dying man has slept 17 A child born with the third eye 18 A body drowned in Lake Onda 19 \\ue037e rear molar of the Glu\\ue038onous 20 Gems from overflowing pockets ', 'Omens “järtecken” C\\ue024\\ue02c\\ue032\\ue031\\ue024\\ue027 \\ue030\\ue029\\ue02c \\ue02c\\ue027\\ue02c\\ue026 \\ue022\\ue021 \\ue022\\ue030\\ue029\\ue02c\\ue031 \\ue025\\ue022\\ue034\\ue02c\\ue031\\ue026 are upon you, Eldritch watchers or the tangled Fates of alternate worlds. Call it luck if you like. Every class gains a number of Omens. If you play without classes every character begins with \\ue02b2 Omens. When depleted roll the class’ designated die (\\ue02b2 if playing without classes) and regain that many Omens after resting at least six hours. ', '† deal maximum damage with an a\\ue038ack † reroll a dice roll (yours or someone else’s) † lower damage dealt to you by \\ue02b6 † neutralize a Crit or Fumble † lower one test’s \\ue02b\\ue031 by -4 ', 'Trauma, a bad childhood, hidden history or a twisted fate a\\ue038ending your birth already shaped you. \\ue02b\\ue025\\ue028\\ue028\\ue02d\\ue02e\\ue024\\ue025 \\ue02b\\ue028\\ue026\\ue02d\\ue02b\\ue027, \\ue02a20 (\\ue028\\ue029\\ue024\\ue024 \\ue02b\\ue02f\\ue02d\\ue023\\ue025) \\ue02e\\ue028\\ue029\\ue030\\ue025\\ue022 \\ue02e\\ue029\\ue02a\\ue02d\\ue025\\ue027, \\ue02a20 1 Staring manic gaze. 2 Covered in (for some) blasphemous ta\\ue038oos. 3 Ro\\ue038ing face. Wears a mask. 4 Lost three toes, limps. 5 Starved: faunt and pale. 6 One hand replaced with rusting hook (\\ue02b6 damage). 7 Decaying teeth. 8 Hauntingly beautiful, unnervingly clean. 9 Hands caked with sores. 10 Cataracts slowly but surly spreading in both eyes. 11 Long tangled hair, at least one cockroach in residence. 12 Broken, crushed ears. 13 Juddering and stu\\ue038ering from nerve damage or stress. 14 Corpulent, ravenous, drooling. 15 One hand lacks thumb and index finger, grips like a lobster. 16 Red, swollen alcoholic’s nose. 17 Resting maniac face, making friends is hard. 18 Chronic athlete’s foot. Stinks. 19 Recently slashed and stinking eye covered with a patch. 20 Nails cracked and black, maybe about to drop o\\ue039. ', '1 Obsessively collect small sharp stones. 2 Won’t use a blade without testing it on your own flesh. Arms kni\\ue038ed with scars. 3 Can’t stop drinking once you start. 4 Gambling addict. Must bet every day. If you lose, raise and bet again. 5 Cannot tolerate criticism of any kind. Results in rage and weeping. 6 Unable to get to the point. Have never actually finished a story. 7 Best friend is a skull. Carry it with you, tell it everything, you trust no one more. 8 You pick your nose so deep it bleeds. 9 Laugh hysterically at your own jokes which you then explain in detail. 10 A nihilist. You insist on telling everyone you are a nihilist and explaining why. 11 Inveterate bug eater. 12 Stress response is aesthetic display. \\ue037e worse things get the fancier you need to be. 13 Permanent phlegm deposit in throat. Continuously cough, snort, spit and swallow. 14 Pyromaniac 15 C onsistently lose important items and forget vital facts. 16 Insecure shit-stirrer. Will talk about whoever just left the room. 17 You stu\\ue038er when lying. 18 You giggle insanely at the worst possible times. 19 You whistle while trying to hide. You will deny this. Whistle when 5, 7, 9, 11 or 13 is rolled on a \\ue02b20. 20 You make jewelry from the teeth of the dead.  If this can be considered a bad habit. \\ue037e whole group can share the same backstory, or groups within the group can share a tale. Or the \\ue033\\ue02a can quickly give history to a seemingly mundane character. ', '1 Pursued for manslaughter. \\ue037ere is a bounty. 2 In massive debt. \\ue037e debt is being traded to successively more ruthless groups 3 Have a rare, sought after item. 4 Have a cursed never healing wound. 5 Had an illegal, immoral and secret a\\ue039air with a member of the royal family. Has proof. 6 Escaped cult member. Terrified and paranoid.  Other cultists are everywhere. 7 An identity thief who recently killed and replaced this person. 8 Banished and disowned for unspecified deeds.  Can never go home 9 Deserted military after witnessing a massacre,  bounty on head. Hunted by former friends. 10 Very recently murdered a close relative. Very recently. 11 A puzzle cube has been calibrated incorrectly (or has it?), awakening a slumbering abomination. 12 Evil creatures love the scent of your spoor and are drawn to it, bringing disaster in your wake. 13 A ba\\ue038le wound left a shard of metal slowly inching closer to your heart. Every day there is a 2 % chance it reaches it. 14 Violence forced you into the wilderness. You think waving trees are whispering. You talk to, scream at, a\\ue038ack trees. 15 Cursed to share the nightmares of others, you sleep far, far away. 16 At permanent war with all corvids. No contact without some violence. You carry a sling. 17 After dreaming of an underground temple to a forgo\\ue038en god you understand the songs of insects and worms. 18 Being tracked and observed by a golem after an agreement which you know has been wiped from your mind. 19 “Burn or be burned” is the fate you accept. 20 Your flesh heals twice as fast, but your companions twice as slow. You see a many-eyed “guardian angel.” ', '\\ue027\\ue022\\ue023 \\ue031\\ue02c\\ue032\\ue02b \\ue02d\\ue030 \\ue034\\ue031\\ue022\\ue02f\\ue033 \\ue027\\ue022\\ue023 \\ue02d\\ue024\\ue024\\ue02d\\ue030\\ue02c\\ue031\\ue032\\ue030\\ue02c \\ue021\\ue022\\ue022\\ue024! E\\ue021ects in italic are things the caster might not immediately realize. A caster who rolls the same result twice explodes in screaming black fire in which the faces of the dead are seen. D6 damage each round.Water only feeds this fire. ', '1 One by one your teeth fall out. Long, bri\\ue038le fingernails replace them in your gums. Your smile is horrific and you find it hard to eat. 2 You feel fine. It’s fine. You pustulate with a magical STD. \\ue022ose intimate with you will die of plague within \\ue02b4 days then rise as woeful weeping zombies who track you down in your dreams before finding you in reality. 3 Your skeleton is possessed by some unearthly force and will do anything to kill you and escape. Drowning or piercing is preferred so the bones are not damaged. Test Strength \\ue02b\\ue03110 in stressful situations or take \\ue02b4 damage. When you die, you become a zombie. 4 \\ue037e illusion of the celestial sphere is lifted, you now see what dwells beyond. And it sees you. Gazing upon a clear night sky drives you mad with fear. 5  Around you falls an unending snow of black ash which only you and the mad can perceive. Water sickens you from this day on. Only ash, soot or burnt remains can quench your thirst. 6 \\ue037e earth decays around you like wet flesh. You sink 3 feet and cannot climb out without help. Clinging to you, screaming and biting are \\ue02b4 translucent, crayfish-like children with your face. \\ue031\\ue033 3 Morale - No armor Bite/pinch \\ue02b4 ', '7 Your skin ta\\ue038ers like paper, your flesh melts like wax and your intestines bloat like balloons, bursting and falling out until all that is left is a walking, talking skeleton. 8 A gnashing gaptoothed mouth splits open on your neck. It spits out your secrets and inner thoughts and can be silenced to sleep only with blood. 9 \\ue037e sky warps and stars spin like wheels. \\ue037rown one day into the future, you arrive vomiting Time as evaporating silver bile. A Misery is fulfilled. 10 Light itself despises you. If you gaze upon a candle, lamp or torch it goes out. 11 Within \\ue02b4 days a vile cocoon heaves from the ground, soon bursting and spawning your exact clone. It is unintelligent and begins to spread mischief and su\\ue021ering. \\ue022is happens every couple of days until the ground is cleansed with holy water or fire. 12 Your eyes burn with insu\\ue039erable agony, bleeding heavily before loosening and falling from their gory pits. You continue to see through them wherever they are. 13 You and a random nearby creature pass out. When you wake up, your souls have switched. Welcome to your new flesh. 14 Five twisted, skeletal arms burst from your back. \\ue037e hands are mischievous, violent and terribly cruel. 15 Your skin pales then begins to emit a sickly greenish light. Living things held close to you slowly fall ill. \\ue022ey weaken, their bones become bri\\ue023le, their teeth and hair fall out. 16 \\ue037e Power works, but fate or a demonic force perverts its e\\ue039ects to your precise disadvantage. 17 \\ue037e scroll crumbles to tendrils of fine black powder which reach for your nose and mouth. Make a \\ue02b\\ue03114 Toughness test or lose \\ue02b10 \\ue029\\ue025. 18 \\ue037e Power pierces you like a knife, feeding on your anima. You are permanently gaunt and drawn, insatiably hungry. When resting you restore only half of the rolled \\ue029\\ue025. 19 You fall through Refva into the esoteric dimension of Cube-Violet, a place of mythical obscurity. \\ue037e walls are smooth, iridescent and cold. Above, an endless inferno.  To leave (\\ue02a4): 1. Slay riddling Kulvan (strong goblin, page 58)   who holds three colorless pearls. 2. Poison a close friend with crumbled Sict-Shroom    (Toughness \\ue02b\\ue03116 or -\\ue02b6 \\ue029\\ue025 and hallucinations).  \\ue037ey are found only within the cube. 3. Reach up through the fire to the golden key above.  \\ue02b4 fingers burn to ash. 4. \\ue037e cube is perfect, and empty. You can only wait in  maddening timeless silence until another fool arrives. 20 Perhaps it’s for the best. HE emerges from the shadows. At least your su\\ue039ering is short, almost instantaneous, as the two-headed basilisk devours you. ', '1. Fanged deserter Y\\ue022\\ue023 \\ue029\\ue032\\ue03a\\ue02c \\ue030\\ue029\\ue02d\\ue031\\ue030\\ue027 \\ue022\\ue031 \\ue026\\ue022 \\ue021\\ue031\\ue02d\\ue02c\\ue02f\\ue02b\\ue026 who never let you down: YOUR TEETH. Disloyal, deranged or simply uncontrollable, any group that didn’t boot you out you left anyway. But your parliament of teeth—enormous, protruding, thick and sharp —have always been your allies. \\ue02e\\ue02d\\ue030\\ue02c \\ue032\\ue030\\ue030\\ue032\\ue028\\ue035: \\ue02b\\ue03110 to a\\ue038ack, \\ue02b6 damage. You must be close to your target. 1–2 on \\ue02b6 chance the enemy gets a free a\\ue038ack. Begins with 2\\ue02b6 \\ue03b 10s and \\ue02b2 Omens. \\ue029\\ue025: Toughness + \\ue02b10 \\ue025\\ue026\\ue028\\ue024\\ue02d\\ue025\\ue027\\ue02b \\ue02c\\ue025\\ue02c\\ue029\\ue028\\ue02d\\ue025\\ue027 (\\ue02a6) 1 A burnt-black building in Sarkash. Your home? 2 A derelict ro\\ue038ing ship rolling endlessly across a grey sea. 3 A brothel in Schleswig. Quite a friendly environment. 4 Sleeping with dogs in the corner of an inn, waiting for someone to return. 5 Following an army in eastern Wästland. 6 Suckling a wolf in the wild of Bergen Chrypt. \\ue026\\ue02e\\ue02d\\ue024\\ue02d\\ue02b\\ue02d\\ue025\\ue027 \\ue02e\\ue023\\ue02d\\ue024\\ue030 \\ue024\\ue02d\\ue035\\ue02c \\ue032 \\ue02e\\ue023\\ue024\\ue024, roll 3\\ue02b6+2 for Strength. \\ue02f\\ue022\\ue030 \\ue032 \\ue02e\\ue031\\ue02d\\ue033\\ue029\\ue030 \\ue026\\ue025\\ue032\\ue031\\ue035, roll 3\\ue02b6-1 for Agility and Presence. Normal Agility tests are \\ue02b\\ue03114 instead of \\ue02b\\ue03112, excluding defence. \\ue02d\\ue024\\ue024\\ue02d\\ue030\\ue02c\\ue031\\ue032\\ue030\\ue02c; you are incapable of understanding scrolls. If you begin with one then reroll, eat it or use it as toilet paper. \\ue034\\ue029\\ue021 \\ue026\\ue024\\ue027\\ue029 \\ue02e\\ue025\\ue032\\ue02d\\ue022 \\ue02f\\ue02d\\ue02b\\ue031 \\ue029\\ue022\\ue025 \\ue029\\ue035 \\ue02b\\ue031\\ue025 \\ue035\\ue029\\ue024\\ue024\\ue029\\ue02f\\ue02d\\ue022\\ue032 (\\ue02a6): 1 \\ue028\\ue031\\ue023\\ue02a\\ue025\\ue024\\ue02c\\ue02b \\ue02a\\ue022\\ue02f\\ue026\\ue030\\ue02c\\ue031 \\ue02a\\ue032\\ue026\\ue035: Strikes primitive fear into lesser creatures like goblins, gnoums and children. While worn, they check Morale every round. 2 \\ue030\\ue029\\ue02c \\ue02e\\ue031\\ue022\\ue034\\ue02f \\ue026\\ue028\\ue02d\\ue02a\\ue02d\\ue030\\ue032\\ue031 \\ue022\\ue021 \\ue033\\ue032\\ue024\\ue033\\ue02c\\ue02f\\ue02e\\ue02c\\ue028\\ue035: A stinking sword you pulled from a military shit-ditch. D6 damage. \\ue02b\\ue03110 a\\ue038ack and defence while you wield it. 1 in 6 chance a wounded enemy is smi\\ue038en with potent sepsis, dying in 10 minutes. 3 \\ue034\\ue02d\\ue03c\\ue032\\ue031\\ue02b \\ue030\\ue02c\\ue02c\\ue030\\ue029: Four weird teeth ra\\ue038le within a blackened pouch. Before ba\\ue038le roll a \\ue02b6 for each one. For every 6 one of your a\\ue038acks deals maximum damage. 4 \\ue022\\ue024\\ue02b \\ue026\\ue02d\\ue033\\ue03d\\ue031\\ue02b’\\ue026 \\ue026\\ue024\\ue02d\\ue02f\\ue033: Sigûrd was the strongest man whose throat you ever gnawed. Woven from his long grey hair, this sling has never failed you. 2\\ue02b4 damage, requires fist-sized rocks which, perhaps regre\\ue038ably, are everywhere. 5 \\ue032\\ue02f\\ue028\\ue02d\\ue02c\\ue02f\\ue030 \\ue033\\ue022\\ue031\\ue02c-\\ue029\\ue022\\ue023\\ue02f\\ue02b: Asthmatic, deluded and on its last legs, this wizened creature still has a superb nose and can sni\\ue039le up treasure in the most disgusting debris. A\\ue038acks with \\ue02b\\ue03110 (bite \\ue02b6). Defends with \\ue02b\\ue03112, 10 \\ue029\\ue025. Becomes frenzied around goblins and berserkers. 6 \\ue030\\ue029\\ue02c \\ue026\\ue029\\ue022\\ue02c \\ue022\\ue021 \\ue02b\\ue02c\\ue032\\ue030\\ue029’\\ue026 \\ue029\\ue022\\ue031\\ue026\\ue02c: It looks normal but since finding it in an obscure crypt you are convinced this shoe came from the horse of Death himself. In your hands it hits with \\ue02b\\ue03110, \\ue02b4 damage. 1 in 6 chance the shoe smashes the skull, instantly killing small-to-medium sized creatures. \\ue037e shoe returns to your hand like a boomerang. 2. Gu\\ue021erborn Scum A\\ue02f \\ue02d\\ue024\\ue024 \\ue026\\ue030\\ue032\\ue031 \\ue026\\ue02a\\ue02d\\ue024\\ue02c\\ue02b \\ue023\\ue025\\ue022\\ue02f \\ue027\\ue022\\ue023\\ue031 \\ue02e\\ue02d\\ue031\\ue030\\ue029. Poverty, crime and bad parenting didn’t help either. In your community an honest day’s work was never an option. Not that you ever tried, what are you, some kind of mug? A razor blade and a moonless night are worth a week of chump-work. Begins with 1\\ue02b6\\ue03b10s and \\ue02b2 Omens. \\ue029\\ue025: Toughness+\\ue02b6 \\ue02e\\ue026\\ue02a \\ue02e\\ue02d\\ue028\\ue02b\\ue031 (\\ue02a6) Dumped onto a moving shit-cart still in your birth caul.1 2 Mother hanged from a tree outside of Galgenbeck, you fell from the corpse. 3 Raised by rats in the gu\\ue038ers of Grift. 4 Kicked and beaten beneath a baker’s table in Schleswig. 5 Escaped the Tvelandian orphanarium. 6 Educated by outlaws in a hovel south of Alliáns. \\ue026\\ue02e\\ue02d\\ue024\\ue02d\\ue02b\\ue02d\\ue025\\ue027 \\ue026\\ue02a\\ue032\\ue024\\ue024, roll 3\\ue02b6\\ue03e2 for Strength. \\ue026\\ue030\\ue02c\\ue032\\ue024\\ue030\\ue029\\ue027, all Presence and Agility tests have their \\ue02b\\ue031 reduced by 2 (normal tests are \\ue02b\\ue03110 instead of \\ue02b\\ue03112). Roll \\ue02b6 on the weapon table and \\ue02b2 on the armor table. \\ue034\\ue029\\ue021 \\ue026\\ue024\\ue027\\ue029 \\ue02e\\ue025\\ue032\\ue02d\\ue022 \\ue02f\\ue02d\\ue02b\\ue031 \\ue029\\ue022\\ue025 \\ue027\\ue033\\ue025\\ue023\\ue02d\\ue026\\ue024\\ue02b\\ue034 (\\ue02a6): 1 \\ue028\\ue022\\ue034\\ue032\\ue031\\ue02b’\\ue026 \\ue03f\\ue032\\ue02e: When a\\ue038acking by surprise test Agility \\ue02b\\ue03110. On a success you automatically hit once with a light one-handed weapon, dealing normal damage +3. 2 \\ue021\\ue02d\\ue024\\ue030\\ue029\\ue027 \\ue021\\ue02d\\ue02f\\ue033\\ue02c\\ue031\\ue026\\ue02a\\ue02d\\ue030\\ue029: Your snaky li\\ue038le digits get into pockets and pick locks with a \\ue02b\\ue0318 Agility test. You also begin with lockpicks! 3 \\ue032\\ue02e\\ue022\\ue02a\\ue02d\\ue02f\\ue032\\ue02e\\ue024\\ue02c \\ue033\\ue022\\ue02e \\ue024\\ue022\\ue02e\\ue02e\\ue02c\\ue031: Your phlegm is viscous, lumpy, vile and ballistically accurate at short range. You can spit \\ue02b2 times during a fight. Roll a \\ue02b\\ue0318 Presence test for accuracy. Targets are blinded, retching and vomiting for \\ue02b4 rounds. Anyone witnessing this—friend and foe— must make a Toughness test to not also vomit. \\ue025\\ue028s test \\ue02b\\ue03110 and enemies \\ue02b\\ue03112. 4 \\ue02c\\ue026\\ue028\\ue032\\ue025\\ue02d\\ue02f\\ue033 \\ue021\\ue032\\ue030\\ue02c: Every time you use an omen there is a 50% chance it is not spent. 5 \\ue02c\\ue036\\ue028\\ue031\\ue02c\\ue030\\ue032\\ue024 \\ue026\\ue030\\ue02c\\ue032\\ue024\\ue030\\ue029: You have an astounding, almost preternatural ability to hide in muck, debris and filth. When hidden in these conditions a \\ue02b\\ue03116 Presence test is required to notice you. 6 \\ue02b\\ue022\\ue02b\\ue033\\ue02d\\ue02f\\ue033 \\ue02b\\ue02c\\ue032\\ue030\\ue029: You are so unpleasant, irrelevant, disgusting and vile even Death would rather avoid you if it can. On death, if there is even the slightest possibility that you survived, there is a 50% chance that you did. If successful, after 10 rounds you pop back up with \\ue02b4 \\ue029\\ue025 and an unlikely explanation of your escape. \\ue037e first time the Scum gets be\\ue038er (see Ge\\ue038ing be\\ue038er, page 33) another specialty is rolled. From the second time the Scum gets be\\ue038er it’s possible to reroll these two specialities or just one. ', 'T\\ue029\\ue02c \\ue026\\ue030\\ue022\\ue02f\\ue02c \\ue022\\ue021 \\ue027\\ue022\\ue023\\ue031 \\ue028\\ue032\\ue03a\\ue02c is one with the stars. Silence and perfection. Now the chaos of a fallen world disturbs your rituals and the caul of night grows blacker than your cavern’s gloom. Irritating! Begins with 1\\ue02b6\\ue03b10s and \\ue02b4 Omens. \\ue029\\ue025: Toughness+\\ue02b4 \\ue025\\ue024\\ue02a\\ue028\\ue02d\\ue02b\\ue023\\ue031 \\ue029\\ue028\\ue02d\\ue032\\ue02d\\ue022\\ue027 (\\ue02a6) 1 Awakening, adult, in a ritual circle underneath the northern bridge to Grift. 2 Wandered, memoryless, from the mouth of a cavern at the cli\\ue039s of Terion. 3 Single child survivor of an incident in the Valley of the Unfortunate Undead. 4 Dying of plague in a Bergen Chrypt hovel, you touched something from outside. 5 An average individual until you encountered something in a dim glade in Sarkash. 6 Raised on a lonely island in Lake Onda. No one else has ever heard of this island and you can’t return. \\ue026\\ue02e\\ue02d\\ue024\\ue02d\\ue02b\\ue02d\\ue025\\ue027 \\ue034\\ue02d\\ue026\\ue02c, roll 3D6+2 for Presence. \\ue034\\ue02c\\ue032\\ue035, roll 3D6\\ue03e2 for Strength. Ordinary starting equipment plus one random scroll (sacred or unclean). Roll a D4 on the weapons table and D2 on the armor table. ']\n"
          ]
        }
      ]
    },
    {
      "cell_type": "code",
      "source": [
        "print(len(heading_list_6))\n",
        "print(len(heading_values_list_6[1:]))"
      ],
      "metadata": {
        "colab": {
          "base_uri": "https://localhost:8080/"
        },
        "id": "--mZJKXs9lm2",
        "outputId": "d7c74d28-3e5f-44e4-db52-28fd6493aa4c"
      },
      "execution_count": null,
      "outputs": [
        {
          "output_type": "stream",
          "name": "stdout",
          "text": [
            "12\n",
            "12\n"
          ]
        }
      ]
    },
    {
      "cell_type": "code",
      "source": [
        "heading_counter = 0\n",
        "\n",
        "heading_list_7 = []\n",
        "heading_values_list_7 = []\n",
        "\n",
        "heading_values = \"\"\n",
        "heading_counter = 0\n",
        "\n",
        "for ele in data3[\"elements\"]:\n",
        "    if \"Document/H2\" in ele[\"Path\"]:\n",
        "        heading_values_list_7.append(heading_values)\n",
        "        heading_values = \"\"\n",
        "        heading_counter = 0\n",
        "        if heading_counter == 0:\n",
        "            heading_counter = 1\n",
        "            heading_value_1 = ele[\"Text\"]\n",
        "            heading_list_7.append(heading_value_1)\n",
        "            continue\n",
        "    if \"Text\" in ele and heading_counter == 1:\n",
        "        heading_values += ele[\"Text\"]\n",
        "        # print(heading_values)\n",
        "\n",
        "heading_values_list_7.append(heading_values)\n",
        "\n",
        "print(heading_list_7)\n",
        "print(heading_values_list_7[1:])"
      ],
      "metadata": {
        "colab": {
          "base_uri": "https://localhost:8080/"
        },
        "id": "j2JkUuv79sTr",
        "outputId": "c7d0a014-6333-4c5b-c23c-576a189d3901"
      },
      "execution_count": null,
      "outputs": [
        {
          "output_type": "stream",
          "name": "stdout",
          "text": [
            "['Omens ', '\\ue02b\\ue025\\ue028\\ue028\\ue02d\\ue02e\\ue024\\ue025 \\ue02b\\ue028\\ue026\\ue02d\\ue02b\\ue027, \\ue02a20 (\\ue028\\ue029\\ue024\\ue024 \\ue02b\\ue02f\\ue02d\\ue023\\ue025) ', '\\ue02e\\ue028\\ue029\\ue030\\ue025\\ue022 \\ue02e\\ue029\\ue02a\\ue02d\\ue025\\ue027, \\ue02a20 ', '\\ue027\\ue022\\ue023 \\ue031\\ue02c\\ue032\\ue02b \\ue02d\\ue030 \\ue034\\ue031\\ue022\\ue02f\\ue033 \\ue027\\ue022\\ue023 \\ue02d\\ue024\\ue024\\ue02d\\ue030\\ue02c\\ue031\\ue032\\ue030\\ue02c \\ue021\\ue022\\ue022\\ue024! ', '1. Fanged deserter ', '2. Gu\\ue021erborn Scum ', '\\ue034\\ue029\\ue021 \\ue026\\ue024\\ue027\\ue029 \\ue02e\\ue025\\ue032\\ue02d\\ue022 \\ue02f\\ue02d\\ue02b\\ue031 \\ue029\\ue022\\ue025 \\ue027\\ue033\\ue025\\ue023\\ue02d\\ue026\\ue024\\ue02b\\ue034 (\\ue02a6): ', '\\ue025\\ue024\\ue02a\\ue028\\ue02d\\ue02b\\ue023\\ue031 \\ue029\\ue028\\ue02d\\ue032\\ue02d\\ue022\\ue027 (\\ue02a6) ', '\\ue026\\ue02e\\ue02d\\ue024\\ue02d\\ue02b\\ue02d\\ue025\\ue027 ']\n",
            "['“järtecken” C\\ue024\\ue02c\\ue032\\ue031\\ue024\\ue027 \\ue030\\ue029\\ue02c \\ue02c\\ue027\\ue02c\\ue026 \\ue022\\ue021 \\ue022\\ue030\\ue029\\ue02c\\ue031 \\ue025\\ue022\\ue034\\ue02c\\ue031\\ue026 are upon you, Eldritch watchers or the tangled Fates of alternate worlds. Call it luck if you like. Every class gains a number of Omens. If you play without classes every character begins with \\ue02b2 Omens. When depleted roll the class’ designated die (\\ue02b2 if playing without classes) and regain that many Omens after resting at least six hours. \\ue021\\ue027\\ue025 \\ue029\\ue02c\\ue025\\ue022\\ue027 \\ue02b\\ue029: † deal maximum damage with an a\\ue038ack † reroll a dice roll (yours or someone else’s) † lower damage dealt to you by \\ue02b6 † neutralize a Crit or Fumble † lower one test’s \\ue02b\\ue031 by -4 Optional Tables Trauma, a bad childhood, hidden history or a twisted fate a\\ue038ending your birth already shaped you. ', '', '1 Staring manic gaze. 2 Covered in (for some) blasphemous ta\\ue038oos. 3 Ro\\ue038ing face. Wears a mask. 4 Lost three toes, limps. 5 Starved: faunt and pale. 6 One hand replaced with rusting hook (\\ue02b6 damage). 7 Decaying teeth. 8 Hauntingly beautiful, unnervingly clean. 9 Hands caked with sores. 10 Cataracts slowly but surly spreading in both eyes. 11 Long tangled hair, at least one cockroach in residence. 12 Broken, crushed ears. 13 Juddering and stu\\ue038ering from nerve damage or stress. 14 Corpulent, ravenous, drooling. 15 One hand lacks thumb and index finger, grips like a lobster. 16 Red, swollen alcoholic’s nose. 17 Resting maniac face, making friends is hard. 18 Chronic athlete’s foot. Stinks. 19 Recently slashed and stinking eye covered with a patch. 20 Nails cracked and black, maybe about to drop o\\ue039. \\ue02e\\ue026\\ue02a \\ue031\\ue026\\ue02e\\ue02d\\ue02b\\ue027, \\ue02a20 1 Obsessively collect small sharp stones. 2 Won’t use a blade without testing it on your own flesh. Arms kni\\ue038ed with scars. 3 Can’t stop drinking once you start. 4 Gambling addict. Must bet every day. If you lose, raise and bet again. 5 Cannot tolerate criticism of any kind. Results in rage and weeping. 6 Unable to get to the point. Have never actually finished a story. 7 Best friend is a skull. Carry it with you, tell it everything, you trust no one more. 8 You pick your nose so deep it bleeds. 9 Laugh hysterically at your own jokes which you then explain in detail. 10 A nihilist. You insist on telling everyone you are a nihilist and explaining why. 11 Inveterate bug eater. 12 Stress response is aesthetic display. \\ue037e worse things get the fancier you need to be. 13 Permanent phlegm deposit in throat. Continuously cough, snort, spit and swallow. 14 Pyromaniac 15 C onsistently lose important items and forget vital facts. 16 Insecure shit-stirrer. Will talk about whoever just left the room. 17 You stu\\ue038er when lying. 18 You giggle insanely at the worst possible times. 19 You whistle while trying to hide. You will deny this. Whistle when 5, 7, 9, 11 or 13 is rolled on a \\ue02b20. 20 You make jewelry from the teeth of the dead.  If this can be considered a bad habit. \\ue037e whole group can share the same backstory, or groups within the group can share a tale. Or the \\ue033\\ue02a can quickly give history to a seemingly mundane character. \\ue02b\\ue028\\ue029\\ue021\\ue02e\\ue024\\ue02d\\ue022\\ue032 \\ue02b\\ue026\\ue024\\ue025\\ue027, \\ue02a20 1 Pursued for manslaughter. \\ue037ere is a bounty. 2 In massive debt. \\ue037e debt is being traded to successively more ruthless groups 3 Have a rare, sought after item. 4 Have a cursed never healing wound. 5 Had an illegal, immoral and secret a\\ue039air with a member of the royal family. Has proof. 6 Escaped cult member. Terrified and paranoid.  Other cultists are everywhere. 7 An identity thief who recently killed and replaced this person. 8 Banished and disowned for unspecified deeds.  Can never go home 9 Deserted military after witnessing a massacre,  bounty on head. Hunted by former friends. 10 Very recently murdered a close relative. Very recently. 11 A puzzle cube has been calibrated incorrectly (or has it?), awakening a slumbering abomination. 12 Evil creatures love the scent of your spoor and are drawn to it, bringing disaster in your wake. 13 A ba\\ue038le wound left a shard of metal slowly inching closer to your heart. Every day there is a 2 % chance it reaches it. 14 Violence forced you into the wilderness. You think waving trees are whispering. You talk to, scream at, a\\ue038ack trees. 15 Cursed to share the nightmares of others, you sleep far, far away. 16 At permanent war with all corvids. No contact without some violence. You carry a sling. 17 After dreaming of an underground temple to a forgo\\ue038en god you understand the songs of insects and worms. 18 Being tracked and observed by a golem after an agreement which you know has been wiped from your mind. 19 “Burn or be burned” is the fate you accept. 20 Your flesh heals twice as fast, but your companions twice as slow. You see a many-eyed “guardian angel.” Arcane Catastrophes ', 'E\\ue021ects in italic are things the caster might not immediately realize. A caster who rolls the same result twice explodes in screaming black fire in which the faces of the dead are seen. D6 damage each round.Water only feeds this fire. \\ue026\\ue028\\ue023\\ue026\\ue022\\ue025 \\ue023\\ue026\\ue02b\\ue026\\ue027\\ue02b\\ue028\\ue029\\ue033\\ue031\\ue025\\ue027 (\\ue02a20) 1 One by one your teeth fall out. Long, bri\\ue038le fingernails replace them in your gums. Your smile is horrific and you find it hard to eat. 2 You feel fine. It’s fine. You pustulate with a magical STD. \\ue022ose intimate with you will die of plague within \\ue02b4 days then rise as woeful weeping zombies who track you down in your dreams before finding you in reality. 3 Your skeleton is possessed by some unearthly force and will do anything to kill you and escape. Drowning or piercing is preferred so the bones are not damaged. Test Strength \\ue02b\\ue03110 in stressful situations or take \\ue02b4 damage. When you die, you become a zombie. 4 \\ue037e illusion of the celestial sphere is lifted, you now see what dwells beyond. And it sees you. Gazing upon a clear night sky drives you mad with fear. 5  Around you falls an unending snow of black ash which only you and the mad can perceive. Water sickens you from this day on. Only ash, soot or burnt remains can quench your thirst. 6 \\ue037e earth decays around you like wet flesh. You sink 3 feet and cannot climb out without help. Clinging to you, screaming and biting are \\ue02b4 translucent, crayfish-like children with your face. \\ue031\\ue033 3 Morale - No armor Bite/pinch \\ue02b4 \\ue026\\ue028\\ue023\\ue026\\ue022\\ue025 \\ue023\\ue026\\ue02b\\ue026\\ue027\\ue02b\\ue028\\ue029\\ue033\\ue031\\ue025\\ue027 (\\ue02a20) \\ue023\\ue029\\ue022\\ue02b. 7 Your skin ta\\ue038ers like paper, your flesh melts like wax and your intestines bloat like balloons, bursting and falling out until all that is left is a walking, talking skeleton. 8 A gnashing gaptoothed mouth splits open on your neck. It spits out your secrets and inner thoughts and can be silenced to sleep only with blood. 9 \\ue037e sky warps and stars spin like wheels. \\ue037rown one day into the future, you arrive vomiting Time as evaporating silver bile. A Misery is fulfilled. 10 Light itself despises you. If you gaze upon a candle, lamp or torch it goes out. 11 Within \\ue02b4 days a vile cocoon heaves from the ground, soon bursting and spawning your exact clone. It is unintelligent and begins to spread mischief and su\\ue021ering. \\ue022is happens every couple of days until the ground is cleansed with holy water or fire. 12 Your eyes burn with insu\\ue039erable agony, bleeding heavily before loosening and falling from their gory pits. You continue to see through them wherever they are. 13 You and a random nearby creature pass out. When you wake up, your souls have switched. Welcome to your new flesh. 14 Five twisted, skeletal arms burst from your back. \\ue037e hands are mischievous, violent and terribly cruel. 15 Your skin pales then begins to emit a sickly greenish light. Living things held close to you slowly fall ill. \\ue022ey weaken, their bones become bri\\ue023le, their teeth and hair fall out. 16 \\ue037e Power works, but fate or a demonic force perverts its e\\ue039ects to your precise disadvantage. 17 \\ue037e scroll crumbles to tendrils of fine black powder which reach for your nose and mouth. Make a \\ue02b\\ue03114 Toughness test or lose \\ue02b10 \\ue029\\ue025. 18 \\ue037e Power pierces you like a knife, feeding on your anima. You are permanently gaunt and drawn, insatiably hungry. When resting you restore only half of the rolled \\ue029\\ue025. 19 You fall through Refva into the esoteric dimension of Cube-Violet, a place of mythical obscurity. \\ue037e walls are smooth, iridescent and cold. Above, an endless inferno.  To leave (\\ue02a4): 1. Slay riddling Kulvan (strong goblin, page 58)   who holds three colorless pearls. 2. Poison a close friend with crumbled Sict-Shroom    (Toughness \\ue02b\\ue03116 or -\\ue02b6 \\ue029\\ue025 and hallucinations).  \\ue037ey are found only within the cube. 3. Reach up through the fire to the golden key above.  \\ue02b4 fingers burn to ash. 4. \\ue037e cube is perfect, and empty. You can only wait in  maddening timeless silence until another fool arrives. 20 Perhaps it’s for the best. HE emerges from the shadows. At least your su\\ue039ering is short, almost instantaneous, as the two-headed basilisk devours you. Optional Classes (D6) ', 'Y\\ue022\\ue023 \\ue029\\ue032\\ue03a\\ue02c \\ue030\\ue029\\ue02d\\ue031\\ue030\\ue027 \\ue022\\ue031 \\ue026\\ue022 \\ue021\\ue031\\ue02d\\ue02c\\ue02f\\ue02b\\ue026 who never let you down: YOUR TEETH. Disloyal, deranged or simply uncontrollable, any group that didn’t boot you out you left anyway. But your parliament of teeth—enormous, protruding, thick and sharp —have always been your allies. \\ue02e\\ue02d\\ue030\\ue02c \\ue032\\ue030\\ue030\\ue032\\ue028\\ue035: \\ue02b\\ue03110 to a\\ue038ack, \\ue02b6 damage. You must be close to your target. 1–2 on \\ue02b6 chance the enemy gets a free a\\ue038ack. Begins with 2\\ue02b6 \\ue03b 10s and \\ue02b2 Omens. \\ue029\\ue025: Toughness + \\ue02b10 \\ue025\\ue026\\ue028\\ue024\\ue02d\\ue025\\ue027\\ue02b \\ue02c\\ue025\\ue02c\\ue029\\ue028\\ue02d\\ue025\\ue027 (\\ue02a6) 1 A burnt-black building in Sarkash. Your home? 2 A derelict ro\\ue038ing ship rolling endlessly across a grey sea. 3 A brothel in Schleswig. Quite a friendly environment. 4 Sleeping with dogs in the corner of an inn, waiting for someone to return. 5 Following an army in eastern Wästland. 6 Suckling a wolf in the wild of Bergen Chrypt. \\ue026\\ue02e\\ue02d\\ue024\\ue02d\\ue02b\\ue02d\\ue025\\ue027 \\ue02e\\ue023\\ue02d\\ue024\\ue030 \\ue024\\ue02d\\ue035\\ue02c \\ue032 \\ue02e\\ue023\\ue024\\ue024, roll 3\\ue02b6+2 for Strength. \\ue02f\\ue022\\ue030 \\ue032 \\ue02e\\ue031\\ue02d\\ue033\\ue029\\ue030 \\ue026\\ue025\\ue032\\ue031\\ue035, roll 3\\ue02b6-1 for Agility and Presence. Normal Agility tests are \\ue02b\\ue03114 instead of \\ue02b\\ue03112, excluding defence. \\ue02d\\ue024\\ue024\\ue02d\\ue030\\ue02c\\ue031\\ue032\\ue030\\ue02c; you are incapable of understanding scrolls. If you begin with one then reroll, eat it or use it as toilet paper. \\ue034\\ue029\\ue021 \\ue026\\ue024\\ue027\\ue029 \\ue02e\\ue025\\ue032\\ue02d\\ue022 \\ue02f\\ue02d\\ue02b\\ue031 \\ue029\\ue022\\ue025 \\ue029\\ue035 \\ue02b\\ue031\\ue025 \\ue035\\ue029\\ue024\\ue024\\ue029\\ue02f\\ue02d\\ue022\\ue032 (\\ue02a6): 1 \\ue028\\ue031\\ue023\\ue02a\\ue025\\ue024\\ue02c\\ue02b \\ue02a\\ue022\\ue02f\\ue026\\ue030\\ue02c\\ue031 \\ue02a\\ue032\\ue026\\ue035: Strikes primitive fear into lesser creatures like goblins, gnoums and children. While worn, they check Morale every round. 2 \\ue030\\ue029\\ue02c \\ue02e\\ue031\\ue022\\ue034\\ue02f \\ue026\\ue028\\ue02d\\ue02a\\ue02d\\ue030\\ue032\\ue031 \\ue022\\ue021 \\ue033\\ue032\\ue024\\ue033\\ue02c\\ue02f\\ue02e\\ue02c\\ue028\\ue035: A stinking sword you pulled from a military shit-ditch. D6 damage. \\ue02b\\ue03110 a\\ue038ack and defence while you wield it. 1 in 6 chance a wounded enemy is smi\\ue038en with potent sepsis, dying in 10 minutes. 3 \\ue034\\ue02d\\ue03c\\ue032\\ue031\\ue02b \\ue030\\ue02c\\ue02c\\ue030\\ue029: Four weird teeth ra\\ue038le within a blackened pouch. Before ba\\ue038le roll a \\ue02b6 for each one. For every 6 one of your a\\ue038acks deals maximum damage. 4 \\ue022\\ue024\\ue02b \\ue026\\ue02d\\ue033\\ue03d\\ue031\\ue02b’\\ue026 \\ue026\\ue024\\ue02d\\ue02f\\ue033: Sigûrd was the strongest man whose throat you ever gnawed. Woven from his long grey hair, this sling has never failed you. 2\\ue02b4 damage, requires fist-sized rocks which, perhaps regre\\ue038ably, are everywhere. 5 \\ue032\\ue02f\\ue028\\ue02d\\ue02c\\ue02f\\ue030 \\ue033\\ue022\\ue031\\ue02c-\\ue029\\ue022\\ue023\\ue02f\\ue02b: Asthmatic, deluded and on its last legs, this wizened creature still has a superb nose and can sni\\ue039le up treasure in the most disgusting debris. A\\ue038acks with \\ue02b\\ue03110 (bite \\ue02b6). Defends with \\ue02b\\ue03112, 10 \\ue029\\ue025. Becomes frenzied around goblins and berserkers. 6 \\ue030\\ue029\\ue02c \\ue026\\ue029\\ue022\\ue02c \\ue022\\ue021 \\ue02b\\ue02c\\ue032\\ue030\\ue029’\\ue026 \\ue029\\ue022\\ue031\\ue026\\ue02c: It looks normal but since finding it in an obscure crypt you are convinced this shoe came from the horse of Death himself. In your hands it hits with \\ue02b\\ue03110, \\ue02b4 damage. 1 in 6 chance the shoe smashes the skull, instantly killing small-to-medium sized creatures. \\ue037e shoe returns to your hand like a boomerang. ', 'A\\ue02f \\ue02d\\ue024\\ue024 \\ue026\\ue030\\ue032\\ue031 \\ue026\\ue02a\\ue02d\\ue024\\ue02c\\ue02b \\ue023\\ue025\\ue022\\ue02f \\ue027\\ue022\\ue023\\ue031 \\ue02e\\ue02d\\ue031\\ue030\\ue029. Poverty, crime and bad parenting didn’t help either. In your community an honest day’s work was never an option. Not that you ever tried, what are you, some kind of mug? A razor blade and a moonless night are worth a week of chump-work. Begins with 1\\ue02b6\\ue03b10s and \\ue02b2 Omens. \\ue029\\ue025: Toughness+\\ue02b6 \\ue02e\\ue026\\ue02a \\ue02e\\ue02d\\ue028\\ue02b\\ue031 (\\ue02a6) Dumped onto a moving shit-cart still in your birth caul.1 2 Mother hanged from a tree outside of Galgenbeck, you fell from the corpse. 3 Raised by rats in the gu\\ue038ers of Grift. 4 Kicked and beaten beneath a baker’s table in Schleswig. 5 Escaped the Tvelandian orphanarium. 6 Educated by outlaws in a hovel south of Alliáns. \\ue026\\ue02e\\ue02d\\ue024\\ue02d\\ue02b\\ue02d\\ue025\\ue027 \\ue026\\ue02a\\ue032\\ue024\\ue024, roll 3\\ue02b6\\ue03e2 for Strength. \\ue026\\ue030\\ue02c\\ue032\\ue024\\ue030\\ue029\\ue027, all Presence and Agility tests have their \\ue02b\\ue031 reduced by 2 (normal tests are \\ue02b\\ue03110 instead of \\ue02b\\ue03112). Roll \\ue02b6 on the weapon table and \\ue02b2 on the armor table. ', '1 \\ue028\\ue022\\ue034\\ue032\\ue031\\ue02b’\\ue026 \\ue03f\\ue032\\ue02e: When a\\ue038acking by surprise test Agility \\ue02b\\ue03110. On a success you automatically hit once with a light one-handed weapon, dealing normal damage +3. 2 \\ue021\\ue02d\\ue024\\ue030\\ue029\\ue027 \\ue021\\ue02d\\ue02f\\ue033\\ue02c\\ue031\\ue026\\ue02a\\ue02d\\ue030\\ue029: Your snaky li\\ue038le digits get into pockets and pick locks with a \\ue02b\\ue0318 Agility test. You also begin with lockpicks! 3 \\ue032\\ue02e\\ue022\\ue02a\\ue02d\\ue02f\\ue032\\ue02e\\ue024\\ue02c \\ue033\\ue022\\ue02e \\ue024\\ue022\\ue02e\\ue02e\\ue02c\\ue031: Your phlegm is viscous, lumpy, vile and ballistically accurate at short range. You can spit \\ue02b2 times during a fight. Roll a \\ue02b\\ue0318 Presence test for accuracy. Targets are blinded, retching and vomiting for \\ue02b4 rounds. Anyone witnessing this—friend and foe— must make a Toughness test to not also vomit. \\ue025\\ue028s test \\ue02b\\ue03110 and enemies \\ue02b\\ue03112. 4 \\ue02c\\ue026\\ue028\\ue032\\ue025\\ue02d\\ue02f\\ue033 \\ue021\\ue032\\ue030\\ue02c: Every time you use an omen there is a 50% chance it is not spent. 5 \\ue02c\\ue036\\ue028\\ue031\\ue02c\\ue030\\ue032\\ue024 \\ue026\\ue030\\ue02c\\ue032\\ue024\\ue030\\ue029: You have an astounding, almost preternatural ability to hide in muck, debris and filth. When hidden in these conditions a \\ue02b\\ue03116 Presence test is required to notice you. 6 \\ue02b\\ue022\\ue02b\\ue033\\ue02d\\ue02f\\ue033 \\ue02b\\ue02c\\ue032\\ue030\\ue029: You are so unpleasant, irrelevant, disgusting and vile even Death would rather avoid you if it can. On death, if there is even the slightest possibility that you survived, there is a 50% chance that you did. If successful, after 10 rounds you pop back up with \\ue02b4 \\ue029\\ue025 and an unlikely explanation of your escape. \\ue037e first time the Scum gets be\\ue038er (see Ge\\ue038ing be\\ue038er, page 33) another specialty is rolled. From the second time the Scum gets be\\ue038er it’s possible to reroll these two specialities or just one. 3. Esoteric hermit T\\ue029\\ue02c \\ue026\\ue030\\ue022\\ue02f\\ue02c \\ue022\\ue021 \\ue027\\ue022\\ue023\\ue031 \\ue028\\ue032\\ue03a\\ue02c is one with the stars. Silence and perfection. Now the chaos of a fallen world disturbs your rituals and the caul of night grows blacker than your cavern’s gloom. Irritating! Begins with 1\\ue02b6\\ue03b10s and \\ue02b4 Omens. \\ue029\\ue025: Toughness+\\ue02b4 ', '1 Awakening, adult, in a ritual circle underneath the northern bridge to Grift. 2 Wandered, memoryless, from the mouth of a cavern at the cli\\ue039s of Terion. 3 Single child survivor of an incident in the Valley of the Unfortunate Undead. 4 Dying of plague in a Bergen Chrypt hovel, you touched something from outside. 5 An average individual until you encountered something in a dim glade in Sarkash. 6 Raised on a lonely island in Lake Onda. No one else has ever heard of this island and you can’t return. ', '\\ue034\\ue02d\\ue026\\ue02c, roll 3D6+2 for Presence. \\ue034\\ue02c\\ue032\\ue035, roll 3D6\\ue03e2 for Strength. Ordinary starting equipment plus one random scroll (sacred or unclean). Roll a D4 on the weapons table and D2 on the armor table. ']\n"
          ]
        }
      ]
    },
    {
      "cell_type": "code",
      "source": [
        "print(len(heading_list_7))\n",
        "print(len(heading_values_list_7[1:]))"
      ],
      "metadata": {
        "colab": {
          "base_uri": "https://localhost:8080/"
        },
        "id": "l0jyIJDE9-Aa",
        "outputId": "bb164b26-db7b-4be6-fa0d-72e78187e7d4"
      },
      "execution_count": null,
      "outputs": [
        {
          "output_type": "stream",
          "name": "stdout",
          "text": [
            "9\n",
            "9\n"
          ]
        }
      ]
    },
    {
      "cell_type": "code",
      "source": [
        "heading_counter = 0\n",
        "\n",
        "heading_list_8 = []\n",
        "heading_values_list_8 = []\n",
        "\n",
        "heading_values = \"\"\n",
        "heading_counter = 0\n",
        "\n",
        "for ele in data3[\"elements\"]:\n",
        "    if \"Document/H3\" in ele[\"Path\"]:\n",
        "        heading_values_list_8.append(heading_values)\n",
        "        heading_values = \"\"\n",
        "        heading_counter = 0\n",
        "        if heading_counter == 0:\n",
        "            heading_counter = 1\n",
        "            heading_value_1 = ele[\"Text\"]\n",
        "            heading_list_8.append(heading_value_1)\n",
        "            continue\n",
        "    if \"Text\" in ele and heading_counter == 1:\n",
        "        heading_values += ele[\"Text\"]\n",
        "        # print(heading_values)\n",
        "\n",
        "heading_values_list_8.append(heading_values)\n",
        "\n",
        "print(heading_list_8)\n",
        "print(heading_values_list_8[1:])"
      ],
      "metadata": {
        "colab": {
          "base_uri": "https://localhost:8080/"
        },
        "id": "VAPikkfd-EiV",
        "outputId": "89294e43-b992-4ded-cd4d-e7f07833a188"
      },
      "execution_count": null,
      "outputs": [
        {
          "output_type": "stream",
          "name": "stdout",
          "text": [
            "['“järtecken” ', '\\ue025\\ue026\\ue028\\ue024\\ue02d\\ue025\\ue027\\ue02b \\ue02c\\ue025\\ue02c\\ue029\\ue028\\ue02d\\ue025\\ue027 (\\ue02a6) ', '\\ue026\\ue02e\\ue02d\\ue024\\ue02d\\ue02b\\ue02d\\ue025\\ue027 ', '\\ue034\\ue029\\ue021 \\ue026\\ue024\\ue027\\ue029 \\ue02e\\ue025\\ue032\\ue02d\\ue022 \\ue02f\\ue02d\\ue02b\\ue031 \\ue029\\ue022\\ue025 \\ue029\\ue035 \\ue02b\\ue031\\ue025 \\ue035\\ue029\\ue024\\ue024\\ue029\\ue02f\\ue02d\\ue022\\ue032 (\\ue02a6): ', '\\ue02e\\ue026\\ue02a \\ue02e\\ue02d\\ue028\\ue02b\\ue031 (\\ue02a6) ', '\\ue026\\ue02e\\ue02d\\ue024\\ue02d\\ue02b\\ue02d\\ue025\\ue027 ']\n",
            "['C\\ue024\\ue02c\\ue032\\ue031\\ue024\\ue027 \\ue030\\ue029\\ue02c \\ue02c\\ue027\\ue02c\\ue026 \\ue022\\ue021 \\ue022\\ue030\\ue029\\ue02c\\ue031 \\ue025\\ue022\\ue034\\ue02c\\ue031\\ue026 are upon you, Eldritch watchers or the tangled Fates of alternate worlds. Call it luck if you like. Every class gains a number of Omens. If you play without classes every character begins with \\ue02b2 Omens. When depleted roll the class’ designated die (\\ue02b2 if playing without classes) and regain that many Omens after resting at least six hours. \\ue021\\ue027\\ue025 \\ue029\\ue02c\\ue025\\ue022\\ue027 \\ue02b\\ue029: † deal maximum damage with an a\\ue038ack † reroll a dice roll (yours or someone else’s) † lower damage dealt to you by \\ue02b6 † neutralize a Crit or Fumble † lower one test’s \\ue02b\\ue031 by -4 Optional Tables Trauma, a bad childhood, hidden history or a twisted fate a\\ue038ending your birth already shaped you. \\ue02b\\ue025\\ue028\\ue028\\ue02d\\ue02e\\ue024\\ue025 \\ue02b\\ue028\\ue026\\ue02d\\ue02b\\ue027, \\ue02a20 (\\ue028\\ue029\\ue024\\ue024 \\ue02b\\ue02f\\ue02d\\ue023\\ue025) \\ue02e\\ue028\\ue029\\ue030\\ue025\\ue022 \\ue02e\\ue029\\ue02a\\ue02d\\ue025\\ue027, \\ue02a20 1 Staring manic gaze. 2 Covered in (for some) blasphemous ta\\ue038oos. 3 Ro\\ue038ing face. Wears a mask. 4 Lost three toes, limps. 5 Starved: faunt and pale. 6 One hand replaced with rusting hook (\\ue02b6 damage). 7 Decaying teeth. 8 Hauntingly beautiful, unnervingly clean. 9 Hands caked with sores. 10 Cataracts slowly but surly spreading in both eyes. 11 Long tangled hair, at least one cockroach in residence. 12 Broken, crushed ears. 13 Juddering and stu\\ue038ering from nerve damage or stress. 14 Corpulent, ravenous, drooling. 15 One hand lacks thumb and index finger, grips like a lobster. 16 Red, swollen alcoholic’s nose. 17 Resting maniac face, making friends is hard. 18 Chronic athlete’s foot. Stinks. 19 Recently slashed and stinking eye covered with a patch. 20 Nails cracked and black, maybe about to drop o\\ue039. \\ue02e\\ue026\\ue02a \\ue031\\ue026\\ue02e\\ue02d\\ue02b\\ue027, \\ue02a20 1 Obsessively collect small sharp stones. 2 Won’t use a blade without testing it on your own flesh. Arms kni\\ue038ed with scars. 3 Can’t stop drinking once you start. 4 Gambling addict. Must bet every day. If you lose, raise and bet again. 5 Cannot tolerate criticism of any kind. Results in rage and weeping. 6 Unable to get to the point. Have never actually finished a story. 7 Best friend is a skull. Carry it with you, tell it everything, you trust no one more. 8 You pick your nose so deep it bleeds. 9 Laugh hysterically at your own jokes which you then explain in detail. 10 A nihilist. You insist on telling everyone you are a nihilist and explaining why. 11 Inveterate bug eater. 12 Stress response is aesthetic display. \\ue037e worse things get the fancier you need to be. 13 Permanent phlegm deposit in throat. Continuously cough, snort, spit and swallow. 14 Pyromaniac 15 C onsistently lose important items and forget vital facts. 16 Insecure shit-stirrer. Will talk about whoever just left the room. 17 You stu\\ue038er when lying. 18 You giggle insanely at the worst possible times. 19 You whistle while trying to hide. You will deny this. Whistle when 5, 7, 9, 11 or 13 is rolled on a \\ue02b20. 20 You make jewelry from the teeth of the dead.  If this can be considered a bad habit. \\ue037e whole group can share the same backstory, or groups within the group can share a tale. Or the \\ue033\\ue02a can quickly give history to a seemingly mundane character. \\ue02b\\ue028\\ue029\\ue021\\ue02e\\ue024\\ue02d\\ue022\\ue032 \\ue02b\\ue026\\ue024\\ue025\\ue027, \\ue02a20 1 Pursued for manslaughter. \\ue037ere is a bounty. 2 In massive debt. \\ue037e debt is being traded to successively more ruthless groups 3 Have a rare, sought after item. 4 Have a cursed never healing wound. 5 Had an illegal, immoral and secret a\\ue039air with a member of the royal family. Has proof. 6 Escaped cult member. Terrified and paranoid.  Other cultists are everywhere. 7 An identity thief who recently killed and replaced this person. 8 Banished and disowned for unspecified deeds.  Can never go home 9 Deserted military after witnessing a massacre,  bounty on head. Hunted by former friends. 10 Very recently murdered a close relative. Very recently. 11 A puzzle cube has been calibrated incorrectly (or has it?), awakening a slumbering abomination. 12 Evil creatures love the scent of your spoor and are drawn to it, bringing disaster in your wake. 13 A ba\\ue038le wound left a shard of metal slowly inching closer to your heart. Every day there is a 2 % chance it reaches it. 14 Violence forced you into the wilderness. You think waving trees are whispering. You talk to, scream at, a\\ue038ack trees. 15 Cursed to share the nightmares of others, you sleep far, far away. 16 At permanent war with all corvids. No contact without some violence. You carry a sling. 17 After dreaming of an underground temple to a forgo\\ue038en god you understand the songs of insects and worms. 18 Being tracked and observed by a golem after an agreement which you know has been wiped from your mind. 19 “Burn or be burned” is the fate you accept. 20 Your flesh heals twice as fast, but your companions twice as slow. You see a many-eyed “guardian angel.” Arcane Catastrophes \\ue027\\ue022\\ue023 \\ue031\\ue02c\\ue032\\ue02b \\ue02d\\ue030 \\ue034\\ue031\\ue022\\ue02f\\ue033 \\ue027\\ue022\\ue023 \\ue02d\\ue024\\ue024\\ue02d\\ue030\\ue02c\\ue031\\ue032\\ue030\\ue02c \\ue021\\ue022\\ue022\\ue024! E\\ue021ects in italic are things the caster might not immediately realize. A caster who rolls the same result twice explodes in screaming black fire in which the faces of the dead are seen. D6 damage each round.Water only feeds this fire. \\ue026\\ue028\\ue023\\ue026\\ue022\\ue025 \\ue023\\ue026\\ue02b\\ue026\\ue027\\ue02b\\ue028\\ue029\\ue033\\ue031\\ue025\\ue027 (\\ue02a20) 1 One by one your teeth fall out. Long, bri\\ue038le fingernails replace them in your gums. Your smile is horrific and you find it hard to eat. 2 You feel fine. It’s fine. You pustulate with a magical STD. \\ue022ose intimate with you will die of plague within \\ue02b4 days then rise as woeful weeping zombies who track you down in your dreams before finding you in reality. 3 Your skeleton is possessed by some unearthly force and will do anything to kill you and escape. Drowning or piercing is preferred so the bones are not damaged. Test Strength \\ue02b\\ue03110 in stressful situations or take \\ue02b4 damage. When you die, you become a zombie. 4 \\ue037e illusion of the celestial sphere is lifted, you now see what dwells beyond. And it sees you. Gazing upon a clear night sky drives you mad with fear. 5  Around you falls an unending snow of black ash which only you and the mad can perceive. Water sickens you from this day on. Only ash, soot or burnt remains can quench your thirst. 6 \\ue037e earth decays around you like wet flesh. You sink 3 feet and cannot climb out without help. Clinging to you, screaming and biting are \\ue02b4 translucent, crayfish-like children with your face. \\ue031\\ue033 3 Morale - No armor Bite/pinch \\ue02b4 \\ue026\\ue028\\ue023\\ue026\\ue022\\ue025 \\ue023\\ue026\\ue02b\\ue026\\ue027\\ue02b\\ue028\\ue029\\ue033\\ue031\\ue025\\ue027 (\\ue02a20) \\ue023\\ue029\\ue022\\ue02b. 7 Your skin ta\\ue038ers like paper, your flesh melts like wax and your intestines bloat like balloons, bursting and falling out until all that is left is a walking, talking skeleton. 8 A gnashing gaptoothed mouth splits open on your neck. It spits out your secrets and inner thoughts and can be silenced to sleep only with blood. 9 \\ue037e sky warps and stars spin like wheels. \\ue037rown one day into the future, you arrive vomiting Time as evaporating silver bile. A Misery is fulfilled. 10 Light itself despises you. If you gaze upon a candle, lamp or torch it goes out. 11 Within \\ue02b4 days a vile cocoon heaves from the ground, soon bursting and spawning your exact clone. It is unintelligent and begins to spread mischief and su\\ue021ering. \\ue022is happens every couple of days until the ground is cleansed with holy water or fire. 12 Your eyes burn with insu\\ue039erable agony, bleeding heavily before loosening and falling from their gory pits. You continue to see through them wherever they are. 13 You and a random nearby creature pass out. When you wake up, your souls have switched. Welcome to your new flesh. 14 Five twisted, skeletal arms burst from your back. \\ue037e hands are mischievous, violent and terribly cruel. 15 Your skin pales then begins to emit a sickly greenish light. Living things held close to you slowly fall ill. \\ue022ey weaken, their bones become bri\\ue023le, their teeth and hair fall out. 16 \\ue037e Power works, but fate or a demonic force perverts its e\\ue039ects to your precise disadvantage. 17 \\ue037e scroll crumbles to tendrils of fine black powder which reach for your nose and mouth. Make a \\ue02b\\ue03114 Toughness test or lose \\ue02b10 \\ue029\\ue025. 18 \\ue037e Power pierces you like a knife, feeding on your anima. You are permanently gaunt and drawn, insatiably hungry. When resting you restore only half of the rolled \\ue029\\ue025. 19 You fall through Refva into the esoteric dimension of Cube-Violet, a place of mythical obscurity. \\ue037e walls are smooth, iridescent and cold. Above, an endless inferno.  To leave (\\ue02a4): 1. Slay riddling Kulvan (strong goblin, page 58)   who holds three colorless pearls. 2. Poison a close friend with crumbled Sict-Shroom    (Toughness \\ue02b\\ue03116 or -\\ue02b6 \\ue029\\ue025 and hallucinations).  \\ue037ey are found only within the cube. 3. Reach up through the fire to the golden key above.  \\ue02b4 fingers burn to ash. 4. \\ue037e cube is perfect, and empty. You can only wait in  maddening timeless silence until another fool arrives. 20 Perhaps it’s for the best. HE emerges from the shadows. At least your su\\ue039ering is short, almost instantaneous, as the two-headed basilisk devours you. Optional Classes (D6) 1. Fanged deserter Y\\ue022\\ue023 \\ue029\\ue032\\ue03a\\ue02c \\ue030\\ue029\\ue02d\\ue031\\ue030\\ue027 \\ue022\\ue031 \\ue026\\ue022 \\ue021\\ue031\\ue02d\\ue02c\\ue02f\\ue02b\\ue026 who never let you down: YOUR TEETH. Disloyal, deranged or simply uncontrollable, any group that didn’t boot you out you left anyway. But your parliament of teeth—enormous, protruding, thick and sharp —have always been your allies. \\ue02e\\ue02d\\ue030\\ue02c \\ue032\\ue030\\ue030\\ue032\\ue028\\ue035: \\ue02b\\ue03110 to a\\ue038ack, \\ue02b6 damage. You must be close to your target. 1–2 on \\ue02b6 chance the enemy gets a free a\\ue038ack. Begins with 2\\ue02b6 \\ue03b 10s and \\ue02b2 Omens. \\ue029\\ue025: Toughness + \\ue02b10 ', '1 A burnt-black building in Sarkash. Your home? 2 A derelict ro\\ue038ing ship rolling endlessly across a grey sea. 3 A brothel in Schleswig. Quite a friendly environment. 4 Sleeping with dogs in the corner of an inn, waiting for someone to return. 5 Following an army in eastern Wästland. 6 Suckling a wolf in the wild of Bergen Chrypt. ', '\\ue02e\\ue023\\ue02d\\ue024\\ue030 \\ue024\\ue02d\\ue035\\ue02c \\ue032 \\ue02e\\ue023\\ue024\\ue024, roll 3\\ue02b6+2 for Strength. \\ue02f\\ue022\\ue030 \\ue032 \\ue02e\\ue031\\ue02d\\ue033\\ue029\\ue030 \\ue026\\ue025\\ue032\\ue031\\ue035, roll 3\\ue02b6-1 for Agility and Presence. Normal Agility tests are \\ue02b\\ue03114 instead of \\ue02b\\ue03112, excluding defence. \\ue02d\\ue024\\ue024\\ue02d\\ue030\\ue02c\\ue031\\ue032\\ue030\\ue02c; you are incapable of understanding scrolls. If you begin with one then reroll, eat it or use it as toilet paper. ', '1 \\ue028\\ue031\\ue023\\ue02a\\ue025\\ue024\\ue02c\\ue02b \\ue02a\\ue022\\ue02f\\ue026\\ue030\\ue02c\\ue031 \\ue02a\\ue032\\ue026\\ue035: Strikes primitive fear into lesser creatures like goblins, gnoums and children. While worn, they check Morale every round. 2 \\ue030\\ue029\\ue02c \\ue02e\\ue031\\ue022\\ue034\\ue02f \\ue026\\ue028\\ue02d\\ue02a\\ue02d\\ue030\\ue032\\ue031 \\ue022\\ue021 \\ue033\\ue032\\ue024\\ue033\\ue02c\\ue02f\\ue02e\\ue02c\\ue028\\ue035: A stinking sword you pulled from a military shit-ditch. D6 damage. \\ue02b\\ue03110 a\\ue038ack and defence while you wield it. 1 in 6 chance a wounded enemy is smi\\ue038en with potent sepsis, dying in 10 minutes. 3 \\ue034\\ue02d\\ue03c\\ue032\\ue031\\ue02b \\ue030\\ue02c\\ue02c\\ue030\\ue029: Four weird teeth ra\\ue038le within a blackened pouch. Before ba\\ue038le roll a \\ue02b6 for each one. For every 6 one of your a\\ue038acks deals maximum damage. 4 \\ue022\\ue024\\ue02b \\ue026\\ue02d\\ue033\\ue03d\\ue031\\ue02b’\\ue026 \\ue026\\ue024\\ue02d\\ue02f\\ue033: Sigûrd was the strongest man whose throat you ever gnawed. Woven from his long grey hair, this sling has never failed you. 2\\ue02b4 damage, requires fist-sized rocks which, perhaps regre\\ue038ably, are everywhere. 5 \\ue032\\ue02f\\ue028\\ue02d\\ue02c\\ue02f\\ue030 \\ue033\\ue022\\ue031\\ue02c-\\ue029\\ue022\\ue023\\ue02f\\ue02b: Asthmatic, deluded and on its last legs, this wizened creature still has a superb nose and can sni\\ue039le up treasure in the most disgusting debris. A\\ue038acks with \\ue02b\\ue03110 (bite \\ue02b6). Defends with \\ue02b\\ue03112, 10 \\ue029\\ue025. Becomes frenzied around goblins and berserkers. 6 \\ue030\\ue029\\ue02c \\ue026\\ue029\\ue022\\ue02c \\ue022\\ue021 \\ue02b\\ue02c\\ue032\\ue030\\ue029’\\ue026 \\ue029\\ue022\\ue031\\ue026\\ue02c: It looks normal but since finding it in an obscure crypt you are convinced this shoe came from the horse of Death himself. In your hands it hits with \\ue02b\\ue03110, \\ue02b4 damage. 1 in 6 chance the shoe smashes the skull, instantly killing small-to-medium sized creatures. \\ue037e shoe returns to your hand like a boomerang. 2. Gu\\ue021erborn Scum A\\ue02f \\ue02d\\ue024\\ue024 \\ue026\\ue030\\ue032\\ue031 \\ue026\\ue02a\\ue02d\\ue024\\ue02c\\ue02b \\ue023\\ue025\\ue022\\ue02f \\ue027\\ue022\\ue023\\ue031 \\ue02e\\ue02d\\ue031\\ue030\\ue029. Poverty, crime and bad parenting didn’t help either. In your community an honest day’s work was never an option. Not that you ever tried, what are you, some kind of mug? A razor blade and a moonless night are worth a week of chump-work. Begins with 1\\ue02b6\\ue03b10s and \\ue02b2 Omens. \\ue029\\ue025: Toughness+\\ue02b6 ', 'Dumped onto a moving shit-cart still in your birth caul.1 2 Mother hanged from a tree outside of Galgenbeck, you fell from the corpse. 3 Raised by rats in the gu\\ue038ers of Grift. 4 Kicked and beaten beneath a baker’s table in Schleswig. 5 Escaped the Tvelandian orphanarium. 6 Educated by outlaws in a hovel south of Alliáns. ', '\\ue026\\ue02a\\ue032\\ue024\\ue024, roll 3\\ue02b6\\ue03e2 for Strength. \\ue026\\ue030\\ue02c\\ue032\\ue024\\ue030\\ue029\\ue027, all Presence and Agility tests have their \\ue02b\\ue031 reduced by 2 (normal tests are \\ue02b\\ue03110 instead of \\ue02b\\ue03112). Roll \\ue02b6 on the weapon table and \\ue02b2 on the armor table. \\ue034\\ue029\\ue021 \\ue026\\ue024\\ue027\\ue029 \\ue02e\\ue025\\ue032\\ue02d\\ue022 \\ue02f\\ue02d\\ue02b\\ue031 \\ue029\\ue022\\ue025 \\ue027\\ue033\\ue025\\ue023\\ue02d\\ue026\\ue024\\ue02b\\ue034 (\\ue02a6): 1 \\ue028\\ue022\\ue034\\ue032\\ue031\\ue02b’\\ue026 \\ue03f\\ue032\\ue02e: When a\\ue038acking by surprise test Agility \\ue02b\\ue03110. On a success you automatically hit once with a light one-handed weapon, dealing normal damage +3. 2 \\ue021\\ue02d\\ue024\\ue030\\ue029\\ue027 \\ue021\\ue02d\\ue02f\\ue033\\ue02c\\ue031\\ue026\\ue02a\\ue02d\\ue030\\ue029: Your snaky li\\ue038le digits get into pockets and pick locks with a \\ue02b\\ue0318 Agility test. You also begin with lockpicks! 3 \\ue032\\ue02e\\ue022\\ue02a\\ue02d\\ue02f\\ue032\\ue02e\\ue024\\ue02c \\ue033\\ue022\\ue02e \\ue024\\ue022\\ue02e\\ue02e\\ue02c\\ue031: Your phlegm is viscous, lumpy, vile and ballistically accurate at short range. You can spit \\ue02b2 times during a fight. Roll a \\ue02b\\ue0318 Presence test for accuracy. Targets are blinded, retching and vomiting for \\ue02b4 rounds. Anyone witnessing this—friend and foe— must make a Toughness test to not also vomit. \\ue025\\ue028s test \\ue02b\\ue03110 and enemies \\ue02b\\ue03112. 4 \\ue02c\\ue026\\ue028\\ue032\\ue025\\ue02d\\ue02f\\ue033 \\ue021\\ue032\\ue030\\ue02c: Every time you use an omen there is a 50% chance it is not spent. 5 \\ue02c\\ue036\\ue028\\ue031\\ue02c\\ue030\\ue032\\ue024 \\ue026\\ue030\\ue02c\\ue032\\ue024\\ue030\\ue029: You have an astounding, almost preternatural ability to hide in muck, debris and filth. When hidden in these conditions a \\ue02b\\ue03116 Presence test is required to notice you. 6 \\ue02b\\ue022\\ue02b\\ue033\\ue02d\\ue02f\\ue033 \\ue02b\\ue02c\\ue032\\ue030\\ue029: You are so unpleasant, irrelevant, disgusting and vile even Death would rather avoid you if it can. On death, if there is even the slightest possibility that you survived, there is a 50% chance that you did. If successful, after 10 rounds you pop back up with \\ue02b4 \\ue029\\ue025 and an unlikely explanation of your escape. \\ue037e first time the Scum gets be\\ue038er (see Ge\\ue038ing be\\ue038er, page 33) another specialty is rolled. From the second time the Scum gets be\\ue038er it’s possible to reroll these two specialities or just one. 3. Esoteric hermit T\\ue029\\ue02c \\ue026\\ue030\\ue022\\ue02f\\ue02c \\ue022\\ue021 \\ue027\\ue022\\ue023\\ue031 \\ue028\\ue032\\ue03a\\ue02c is one with the stars. Silence and perfection. Now the chaos of a fallen world disturbs your rituals and the caul of night grows blacker than your cavern’s gloom. Irritating! Begins with 1\\ue02b6\\ue03b10s and \\ue02b4 Omens. \\ue029\\ue025: Toughness+\\ue02b4 \\ue025\\ue024\\ue02a\\ue028\\ue02d\\ue02b\\ue023\\ue031 \\ue029\\ue028\\ue02d\\ue032\\ue02d\\ue022\\ue027 (\\ue02a6) 1 Awakening, adult, in a ritual circle underneath the northern bridge to Grift. 2 Wandered, memoryless, from the mouth of a cavern at the cli\\ue039s of Terion. 3 Single child survivor of an incident in the Valley of the Unfortunate Undead. 4 Dying of plague in a Bergen Chrypt hovel, you touched something from outside. 5 An average individual until you encountered something in a dim glade in Sarkash. 6 Raised on a lonely island in Lake Onda. No one else has ever heard of this island and you can’t return. \\ue026\\ue02e\\ue02d\\ue024\\ue02d\\ue02b\\ue02d\\ue025\\ue027 \\ue034\\ue02d\\ue026\\ue02c, roll 3D6+2 for Presence. \\ue034\\ue02c\\ue032\\ue035, roll 3D6\\ue03e2 for Strength. Ordinary starting equipment plus one random scroll (sacred or unclean). Roll a D4 on the weapons table and D2 on the armor table. ']\n"
          ]
        }
      ]
    },
    {
      "cell_type": "code",
      "source": [
        "print(len(heading_list_8))\n",
        "print(len(heading_values_list_8[1:]))"
      ],
      "metadata": {
        "colab": {
          "base_uri": "https://localhost:8080/"
        },
        "id": "J2PRwKJV-adF",
        "outputId": "4126a071-b908-49a3-9b6b-c952b9b7c2c7"
      },
      "execution_count": null,
      "outputs": [
        {
          "output_type": "stream",
          "name": "stdout",
          "text": [
            "6\n",
            "6\n"
          ]
        }
      ]
    },
    {
      "cell_type": "code",
      "source": [
        "heading_list_part3 = heading_list_6 + heading_list_7 + heading_list_8\n",
        "len(heading_list_part3)"
      ],
      "metadata": {
        "colab": {
          "base_uri": "https://localhost:8080/"
        },
        "id": "87ZHKoOn-muV",
        "outputId": "c3fe89b6-0050-4a9a-b5df-61b8b299bada"
      },
      "execution_count": null,
      "outputs": [
        {
          "output_type": "execute_result",
          "data": {
            "text/plain": [
              "27"
            ]
          },
          "metadata": {},
          "execution_count": 95
        }
      ]
    },
    {
      "cell_type": "code",
      "source": [
        "heading_values_part_3 = (\n",
        "    heading_values_list_6[1:] + heading_values_list_7[1:] + heading_values_list_8[1:]\n",
        ")\n",
        "len(heading_values_part_3)"
      ],
      "metadata": {
        "colab": {
          "base_uri": "https://localhost:8080/"
        },
        "id": "yAXnmRdy-v9T",
        "outputId": "78773940-037e-4dd9-97bc-60a6d154f1f1"
      },
      "execution_count": null,
      "outputs": [
        {
          "output_type": "execute_result",
          "data": {
            "text/plain": [
              "27"
            ]
          },
          "metadata": {},
          "execution_count": 96
        }
      ]
    },
    {
      "cell_type": "code",
      "source": [],
      "metadata": {
        "id": "dw4EnFwL--Bq"
      },
      "execution_count": null,
      "outputs": []
    },
    {
      "cell_type": "code",
      "source": [
        "import json\n",
        "\n",
        "with open(\"/content/structuredData4.json\") as f:\n",
        "    data4 = json.load(f)"
      ],
      "metadata": {
        "id": "HUEPadcf-_GV"
      },
      "execution_count": null,
      "outputs": []
    },
    {
      "cell_type": "code",
      "source": [
        "for ele in data4[\"elements\"]:\n",
        "    if \"Document/H\" in ele[\"Path\"]:\n",
        "        print(ele[\"Path\"])"
      ],
      "metadata": {
        "colab": {
          "base_uri": "https://localhost:8080/"
        },
        "id": "pfJCb0DW_U7c",
        "outputId": "c6162173-dbbd-4126-ff4c-fd5a0caa7d95"
      },
      "execution_count": null,
      "outputs": [
        {
          "output_type": "stream",
          "name": "stdout",
          "text": [
            "//Document/H1\n",
            "//Document/H1[2]\n",
            "//Document/H1[3]\n",
            "//Document/H1[4]\n",
            "//Document/H1[5]\n",
            "//Document/H1[6]\n",
            "//Document/H1[7]\n",
            "//Document/H1[8]\n",
            "//Document/H1[9]\n",
            "//Document/H1[10]\n",
            "//Document/H1[11]\n",
            "//Document/H1[12]\n",
            "//Document/H1[13]\n",
            "//Document/H1[14]\n",
            "//Document/H2\n",
            "//Document/H3\n",
            "//Document/H4\n",
            "//Document/H3[2]\n",
            "//Document/H4[2]\n",
            "//Document/H5/Sub\n",
            "//Document/H5/Sub[2]\n",
            "//Document/H4[3]\n",
            "//Document/H1[15]\n",
            "//Document/H2[2]\n",
            "//Document/H3[3]\n",
            "//Document/H4[4]\n",
            "//Document/H4[5]\n",
            "//Document/H4[6]\n",
            "//Document/H3[4]\n",
            "//Document/H1[16]\n",
            "//Document/H1[17]\n",
            "//Document/H2[3]\n",
            "//Document/H1[18]\n",
            "//Document/H2[4]\n",
            "//Document/H1[19]\n",
            "//Document/H1[20]/Sub\n",
            "//Document/H1[20]/Sub[2]\n",
            "//Document/H2[5]\n",
            "//Document/H2[6]\n",
            "//Document/H2[7]\n",
            "//Document/H1[21]\n",
            "//Document/H2[8]\n",
            "//Document/H2[9]\n",
            "//Document/H2[10]\n",
            "//Document/H2[11]\n",
            "//Document/H1[22]\n",
            "//Document/H2[12]\n",
            "//Document/H2[13]\n",
            "//Document/H2[14]\n",
            "//Document/H2[15]\n"
          ]
        }
      ]
    },
    {
      "cell_type": "code",
      "source": [
        "heading_counter = 0\n",
        "\n",
        "heading_list_9 = []\n",
        "heading_values_list_9 = []\n",
        "\n",
        "heading_values = \"\"\n",
        "heading_counter = 0\n",
        "\n",
        "for ele in data4[\"elements\"]:\n",
        "    if \"Document/H\" in ele[\"Path\"]:\n",
        "        heading_values_list_9.append(heading_values)\n",
        "        heading_values = \"\"\n",
        "        heading_counter = 0\n",
        "        if heading_counter == 0:\n",
        "            heading_counter = 1\n",
        "            heading_value_1 = ele[\"Text\"]\n",
        "            heading_list_9.append(heading_value_1)\n",
        "            continue\n",
        "    if \"Text\" in ele and heading_counter == 1:\n",
        "        heading_values += ele[\"Text\"]\n",
        "        # print(heading_values)\n",
        "\n",
        "heading_values_list_9.append(heading_values)\n",
        "\n",
        "print(heading_list_9)\n",
        "print(heading_values_list_9[1:])"
      ],
      "metadata": {
        "colab": {
          "base_uri": "https://localhost:8080/"
        },
        "id": "Hr9hNod9_ZjE",
        "outputId": "2b61228c-5639-412b-8f33-b75fe7454577"
      },
      "execution_count": null,
      "outputs": [
        {
          "output_type": "stream",
          "name": "stdout",
          "text": [
            "['\\ue021\\ue022\\ue023 \\ue024\\ue025\\ue026\\ue022 \\ue027\\ue028\\ue029\\ue02a\\ue02b \\ue02c\\ue02a\\ue02d\\ue02e \\ue022\\ue02b\\ue028 \\ue022\\ue02f \\ue02d\\ue02e\\ue028 \\ue02f\\ue022\\ue025\\ue025\\ue022\\ue02c\\ue02a\\ue02b\\ue029 (\\ue0306): ', '4. Wretched Royalty ', '\\ue02d\\ue02e\\ue02a\\ue02b\\ue029\\ue026 \\ue02c\\ue028\\ue033\\ue028 \\ue029\\ue022\\ue02a\\ue02b\\ue029 \\ue026\\ue022 \\ue02c\\ue028\\ue025\\ue025, \\ue023\\ue02b\\ue02d\\ue02a\\ue025... (\\ue0306) ', '\\ue021\\ue022\\ue023 \\ue027\\ue028\\ue029\\ue02a\\ue02b \\ue02c\\ue02a\\ue02d\\ue02e \\ue02d\\ue02c\\ue022 \\ue022\\ue02f \\ue02d\\ue02e\\ue028 \\ue02f\\ue022\\ue025\\ue025\\ue022\\ue02c\\ue02a\\ue02b\\ue029 (\\ue0306): ', '5. Heretical Priest ', '\\ue023\\ue02b\\ue02e\\ue022\\ue025\\ue021 \\ue022\\ue033\\ue02a\\ue029\\ue02a\\ue02b\\ue026 ', '\\ue024\\ue027\\ue02a\\ue025\\ue02a\\ue02d\\ue02a\\ue028\\ue026 ', '\\ue021\\ue022\\ue023 \\ue027\\ue028\\ue029\\ue02a\\ue02b \\ue02c\\ue02a\\ue02d\\ue02e \\ue022\\ue02b\\ue028 \\ue022\\ue02f \\ue02d\\ue02e\\ue028 \\ue02f\\ue022\\ue025\\ue025\\ue022\\ue02c\\ue02a\\ue02b\\ue029 (\\ue0306): ', '6. Occult herbmaster ', '\\ue032\\ue033\\ue022\\ue027\\ue024\\ue027\\ue025\\ue021 \\ue033\\ue024\\ue02a\\ue026\\ue028\\ue030 \\ue02a\\ue02b (\\ue0308) ', '…\\ue027\\ue023\\ue02d \\ue034\\ue024\\ue021 \\ue024\\ue025\\ue026\\ue022 \\ue035\\ue022\\ue034\\ue028 \\ue02f\\ue033\\ue022\\ue034 ', '\\ue024\\ue027\\ue02a\\ue025\\ue02a\\ue02d\\ue02a\\ue028\\ue026 ', '\\ue022\\ue035\\ue035\\ue023\\ue025\\ue02d \\ue02e\\ue028\\ue033\\ue027\\ue034\\ue024\\ue026\\ue02d\\ue028\\ue033 \\ue030\\ue028\\ue035\\ue022\\ue035\\ue02d\\ue02a\\ue022\\ue02b\\ue026 (\\ue0308) ', 'Creatures ', 'Seth, Goblin ', '\\ue02e\\ue032 6 Morale 7 Ropy skin -\\ue0292 Knife/shortbow \\ue0294 ', 'Bent, Scum ', '\\ue02e\\ue032 7 Morale 8 No armor Poisoned knife \\ue0294 + special ', 'Zukuma, berserker ', '\\ue02e\\ue032 13 Morale 9 Hardened skin -\\ue0292 ', 'Wields (\\ue0304) ', 'Wrat, Wraith ', 'Belze, blood-drenched skeleton ', '\\ue02e\\ue032 7 Morale 8 No armor Shortsword \\ue0294 or Knife \\ue0294 Bony knuckles \\ue0292 ', 'Lich, Undead (weak) necromancer ', 'Arbint, Troll ', 'Nodh, zombie ', 'Lady Porcelain, undead doll ', '\\ue02e\\ue032 11 Morale – Porcelain -\\ue0292 Claws/piercing bite \\ue0294 ', '\\ue021inx, Grotesque ', 'Aland, Wickhead knife-wielder ', '\\ue02e\\ue032 10 Morale 7 No armor Knife with dried blood \\ue0294 ', 'Eulotha, Wyvern ', '\\ue02e\\ue032 25 Morale 10 \\ue036ick hide -\\ue0294 Bite/Sting \\ue0296 ', 'Outcasts (followers) ', '1. Earthbound ', '\\ue02e\\ue032 8 Morale 7 Leather -\\ue0292 Sta\\ue037/Femur \\ue0294 ', '\\ue02d\\ue033\\ue024\\ue02a\\ue02d (\\ue0304) ', '\\ue026\\ue032\\ue028\\ue035\\ue02a\\ue024\\ue025\\ue02a\\ue02d\\ue021 (\\ue0304) ', '\\ue038\\ue024\\ue025\\ue023\\ue028\\ue026 (\\ue0306) ', '2. Wild Wickhead ', '\\ue02e\\ue032 10 Morale 7 No armor Knife \\ue0294 ', '\\ue02d\\ue033\\ue024\\ue02a\\ue02d (\\ue0304) ', '\\ue026\\ue032\\ue028\\ue035\\ue02a\\ue024\\ue025\\ue02d\\ue021 (\\ue0304) ', '\\ue038\\ue024\\ue025\\ue023\\ue028\\ue026 (\\ue0306) ', '3. Pale one ', '\\ue02e\\ue032 5 Morale 8 No armor unarmed \\ue0292 ', '\\ue02d\\ue033\\ue024\\ue02a\\ue02d (\\ue0304) ', '\\ue026\\ue032\\ue028\\ue035\\ue02a\\ue024\\ue025\\ue02a\\ue02d\\ue021 (\\ue0304), \\ue022\\ue02b\\ue035\\ue028 \\ue032\\ue028\\ue033 \\ue030\\ue024\\ue021 ', '\\ue038\\ue024\\ue025\\ue023\\ue028\\ue026 (\\ue0306) ']\n",
            "['1 \\ue021\\ue022\\ue023\\ue024\\ue025\\ue026 \\ue027\\ue028 \\ue028\\ue022\\ue024\\ue025: What use are maps when the substance of causality itself is open to you? You know the right way with a \\ue029\\ue0268 Presence test. 2 \\ue02a\\ue027\\ue027\\ue02b \\ue027\\ue028 \\ue02a\\ue027\\ue02c\\ue02d\\ue02c\\ue02e\\ue02f \\ue02a\\ue02d\\ue027\\ue027\\ue029: You may open and read from this book once a day. Your enemy must make a \\ue029\\ue02612 test to prevent this. If they fail D2 Berserker-slayers (see page 59) appear from the depths of a forgo\\ue030en dimension of blood. Roll a D6. On a 1–4 these creatures fight alongside you. On a 5–6 they turn on you, a\\ue030empting to kill you and destroy the book. After the ba\\ue030le they return to their imprisonment. 3 \\ue023\\ue031\\ue025\\ue022\\ue02b\\ue025\\ue026 \\ue027\\ue028 \\ue024\\ue026\\ue032\\ue024\\ue033\\ue023: Twice per day use your wisdom, knowledge, advice and inner calm to bring clarity to a creature of your choice. \\ue034e \\ue029\\ue026 of the next test they undertake is lowered by 4. 4 \\ue02c\\ue02e\\ue02c\\ue024\\ue02c\\ue022\\ue024\\ue025 \\ue027\\ue028 \\ue024\\ue033\\ue025 \\ue02c\\ue02e\\ue035\\ue02c\\ue023\\ue02c\\ue02a\\ue02d\\ue025 \\ue036\\ue027\\ue02d\\ue02d\\ue025\\ue02f\\ue025: Once per day you may summon D2 scrolls, whose power can be used only once. Roll a \\ue0294, on a 1–2 the scrolls are sacred, on a 3–4, unclean. If the scrolls are not used before sunrise they turn to ash. 5 \\ue02a\\ue022\\ue026\\ue029 \\ue027\\ue028 \\ue024\\ue033\\ue025 \\ue032\\ue02e\\ue029\\ue037\\ue02c\\ue02e\\ue02f: You learnt your melodies in the Otherworld. \\ue034e music of your Harp gives +D4 on reaction rolls. 6 \\ue033\\ue022\\ue038\\ue02b \\ue022\\ue023 \\ue038\\ue025\\ue022\\ue031\\ue027\\ue02e: Your crafty almost-intelligent hawk is loyal only to you. Even without shared language, you understand its cries as it keeps watch, scouts and swoops to a\\ue030ack foes.  A\\ue031acks/defence \\ue029\\ue02610 (claws/bite D4) \\ue02e\\ue032 8. ', 'B\\ue027\\ue038\\ue025\\ue029 \\ue029\\ue027\\ue038\\ue02e \\ue027\\ue02e\\ue02d\\ue037 \\ue02a\\ue037 \\ue024\\ue033\\ue025 \\ue021\\ue025\\ue021\\ue027\\ue026\\ue02c\\ue025\\ue023 of your own lost glory, you could never submit to anyone else. Not you, of noble blood! (Not that you expect these peons to understand the depths of your sorrow.) Begins with 4\\ue0296 10s and \\ue0292 Omens. \\ue033\\ue031: Toughness + \\ue0296. ', '1 your Wästland palace was reduced to rubble. 2 your caravan kingdom of Tveland fell into penury. 3 King Fathmu IX’s brother Zigmund, your father, was murdered. 4 the southern empire of Südglans sank into the sea. 5 Anthelia demanded a gift of noble blood. 6 two young princes were kidnapped west of Bergen Chrypt and disappeared into the black crevasse of the eastern slopes. \\ue031\\ue022\\ue02c\\ue02e\\ue028\\ue032\\ue02d\\ue02d\\ue037 \\ue022\\ue035\\ue025\\ue026\\ue022\\ue02f\\ue025, you adjust no abilities. Roll a \\ue0298 on the weapons table. Roll a \\ue0294 on the armor table but reroll if you receive heavy armor. ', '1 \\ue024\\ue033\\ue025 \\ue02a\\ue02d\\ue022\\ue029\\ue025 \\ue027\\ue028 \\ue037\\ue027\\ue032\\ue026 \\ue022\\ue02e\\ue036\\ue025\\ue023\\ue024\\ue027\\ue026\\ue023: \\ue034is magnificent and clearly magical talking sword is foppish, unreliable and quietly despises you. It taunts your failures and, if continually disappointed, develops a 1 in 6 chance to ‘accidentally’ a\\ue030ack you or your companions. Deals \\ue0296+1 damage. A\\ue030ack/Defence \\ue029\\ue026 is 10. 2  ‘\\ue031\\ue027\\ue02d\\ue024\\ue026\\ue027\\ue027\\ue02e’ \\ue024\\ue033\\ue025 \\ue036\\ue027\\ue032\\ue026\\ue024 \\ue039\\ue025\\ue023\\ue024\\ue025\\ue026: While practically useless, personally irritating and an emotional drain, Poltroon’s capering actually makes enemies lose their focus in combat. For the first two rounds you and your allies get +2 on a\\ue030ack/defence. 3 \\ue02a\\ue022\\ue026\\ue02a\\ue022\\ue026\\ue02c\\ue023\\ue024\\ue025\\ue026 \\ue024\\ue033\\ue025 \\ue02c\\ue02e\\ue036\\ue026\\ue025\\ue029\\ue02c\\ue02a\\ue02d\\ue025 \\ue033\\ue027\\ue026\\ue023\\ue025: Barbarister is magical, intelligent, arrogant and vain. He can also talk. If you can persuade him to care, Barbarister occasionally adds +2 to Presence tests involving logic and intellect. \\ue034e horse may be smarter than you and is quite aware of this. 4 \\ue033\\ue022\\ue021\\ue028\\ue032\\ue02e\\ue029 \\ue024\\ue033\\ue025 \\ue023\\ue03a\\ue032\\ue02c\\ue026\\ue025: \\ue034is intensely cowardly servant acts only as guardian for the scabbard of the cursed sword Eurekia. Once per combat, if Ham can be found, Eurekia may be drawn. \\ue034e sword does 2\\ue0296 damage, and for every swing of Eurekia roll a \\ue0296. On a 1 the squire is slain and Eurekia vanishes forever. 5 \\ue024\\ue033\\ue025 \\ue023\\ue02e\\ue022\\ue02b\\ue025-\\ue023\\ue02b\\ue02c\\ue02e \\ue02f\\ue02c\\ue028\\ue024: An expensive sandalwood box bound in snakeskin. It contains a seemingly ordinary dagger, wrapped in silk. \\ue034e dagger does \\ue0294 damage but on a 1 the target dies immediately of deadly poison weeping from the blade. 6 \\ue033\\ue027\\ue026\\ue02e \\ue027\\ue028 \\ue024\\ue033\\ue025 \\ue023\\ue036\\ue033\\ue02d\\ue025\\ue023\\ue038\\ue02c\\ue02f \\ue02d\\ue027\\ue026\\ue029\\ue023! Once per day release a blare from this dented old trumpet and test Presence \\ue029\\ue02612. One creature may make their next non-combat test an automatic success. ', 'H\\ue032\\ue02e\\ue024\\ue025\\ue029 \\ue02a\\ue037 \\ue024\\ue033\\ue025 \\ue024\\ue038\\ue027-\\ue033\\ue025\\ue022\\ue029\\ue025\\ue029 \\ue02a\\ue022\\ue023\\ue02c\\ue02d\\ue02c\\ue023\\ue02b\\ue023 of the One True Faith, this heretic can be found raving in ruins, traipsing endlessly down dusty roads and desecrating cathedrals by night. Begins with 3\\ue0296 \\ue03b 10s and \\ue0294 Omens. \\ue033\\ue031: Toughness + \\ue0298 ', '1 Galgenbeck, near the cathedral of the Two-Headed Basilisks. 2 Massacred Alliáns cult, sole survivor. 3 \\ue034e crypts of Grift. 4 Temple ruins in the Valley of the Unfortunate Undead. 5 One of the many Graven-Tosk thief-tunnels. 6 Secret Bergen Chrypt church. ', '\\ue02c\\ue02e\\ue023\\ue02c\\ue02f\\ue033\\ue024\\ue028\\ue032\\ue02d, roll 3\\ue0296+2 for Presence. \\ue028\\ue026\\ue022\\ue02c\\ue02d, roll 3\\ue0296-2 for Strength. Roll a \\ue0298 on the weapons table and may use Powers while wearing medium armor. ', '1 \\ue023\\ue022\\ue036\\ue026\\ue025\\ue029 \\ue023\\ue033\\ue025\\ue031\\ue033\\ue025\\ue026\\ue029’\\ue023 \\ue036\\ue026\\ue027\\ue027\\ue02b: Its head a hook of human bone inscribed with overlapping anti-prayers. \\ue034is crook hooks through other worlds. Sta\\ue03c does 2\\ue0294 damage except to faithless humans. 2 \\ue023\\ue024\\ue027\\ue02d\\ue025\\ue02e \\ue021\\ue02c\\ue024\\ue026\\ue025: While wearing this holy hat the priest’s vile body fades, becoming hard to hit in combat (Defence \\ue029\\ue02610). If pulled over the ears outside of ba\\ue030le the priest becomes nearly invisible, testing stealth against \\ue029\\ue0268. 3 \\ue02d\\ue02c\\ue023\\ue024 \\ue027\\ue028 \\ue023\\ue02c\\ue02e\\ue023: A long and accurate document cross-referenced against reality to discover unseen evil-doers. Successful Presence \\ue029\\ue02610: A strange light surrounds evil creatures. \\ue034e list’s owner defends with +2 against any being discovered this way. 4 \\ue024\\ue033\\ue025 \\ue02a\\ue02d\\ue022\\ue023\\ue031\\ue033\\ue025\\ue021\\ue027\\ue032\\ue023 \\ue02e\\ue025\\ue036\\ue033\\ue026\\ue032\\ue02a\\ue025\\ue02d \\ue02a\\ue02c\\ue02a\\ue02d\\ue025: So intensely blasphemous even the Priests themselves can only peruse it once per day. When read, roll a die. Even result: For the rest of the day \\ue031\\ue036s heal \\ue0294 \\ue033\\ue031 after just five minutes of rest. Odd result: \\ue034e priest is plagued by demonic hallucinations. \\ue034e DM may invent \\ue0293 things that only the Priest can see and describe them to the player as if true. \\ue034is e\\ue03cect ends with sunrise. 5 \\ue023\\ue024\\ue027\\ue02e\\ue025\\ue023 \\ue024\\ue022\\ue02b\\ue025\\ue02e \\ue028\\ue026\\ue027\\ue021 \\ue024\\ue033\\ue025\\ue02d-\\ue025\\ue021\\ue022\\ue023’ \\ue02d\\ue027\\ue023\\ue024 \\ue024\\ue025\\ue021\\ue031\\ue02d\\ue025: Cast the stones on the ground. \\ue034eir pa\\ue030ern reveals if danger lurks in an adjacent room. \\ue034e stones can lie. \\ue034e priest tests Presence \\ue029\\ue02610 to see if they are true but after failing they cannot test again until the sun has set. 666 (\\ue038\\ue026\\ue027\\ue02e\\ue02f \\ue039\\ue025\\ue023\\ue032\\ue023) \\ue036\\ue026\\ue032\\ue036\\ue02c\\ue028\\ue02c\\ue03d: \\ue034e crucifix can be used in encounters with the undead as well as lesser trolls and goblins. Check morale (add or subtract the priest’s Presence modifier) to see if the creatures bow and kindly remove themselves. ', 'B\\ue027\\ue026\\ue02e \\ue027\\ue028 \\ue024\\ue033\\ue025 \\ue021\\ue032\\ue023\\ue033\\ue026\\ue027\\ue027\\ue021, raised in the glade, watched by the eye of the moon in a silverblack pool. Begins with 2\\ue0296 \\ue03b 10s and \\ue0292 Omens. \\ue033\\ue031: Toughness + \\ue0296 ', '1–3 calm isolation in the Sarkash dark. ', '4 the illegal midnight markets of Schleswig. 5 the heretic isle of Crëlut,two nautical miles east of Grift. 6 the old frozen ruins not far from Alliáns. 7 a li\\ue030le witches co\\ue030age in Galgenbeck. 8 the ruins of the Shadow King’s manse, thick with memories of mushrooms and smoke. ', '\\ue024\\ue027\\ue032\\ue02f\\ue033 \\ue022\\ue023 \\ue038\\ue027\\ue027\\ue029, roll 3\\ue0296+2 Toughness. \\ue02d\\ue027\\ue038 \\ue02c\\ue02e \\ue031\\ue026\\ue027\\ue024\\ue025\\ue02c\\ue02e, roll 3\\ue0296-2 Strength. Roll \\ue0296 on the weapons table and \\ue0292 on the armor table. You carry a \\ue031\\ue027\\ue026\\ue024\\ue022\\ue02a\\ue02d\\ue025 \\ue02d\\ue022\\ue02a\\ue027\\ue026\\ue022\\ue024\\ue027\\ue026\\ue037 and continually search for frequently expended ingredients. Daily you have the materials to create two randomly determined decoctions and can brew a total of \\ue0294 doses. If unused they lose vitality after 24 hours. ', '1 \\ue026\\ue025\\ue029 \\ue031\\ue027\\ue02c\\ue023\\ue027\\ue02e: Toughness \\ue029\\ue02612 or -\\ue02910 \\ue033\\ue031. 2 \\ue025\\ue03e\\ue032\\ue021\\ue02c\\ue025\\ue02d\\ue023 \\ue035\\ue022\\ue031\\ue027\\ue026: Pass a \\ue029\\ue02614 test or severe (and arguably fun) hallucinations for \\ue0294 hours. 3 \\ue023\\ue027\\ue032\\ue024\\ue033\\ue025\\ue026\\ue02e \\ue028\\ue026\\ue027\\ue02f \\ue023\\ue024\\ue025\\ue038: Vomit for \\ue0294 hours, pass a \\ue029\\ue02614 test or you can do nothing else. 4 \\ue025\\ue02d\\ue02c\\ue03d\\ue02c\\ue026 \\ue035\\ue02c\\ue024\\ue022\\ue02d\\ue02c\\ue023: Heals \\ue0296 \\ue033\\ue031 and stops infection.  Can be habit-forming. 5 \\ue023\\ue031\\ue02c\\ue029\\ue025\\ue026-\\ue027\\ue038\\ue02d \\ue023\\ue027\\ue032\\ue031: See in darkness, climb on walls for 30 minutes. 6 \\ue028\\ue025\\ue026\\ue02e\\ue027\\ue026’\\ue023 \\ue031\\ue033\\ue02c\\ue02d\\ue024\\ue026\\ue025: Translucent oil, must be dabbed right into the eye. Heals infection and gives +2 on Presence tests for \\ue0294 hours. 7 \\ue033\\ue037\\ue031\\ue033\\ue027\\ue023’ \\ue025\\ue02e\\ue025\\ue026\\ue035\\ue022\\ue024\\ue02c\\ue02e\\ue02f \\ue023\\ue02e\\ue032\\ue028\\ue028: Berserk! Two a\\ue030acks per round but defend with \\ue029\\ue02614. Lasts one fight. Must be snorted, causes sneezing. 8 \\ue02a\\ue02d\\ue022\\ue036\\ue02b \\ue031\\ue027\\ue02c\\ue023\\ue027\\ue02e: Toughness \\ue029\\ue02614 or -\\ue0296 \\ue033\\ue031 and blinded for one hour. ', '', '', 'Special: Quick, a\\ue030acks and defence are \\ue029\\ue02614. A\\ue02d\\ue02d \\ue02f\\ue027\\ue02a\\ue02d\\ue02c\\ue02e\\ue023 \\ue036\\ue022\\ue026\\ue026\\ue037 \\ue022 \\ue036\\ue032\\ue026\\ue023\\ue025. Once like you, they are now trapped in the prison of their crazed goblin flesh. Only their eyes reveal the truth: a ruined mind watching its body-prison perform terrible deeds. Even being a\\ue030acked by goblins sends the curse, carried on the winds of their hate. Hit or miss, it doesn’t ma\\ue030er. In the dark of Sarkash they shoot at passers-by with twanging bows. You must find and kill the goblin before your mind is paralyzed. If the cursecarrying creature still lives \\ue0296 days after the a\\ue030ack, you will warp irrevocably into one yourself. \\ue034en, only the dark of Sarkash will hide you. Head 7s Captured 150s Dead 20s ', '', 'Special: Poisoned knife. Test Toughness \\ue029\\ue02610 or become infected. T\\ue033\\ue025\\ue026\\ue025 \\ue022\\ue026\\ue025 \\ue028\\ue025\\ue038 \\ue028\\ue02c\\ue025\\ue02e\\ue029\\ue023 \\ue021\\ue027\\ue026\\ue025 \\ue028\\ue025\\ue02d\\ue02d than poverty or monsters more powerful than hate. In this stricken world, the slums and black alleyways are fecund scum, mothering countless abhorred miscreants. \\ue034e \\ue031\\ue036 with the highest Presence makes a \\ue029\\ue02614 test at the start of ba\\ue030le. Failure means a random party member is automatically hit with a cowardly backstab-normal damage +3. Captured 50–120s (wanted, serious crime) Dead 20–70s (wanted, serious crime) ', '', '', '1 Long flail \\ue0298 2 Heavy mace \\ue0296 3 Chained sword \\ue0296 4 Huge warhammer \\ue02910 T\\ue033\\ue025\\ue037’\\ue026\\ue025 \\ue027\\ue02e \\ue037\\ue027\\ue032! As if from nowhere, a frenzied ambush in dusty hallways and from behind the stacked black stones of catacombs. Special A\\ue030acks twice per round but doesn’t have time for defence (\\ue029\\ue02610 to hit them). Dead 20s Captured 55s Blood, per litre 3s ', '\\ue02e\\ue032 15 Morale – No armor Touch \\ue0294 + special Special: Swift, elusive and di\\ue03fcult to hit (\\ue029\\ue02614). T\\ue033\\ue025\\ue023\\ue025 \\ue023\\ue027\\ue032\\ue02e\\ue029\\ue02d\\ue025\\ue023\\ue023 \\ue031\\ue033\\ue022\\ue02e\\ue024\\ue027\\ue021\\ue023 always win initiative. \\ue034eir touch drains Strength, Presence and Agility by 1 for the duration of the fight. Captured 120s Skull 70s Ectoplasm 25s ', '', 'Special: Skulks about, impossibly soundless. A\\ue030acks by surprise. C\\ue022\\ue02e \\ue021\\ue02c\\ue021\\ue02c\\ue036 \\ue035\\ue027\\ue02c\\ue036\\ue025\\ue023 to lure victims, but can only repeat what it has heard. A\\ue030acks on them with piercing weapons are \\ue029\\ue02614. Any strike doing 5 or more damage destroys the skeleton completely. Captured 35s Destroyed 7s ', '\\ue02e\\ue032 15 Morale – Barrier (necro) -\\ue0294 Strike \\ue0296 + special Special: Paralyzing touch (Presence \\ue029\\ue02614 every round to break free). N\\ue027 \\ue027\\ue02e\\ue025 \\ue036\\ue022\\ue02e \\ue032\\ue023\\ue025 \\ue031\\ue027\\ue038\\ue025\\ue026\\ue023 near this anti-magical wound in reality. Every round they can steal the contents of a nearby scroll and use this Power against its owner. Captured 200s Remains 130s Skull 100s ', '\\ue02e\\ue032 32 Morale special \\ue036ick hide -\\ue0292 Fist 2\\ue0296 Special: Easy to hit; a\\ue030acks are \\ue029\\ue02610. C\\ue027\\ue038\\ue022\\ue026\\ue029\\ue023 \\ue029\\ue025\\ue023\\ue031\\ue02c\\ue024\\ue025 \\ue024\\ue033\\ue025\\ue02c\\ue026 \\ue023\\ue02c\\ue03e\\ue025. Usually retreat if badly wounded. Never forget who hurt them. \\ue034ey grow larger during the healing process and will definitely come back, stronger than before. Any \\ue033\\ue031 healed is added to their maximum \\ue033\\ue031. Every time they return, add another \\ue0296 to their damage. Captured 200s Corpse 70s Horn 25s ', '\\ue02e\\ue032 7 Morale – Leather scraps -\\ue0292 Claw/bite \\ue0292 + special Special: Anyone bi\\ue030en tests Toughness \\ue029\\ue0268 or dies within two days before rising as a zombie. \\ue034e only cure or vaccine is said to be found at the peak of a pale mountain within an infinitely-miserable forest of dark leaves. \\ue02b\\ue02c\\ue02e\\ue02f \\ue028\\ue022\\ue024\\ue033\\ue021\\ue032 \\ue02c\\ue03d \\ue027\\ue028 \\ue038\\ue040\\ue023\\ue024\\ue02d\\ue022\\ue02e\\ue029 in particular seeks this cure and knows the name and location of the forest which the mountain overlooks. 30s Captured 5s Blood, per litre ', '', 'I\\ue02e \\ue024\\ue035\\ue025\\ue02d\\ue022\\ue02e\\ue029 relic thieves, defamers and corrupt clerks su\\ue03cer a punishment of exquisite and deeply impractical cruelty. \\ue034eir children or grandchildren are enclosed in porcelain dolls then placed in cathedral windows, to die slowly of starvation and heat. Despite warding rituals, many return as vengeful undead, often gathering in large throngs to hunt their tormentors. \\ue034eir mad gaze demands a Presence \\ue029\\ue02612 test at the start of combat to avoid being frozen with fear for \\ue0294 rounds. Head 20s Captured 80s ', '\\ue02e\\ue032 18 Morale – Clay/stone –\\ue0296 Claws \\ue0296 or Eye-beam \\ue0298 L\\ue032\\ue026\\ue02b\\ue02c\\ue02e\\ue02f \\ue026\\ue027\\ue032\\ue02e\\ue029 \\ue036\\ue033\\ue032\\ue026\\ue036\\ue033\\ue025\\ue023, stalking graveyards, creeping closer when you look away. Disturbingly still, di\\ue03fcult to discern against gray stone and hard to recognize even when seen. \\ue034ey move slowly and are easy to hit (\\ue029\\ue02610). \\ue034eir terrifying gaze is used on 1–2 on a \\ue0296 each round.  Always hits. Captured 190s Dead (intact) 100s Dead (in pieces) 10s ', '', 'S\\ue02e\\ue025\\ue022\\ue02b\\ue023 \\ue032\\ue031 \\ue02a\\ue025\\ue033\\ue02c\\ue02e\\ue029 \\ue02c\\ue024\\ue023 \\ue035\\ue02c\\ue036\\ue024\\ue02c\\ue021\\ue023, silent as the grave. Skulks around the cities’ outskirts and the thickets of Sarkash. 25% chance wounds from the insanely filthy knife become infected. Special: Can magically douse all nearby light sources, ignite its own blinding light and a\\ue030ack. \\ue034en vanish into the darkness. Captured 60s Decapitated lantern 15s Corpse 20s ', '', 'Special: 60% chance that she bites. \\ue034e tail’s venomous sting can paralyze a victim. Test Toughness \\ue029\\ue02614 to avoid one painful hour of paralysis. W\\ue033\\ue025\\ue026\\ue025 \\ue024\\ue033\\ue025 \\ue038\\ue037\\ue035\\ue025\\ue026\\ue02e \\ue028\\ue02d\\ue037 \\ue036\\ue026\\ue027\\ue031\\ue023 \\ue029\\ue02c\\ue025 200s Captured 100s Corpse 60s Poison gland 60s Tail spike ', 'M\\ue027\\ue02e\\ue025\\ue037 \\ue021\\ue02c\\ue02f\\ue033\\ue024 \\ue036\\ue026\\ue027\\ue023\\ue023 \\ue033\\ue022\\ue02e\\ue029\\ue023 but these weirdos don’t cost silver to hire. Vagrants and refugees driven by loneliness, they just want somewhere to belong. Which is exactly why they often break into a run and disappear, usually at the most critical moments. \\ue034e \\ue02f\\ue021 makes a morale check from time to time (succeed and the outcast stays) and adds the group’s highest Presence to the roll. \\ue034e \\ue02f\\ue021 should also consider whether or not the group provides the outcast with the things he/she/it values. ', '', 'T\\ue033\\ue025\\ue023\\ue025 \\ue028\\ue026\\ue025\\ue022\\ue02b\\ue023 \\ue022\\ue026\\ue025 \\ue026\\ue027\\ue032\\ue02f\\ue033\\ue02d\\ue037 \\ue024\\ue033\\ue026\\ue025\\ue025 \\ue031\\ue022\\ue026\\ue024\\ue023 \\ue033\\ue032\\ue021\\ue022\\ue02e to one part dog. Society sees them as foul, diseased and disloyal for a carrier of canine blood. Isolation and contempt have made them self-reliant scavengers. ', '1 Arrogant 2 Quiet 3 Joking 4 Hypochondriac ', '1 Excellent cooking (\\ue0294 extra \\ue033\\ue031 when resting) 2 Finds the right path 3 Senses danger 4 Makes/repairs items ', '1 Fireplace discussions 2 Praise 3 Endless tasks 4 Items as payment 5 Carnal relations 6 Diluted black poison ', '', 'W\\ue02c\\ue036\\ue02b\\ue033\\ue025\\ue022\\ue029\\ue023 \\ue022\\ue026\\ue025 \\ue023\\ue027\\ue02d\\ue02c\\ue024\\ue022\\ue026\\ue037 \\ue02a\\ue037 \\ue02e\\ue022\\ue024\\ue032\\ue026\\ue025, but the wildest and vilest are cast even from that loose community. Wandering forests and rambling ruins, they take any company they can find. Fickle, suspicious and bad, you would be well-advised to keep them chained. ', '1 Grumpy 2 Apathetic 3 Careless 4 Moody ', '1-2 Walking lightsource 3 Expert with a knife (\\ue0294+2) 4 Backstab (test \\ue029\\ue0268 with \\ue02920 rolled by the \\ue02f\\ue021. Deals weapon damage + 3) Aside from their specialty they will carry up to five items. ', '1 Holding long monologues about oneself 2 Verbal conflicts within the group 3 Ge\\ue030ing paid in sharp weapons 4 Burnt meat 5 Depressing stories 6 Captured slaves ', '', 'A\\ue023 \\ue02c\\ue028 \\ue028\\ue022\\ue02d\\ue02d\\ue025\\ue02e \\ue028\\ue026\\ue027\\ue021 \\ue024\\ue033\\ue025 \\ue023\\ue024\\ue022\\ue026\\ue023 the pale ones fit in nowhere. \\ue034is unwilling alienation makes them destructive and detached. ', '1 Bi\\ue030er 2 Incoherent 3 Mute 4 Self-harming behaviour ', '1 Create \\ue0292 doses of a random decoction (see the class Occult Herbmaster) 2 Create \\ue0292 doses Elixir Vitalis (heals \\ue0296 \\ue033\\ue031 and stops infection) 3 Use one random unclean Power 4 Use one random sacred Power ', '1 Not having to use their speciality all the time 2 Cleanliness 3 Listening to melancholic melodies 4 A couple of hours alone in darkness 5 Wine 6 Obscure rituals with the group ']\n"
          ]
        }
      ]
    },
    {
      "cell_type": "code",
      "source": [
        "print(len(heading_list_9))\n",
        "print(len(heading_values_list_9[1:]))"
      ],
      "metadata": {
        "colab": {
          "base_uri": "https://localhost:8080/"
        },
        "id": "j-9J9Ekx_0lZ",
        "outputId": "73bd54b2-d53e-4076-d56c-f910d64a4230"
      },
      "execution_count": null,
      "outputs": [
        {
          "output_type": "stream",
          "name": "stdout",
          "text": [
            "50\n",
            "50\n"
          ]
        }
      ]
    },
    {
      "cell_type": "code",
      "source": [
        "import json\n",
        "\n",
        "with open(\"/content/structuredData5.json\") as f:\n",
        "    data5 = json.load(f)"
      ],
      "metadata": {
        "id": "gGm1uCYs_5xw"
      },
      "execution_count": null,
      "outputs": []
    },
    {
      "cell_type": "code",
      "source": [
        "for ele in data5[\"elements\"]:\n",
        "    if \"Document/H\" in ele[\"Path\"]:\n",
        "        print(ele[\"Path\"])"
      ],
      "metadata": {
        "colab": {
          "base_uri": "https://localhost:8080/"
        },
        "id": "b5zkLNnuAnbH",
        "outputId": "2bc54e07-fc8c-477f-ac47-4a82981f7016"
      },
      "execution_count": null,
      "outputs": [
        {
          "output_type": "stream",
          "name": "stdout",
          "text": [
            "//Document/H1\n",
            "//Document/H1[2]\n",
            "//Document/H1[3]\n",
            "//Document/H1[4]\n",
            "//Document/H2\n",
            "//Document/H2[2]\n",
            "//Document/H2[3]\n",
            "//Document/H2[4]\n",
            "//Document/H2[5]\n",
            "//Document/H1[5]\n",
            "//Document/H2[6]\n",
            "//Document/H2[7]\n",
            "//Document/H2[8]\n",
            "//Document/H2[9]\n",
            "//Document/H2[10]\n",
            "//Document/H1[6]\n",
            "//Document/H2[11]\n",
            "//Document/H2[12]\n",
            "//Document/H2[13]\n",
            "//Document/H1[7]\n",
            "//Document/H2[14]\n",
            "//Document/H2[15]\n",
            "//Document/H1[8]\n",
            "//Document/H2[16]\n",
            "//Document/H3\n",
            "//Document/H3[2]\n",
            "//Document/H1[9]\n",
            "//Document/H2[17]\n",
            "//Document/H2[18]\n",
            "//Document/H2[19]\n",
            "//Document/H2[20]\n",
            "//Document/H2[21]\n",
            "//Document/H2[22]\n"
          ]
        }
      ]
    },
    {
      "cell_type": "code",
      "source": [
        "heading_counter = 0\n",
        "\n",
        "heading_list_10 = []\n",
        "heading_values_list_10 = []\n",
        "\n",
        "heading_values = \"\"\n",
        "heading_counter = 0\n",
        "\n",
        "for ele in data5[\"elements\"]:\n",
        "    if \"Document/H\" in ele[\"Path\"]:\n",
        "        heading_values_list_10.append(heading_values)\n",
        "        heading_values = \"\"\n",
        "        heading_counter = 0\n",
        "        if heading_counter == 0:\n",
        "            heading_counter = 1\n",
        "            heading_value_1 = ele[\"Text\"]\n",
        "            heading_list_10.append(heading_value_1)\n",
        "            continue\n",
        "    if \"Text\" in ele and heading_counter == 1:\n",
        "        heading_values += ele[\"Text\"]\n",
        "        # print(heading_values)\n",
        "\n",
        "heading_values_list_10.append(heading_values)\n",
        "\n",
        "print(heading_list_10)\n",
        "print(heading_values_list_10[1:])"
      ],
      "metadata": {
        "colab": {
          "base_uri": "https://localhost:8080/"
        },
        "id": "f7oPVKbOAso8",
        "outputId": "30c068a7-56e6-4bd2-857b-457a286e73b4"
      },
      "execution_count": null,
      "outputs": [
        {
          "output_type": "stream",
          "name": "stdout",
          "text": [
            "['\\ue023\\ue024\\ue025\\ue026\\ue023\\ue027 (\\ue0284) 1 Lazy ', '\\ue027\\ue022\\ue029\\ue02a\\ue026\\ue025\\ue02b\\ue026\\ue023\\ue02c (\\ue0284), \\ue028\\ue0248 ', '\\ue02d\\ue025\\ue02b\\ue02e\\ue029\\ue027 (\\ue0286) ', \"Even more reasons to risk one's life \", '\\ue02f\\ue021\\ue029\\ue024\\ue029 \\ue028\\ue030 \\ue02c\\ue030\\ue02e \\ue02f\\ue025\\ue031\\ue028\\ue029\\ue024? (\\ue02812) ', '\\ue02f\\ue021\\ue030 (\\ue030\\ue024 \\ue02f\\ue021\\ue025\\ue023) \\ue02a\\ue030\\ue031\\ue023\\ue025\\ue02a\\ue023\\ue027 \\ue02c\\ue030\\ue02e? ', '\\ue02f\\ue021\\ue030 (\\ue030\\ue024 \\ue02f\\ue021\\ue025\\ue023) \\ue02a\\ue030\\ue031\\ue023\\ue025\\ue02a\\ue023\\ue027 \\ue02c\\ue030\\ue02e? \\ue02a\\ue030\\ue031\\ue023. ', '\\ue025\\ue028\\ue02d\\ue029\\ue031\\ue023\\ue02e\\ue024\\ue029 \\ue027\\ue022\\ue025\\ue024\\ue032 (\\ue028100) ', '\\ue025\\ue028\\ue02d\\ue029\\ue031\\ue023\\ue02e\\ue024\\ue029 \\ue027\\ue022\\ue025\\ue024\\ue032 (\\ue028100) \\ue02a\\ue030\\ue031\\ue023. ', 'One of the many Bedeviled Dungeons ', '\\ue02f\\ue021\\ue025\\ue023 \\ue026\\ue027 \\ue026\\ue023 \\ue02a\\ue025\\ue02b\\ue02b\\ue029\\ue028? (\\ue024\\ue030\\ue02b\\ue02b \\ue02812 \\ue023\\ue02f\\ue026\\ue02a\\ue029) ', '\\ue027\\ue023\\ue025\\ue023\\ue02e\\ue027 (\\ue0286) ', '\\ue026\\ue033\\ue033\\ue026\\ue031\\ue029\\ue031\\ue023 \\ue028\\ue025\\ue031\\ue034\\ue029\\ue024 (\\ue02810) ', '\\ue02f\\ue021\\ue030 \\ue030\\ue024 \\ue02f\\ue021\\ue025\\ue023 \\ue028\\ue02f\\ue029\\ue02b\\ue02b\\ue027 \\ue021\\ue029\\ue024\\ue029 \\ue031\\ue030\\ue02f? (\\ue02812) ', '\\ue028\\ue026\\ue027\\ue023\\ue026\\ue031\\ue02a\\ue023\\ue026\\ue02d\\ue029 \\ue035\\ue029\\ue025\\ue023\\ue02e\\ue024\\ue029 (\\ue02812) ', 'Index ', 'THE WORLD ', 'CREATURES ', 'RULES ', 'Abilities and tests ', 'TESTS ', 'DIFFICULTY RATINGS \\ue021DR\\ue022 ', 'Adventuring ', 'Powers / scrolls ', 'AMOUNT PER DAY ', 'WIELD A POWER ', 'Combat ', 'INITIATIVE D6: ', 'TEST ', 'CRIT \\ue021NATURAL 20\\ue022 ', 'FUMBLE \\ue021NATURAL 1\\ue022 ', 'ARMOR TIERS: ', 'BROKEN \\ue0210 HP\\ue022 D4: ']\n",
            "['2 Bragging 3 Liar 4 Traitor ', '1 Disarm traps (you need to find them first) 2 Steal single items 3 Climb impossible routes alone 4 Finds trails and corners that keep the group hidden. ', '1 Payment in silver 2 Food 3 Gossip 4 Liquor 5 Pointless death 6 Ge\\ue031ing the credit for exploits ', '', '1 On the barren fields of Kergüs 2 In the centre of Alliáns 3 On a beach not distant from Grift 4 On a dirty Schleswig street 5 In the poor Wästland countryside 6 At the city wall of Galgenbeck 7 In the untamed wilds of Tveland 8 Near the Valley of the Unfortunate Undead 9 Pre\\ue031y much lost in Sarkash 10 At the Bergen Chrypt tree line 11 Onboard a ship on the Endless Sea 12 In a forgo\\ue031en part of Graven-Tosk ', '1 One-eyed woman who rules the thieves 2 Bureaucrat with enemies and no honor 3 Badly burned priest 4 Noble child said to see dark visions 5 Warrior that switched loyalties 6 Faint whispers from the crypt 7 Remorseful hangman 8 Tortured traitor 9 Reccuring vision in a horrid nightmare 10 Hermit mocked by the other cave-folk 11 Demented elder 12 Sacrifice who escaped a death-cult ', '13 Monk who was bi\\ue031en at night 14 Unshaved mystic at \\ue032e Paunchy Swine 15 Devastated mother dressed in white 16 Sailor too long at sea 17 Scoundrel covered in ulcers 18 Drunk seeress with no teeth 19 Restless soul by the name of Ghast 20 Terrified soldier with broken knees ', '1–2 \\ue032e undead-riddled Valley awaits 3–4 \\ue032irteen priests are missing 5–6 Wrongly imprisoned for murder 7–8 66 sacrifices are needed 9–10 Children missing at Lake Onda 11–12 Sinkhole swallows half of Schleswig 13–14 Sabotage an unholy alliance 15–16 \\ue032e count goes insane at night 17–18 Hunted by bloodthirsty death-cult 19–20 Trapped by an earthquake 21–22 Verhu’s prophecy is false! 23–24 Rumours of a cursed treasure 25–26 Kidnapped blood-wizard 27–28 A dead demon is resurrected 29–30 Every grave is emptied one night 31–32 Enormous cave system near Grift 33–34 \\ue032e dead refuse to stay dead 35–36 PCs are selected for ritual sacrifice 37–38 Anthelia falls severely ill 39–40 PC dopplegangers go berserk 41–42 Take part in a holy mass burial ', '43–44 \\ue032e entire kingdom has nightmares 45–46 Something has infiltrated the court 47–48 Artefact must be destroyed 49–50 Map the land in the west 51–52 Talk of an unexplored island 53–54 Gain the trust of a dangerous hermit 55–56 Find the way to Cube-Violet 57–58 Stop a Grift suicide-cult 59–60 Pardon a mad mass-murderer 61–62 Defend a fort from the undead 63–64 Steal a sarcophagus from a caravan 65–66 A fire threatens to devour Sarkash 67–68 Go to the land of the dead and back 69–70 HE demands a gift. See it delivered 71–72 Powerful elixir needs ingredients 73–74 Slave revolt in Galgenbeck 75–76 Mystical ruins are unearthed 77–78 \\ue032ey’re coming out of the walls! 79–80 \\ue032ree assassinations each night 81–82 Alchemist needs a living goblin 83–84 A strange ship ran aground 85–86 A weirdness leaves Bergen Chrypt 87–88 Seven women with black eyes 89–90 \\ue032e icon’s eyes have been stolen 91–92 \\ue032e beast beneath the bridge 93–94 Movement in a black star’s crater 95–96 Light from broken sewer gate 97–98 Children hum forbidden songs 99–00 Newly discovered path in Sarkash ', 'D\\ue02a\\ue022\\ue023 \\ue028\\ue02a \\ue029\\ue02e\\ue02b\\ue021 \\ue022 \\ue033\\ue022\\ue034. Around 10 rooms is enough  for one night’s session. ', '\\ue032e 1 Slaughter pit 2 Death church 3 Night temple 4 Hadean tunnels 5 Hell crypt 6 Plague grave 7 Sin fort 8 Doom ziggurat 9 Dark den 10 Murder maze 11 Torture house 12 Slave waste ', '1–2 Still active 3–6 Inactive, because (d4) 1 \\ue032e place was invaded 2 Everything ended in disaster 3 It was no longer needed 4 A Misery was fulfilled,  roll to see which one (p. 10) ', '1 Is slowly flooding with (d4): 1–2 oil, 3–4 water 2 Berserkers are appearing 3 Is about to collapse 4 Senses are being distorted 5 Underworld emissions of poisonous spores 6 A hunted cult intends it to be their new hideout 7 A terrible, dormant curse about to be unleashed 8 Fire is spreading from the deepest chamber 9 \\ue032e gate will shut and seal, and not open again until seven days have passed 10 A lethal mechanism is about to activate ', '1 Animated suits of armor ba\\ue031ling goblins 2 Nechrubel-worshipping lich with a skeletal court 3 Heretic cult lead by a possessed 11-year old 4 A vengeful cabal of undead porcelain dolls 5 Desperate thieves guild dying slowly of cholera 6 A meaty mass of slime, larvae and spider legs 7 Wickheads running from foreboding darkness 8 A Bark-Witch and her root-children 9 Four-legged pale gremlins stinking of dirt 10 Tergol’s escaped experiment 11 Disease spreading ochre-beetles 12 Dissident courtiers dedicated to the occult ', '1 Portal to the land of the dead, soon ready 2 Lab where corpses are assembled into golems 3 Black prism which twists all Powers 4 300 emaciated, mutilated prisoners 5 Blind hermit, firmly rooted in the ground,  spreading his vile corruption 6 Bony remains of the Basilisk’s spawn 7 Obelisk that separates body and soul 8 Rooms move around the dungeons center 9 High ceilings, whispers in the upper dark 10 Artwork a\\ue035ecting the surroundings 11 Ensnaring, intelligent plants 12 Giant pools of boiling tar \\ue0284 \\ue0286 \\ue027\\ue025\\ue033\\ue022\\ue02b\\ue029 \\ue024\\ue030\\ue030\\ue033\\ue027 1 1 Inscriptions, the motifs are (d6) 1 Vomit-inducing 2 Terrifying 3 Hypnotic 4 Childish 5 Teleportation causing 6 Ugly and pointless 2 Bloodied beds 3 Flooded 4 Leaning 5 Stinks 6 Fire damage 2 1 Obvious traps 2 Full of blood 3 Torture chamber 4 Sooty walls \\ue0284 \\ue0286 \\ue027\\ue025\\ue033\\ue022\\ue02b\\ue029 \\ue024\\ue030\\ue030\\ue033\\ue027 \\ue02a\\ue030\\ue031\\ue023. 2 5 Freezing draft 6 Creaking doors 3 1 Compact darkness 2 Locked sarcophagi 3 Shelves with (d4)  1–2 obscure literature 3–4 ro\\ue031ing food 4 Abyssal pits 5 Mirrors everywhere 6 Ungodly yet exquisite chandeliers 4 1 U\\ue031erly silent 2 Full of debris 3 Sacrificial altar (d4) 1–2 cracked 3–4 fresh blood 4 Remains of a throne 5 Smoke-filled 6 Bonfire in the center ', '', \"15 Anthelia 10 Anuk Schleger 11 Arkh 10 Basilisks, the 11 Bergen Chrypt 17 Calendar of Nechrubel, the 10 Creton (order) 11 Endless Sea, the 16 Fathmu IX 12 Galgenbeck 11 Gorgh 12 Graven-Tosk 14 Grift 12 Josilfa Migol 12 Kergüs 11 Lusi 12 Nechrubel 17 Prophecy, the 12 Sarkash 14 Sigfúm the kind 13 Shadow King, the 13 Shadow King's Palace, the 12 Tveland 10 Two-Headed Basilisks, the 16 Valley of the Unfortunate Undead 11 Verhu 15 Western Kingdom, the 15 Wästland \", '59 Berserker 60 Blood-drenched skeleton 58 Goblin 62 Grotesque 58 Scum 60 Troll 61 Undead doll 60 Undead necromancer 62 Wickhead knife-wielder 59 Wraith 62 Wyvern 61 Zombie ', '27 Abilities 43 Arcane catastrophes 23 Armor 30 A\\ue021ack 40 Bad habit 29 Broken (0 HP) 39 Broken bodies 17 Calendar of Nechrubel 28 Carrying capacity 30 Combat 21 Create a character 31 Crit 30 Defence 24 Equipment 50 Esoteric hermit 46 Fanged deserter 31 Fumble 33 Ge\\ue021ing be\\ue021er (or worse) 48 Gu\\ue021erborn scum 54 Heretical priest 63 Hirelings 29 Hit Points 31 Infection 30 Initiative 30 Melee a\\ue021ack 32 Morale 56 Occult herbmaster 37 Omens 63 Outcasts 34 Powers 30 Ranged a\\ue021ack 32 Reaction 31 Resting 34 Scrolls 21 Starting equipment 38 Terrible traits 28 Tests 41 Troubling tales 30 Violence 23 Weapons 52 Wretched royalty ', 'AGILITY Defend, balance, swim, \\ue023ee PRESENCE Perceive, aim, charm, wield Powers STRENGTH Crush, lift, strike, grapple TOUGHNESS Resist poison/cold/heat, survive falling ', '', 'Roll d20 ± ability 6 incredibly simple equal to or greater 8 routine than DR to succeed. 10 pre\\ue021y simple Creatures don’t add 12 normal any ability, only roll 14 di\\ue025cult an unmodi\\ue024ed d20 16 really hard against the DR. 18 should not be possible ', \"REACTION \\ue0212D6\\ue022 REST 2–3 Kill! Catch breath heal d4 HP 4–6 Angered A night's sleep heal d6 HP 7–8 Indi\\ue026erent 9–10 Almost friendly 11–12 Helpful Infection: No healing Take d6 damage ach when\\ue027resting. \\ue027day. MORALE \\ue0212D6\\ue022 ROLL MORALE IF If you roll over the creature's Morale, d6: 1–3 Flees 4–6 Surrenders †\\ue022The leader is killed †\\ue022Half the group is eliminated †\\ue022Lone enemy has 1/3 HP left \", '', 'A PC can use their Powers a total of Presence + d4 times per day. Roll the total amount every day. ', \"Make a Presence DR12 test. Failure means the Power doesn't work and the caster takes d2 HP damage, becomes dizzy for an hour and cannot use Powers during that time. For fumbles, see page 43. \", '', '1–3\\ue022Enemies begin 4–6\\ue022Player Characters begin individual: Agility + d6 ', 'Melee DR12 Strength Ranged DR12 Presence Defence DR12 Agility ', 'A\\ue021ack: \\ue0282 damage, armor/ protection reduced one tier. Defence: PC gains a free a\\ue021ack. ', 'A\\ue021ack: Weapon breaks or is lost. Defence: PC takes double damage, armor is reduced  one tier. ', '1. Light -d2 2. Medium -d4 +2 DR Agility tests 3. Heavy -d6 +4 DR Agility tests,  Defence +2 DR ', '1 Fall unconscious for d4 rounds, awaken with d4 HP. 2 Roll a d6: 1–5 = Broken or severed limb. 6 = Lost eye. Can’t act for d4 rounds then become active with d4 HP. 3 Haemorrhage: death in d2 hours unless treated. All tests are DR16 the \\ue024rst hour. DR18 the last hour. 4 Dead. ']\n"
          ]
        }
      ]
    },
    {
      "cell_type": "code",
      "source": [
        "print(len(heading_list_10))\n",
        "print(len(heading_values_list_10[1:]))"
      ],
      "metadata": {
        "colab": {
          "base_uri": "https://localhost:8080/"
        },
        "id": "BSdo1oTpA9yv",
        "outputId": "35d39ea0-6a51-4b17-8a93-4a4a89ef863d"
      },
      "execution_count": null,
      "outputs": [
        {
          "output_type": "stream",
          "name": "stdout",
          "text": [
            "33\n",
            "33\n"
          ]
        }
      ]
    },
    {
      "cell_type": "code",
      "source": [
        "heading_list_final = (\n",
        "    heading_list_1\n",
        "    + heading_list_2\n",
        "    + heading_list_3\n",
        "    + heading_list_4\n",
        "    + heading_list_5\n",
        "    + heading_list_6\n",
        "    + heading_list_7\n",
        "    + heading_list_8\n",
        "    + heading_list_9\n",
        "    + heading_list_10\n",
        ")\n",
        "len(heading_list_final)"
      ],
      "metadata": {
        "colab": {
          "base_uri": "https://localhost:8080/"
        },
        "id": "czDdf5CcBFwz",
        "outputId": "27208b2d-d94f-452d-e50b-284e2f9eb05c"
      },
      "execution_count": null,
      "outputs": [
        {
          "output_type": "execute_result",
          "data": {
            "text/plain": [
              "172"
            ]
          },
          "metadata": {},
          "execution_count": 106
        }
      ]
    },
    {
      "cell_type": "code",
      "source": [
        "values_list_final = (\n",
        "    heading_values_list_1[1:]\n",
        "    + heading_values_list_2[1:]\n",
        "    + heading_values_list_3[1:]\n",
        "    + heading_values_list_4[1:]\n",
        "    + heading_values_list_5[1:]\n",
        "    + heading_values_list_6[1:]\n",
        "    + heading_values_list_7[1:]\n",
        "    + heading_values_list_8[1:]\n",
        "    + heading_values_list_9[1:]\n",
        "    + heading_values_list_10[1:]\n",
        ")"
      ],
      "metadata": {
        "id": "zfL7DZx8BtX1"
      },
      "execution_count": null,
      "outputs": []
    },
    {
      "cell_type": "code",
      "source": [
        "len(values_list_final)"
      ],
      "metadata": {
        "colab": {
          "base_uri": "https://localhost:8080/"
        },
        "id": "MdUWniuICUXd",
        "outputId": "13e6beef-646e-4dc8-9f40-417b9383ec30"
      },
      "execution_count": null,
      "outputs": [
        {
          "output_type": "execute_result",
          "data": {
            "text/plain": [
              "172"
            ]
          },
          "metadata": {},
          "execution_count": 109
        }
      ]
    },
    {
      "cell_type": "code",
      "source": [
        "import pickle\n",
        "\n",
        "with open(\"heading_list_final\", \"wb\") as dl:\n",
        "    pickle.dump(heading_list_final, dl)"
      ],
      "metadata": {
        "id": "wy58_mVBCXl_"
      },
      "execution_count": null,
      "outputs": []
    },
    {
      "cell_type": "code",
      "source": [
        "with open(\"values_list_final\", \"wb\") as dl:\n",
        "    pickle.dump(values_list_final, dl)"
      ],
      "metadata": {
        "id": "hNjs95NHCz4m"
      },
      "execution_count": null,
      "outputs": []
    },
    {
      "cell_type": "code",
      "source": [],
      "metadata": {
        "id": "72s_eK6_DJoy"
      },
      "execution_count": null,
      "outputs": []
    }
  ]
}